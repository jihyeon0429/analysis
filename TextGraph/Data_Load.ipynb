{
 "cells": [
  {
   "cell_type": "code",
   "execution_count": 1,
   "metadata": {
    "ExecuteTime": {
     "end_time": "2021-01-27T00:44:44.926791Z",
     "start_time": "2021-01-27T00:44:44.781426Z"
    }
   },
   "outputs": [],
   "source": [
    "import pandas as pd"
   ]
  },
  {
   "cell_type": "code",
   "execution_count": 22,
   "metadata": {
    "ExecuteTime": {
     "end_time": "2020-12-28T02:33:15.421682Z",
     "start_time": "2020-12-28T02:33:15.407671Z"
    }
   },
   "outputs": [],
   "source": [
    "data = pd.read_csv('./data/data_new.csv')\\\n",
    "[['news_id', 'subject', 'predicate', 'object', 'date', 'company', 'text']]"
   ]
  },
  {
   "cell_type": "markdown",
   "metadata": {},
   "source": [
    "- spo기준 뉴스리스트 생성"
   ]
  },
  {
   "cell_type": "markdown",
   "metadata": {},
   "source": [
    "spo 중복값 있는 애들만 인덱스 추출하기"
   ]
  },
  {
   "cell_type": "code",
   "execution_count": 23,
   "metadata": {
    "ExecuteTime": {
     "end_time": "2020-12-28T02:33:16.181359Z",
     "start_time": "2020-12-28T02:33:16.148417Z"
    }
   },
   "outputs": [
    {
     "data": {
      "text/plain": [
       "43"
      ]
     },
     "execution_count": 23,
     "metadata": {},
     "output_type": "execute_result"
    }
   ],
   "source": [
    "a = data[['subject', 'predicate', 'object']].duplicated()\n",
    "dupidx=[]\n",
    "for i in a.index:\n",
    "    if a[i]==True:\n",
    "        dupidx.append(i)\n",
    "len(dupidx)"
   ]
  },
  {
   "cell_type": "markdown",
   "metadata": {},
   "source": [
    "같은 spo끼리 인덱스리스트 생성"
   ]
  },
  {
   "cell_type": "code",
   "execution_count": 45,
   "metadata": {
    "ExecuteTime": {
     "end_time": "2020-12-28T02:38:29.710884Z",
     "start_time": "2020-12-28T02:38:29.648621Z"
    },
    "scrolled": true
   },
   "outputs": [
    {
     "name": "stdout",
     "output_type": "stream",
     "text": [
      "43\n"
     ]
    },
    {
     "data": {
      "text/plain": [
       "[[12, 26],\n",
       " [67, 75],\n",
       " [114, 118],\n",
       " [22, 161],\n",
       " [76, 188, 247, 392],\n",
       " [76, 188, 247, 392],\n",
       " [69, 248],\n",
       " [77, 249],\n",
       " [256, 257],\n",
       " [258, 259],\n",
       " [144, 274],\n",
       " [279, 281, 285],\n",
       " [6, 283],\n",
       " [279, 281, 285],\n",
       " [186, 332],\n",
       " [46, 338],\n",
       " [47, 339],\n",
       " [371, 377, 978],\n",
       " [76, 188, 247, 392],\n",
       " [116, 411],\n",
       " [451, 454],\n",
       " [452, 455],\n",
       " [190, 526, 897],\n",
       " [508, 532],\n",
       " [515, 536],\n",
       " [514, 537],\n",
       " [516, 538],\n",
       " [643, 646],\n",
       " [668, 676],\n",
       " [669, 677],\n",
       " [638, 683, 884],\n",
       " [725, 731],\n",
       " [755, 801, 889, 977, 985],\n",
       " [859, 868, 869],\n",
       " [859, 868, 869],\n",
       " [872, 875],\n",
       " [638, 683, 884],\n",
       " [755, 801, 889, 977, 985],\n",
       " [190, 526, 897],\n",
       " [755, 801, 889, 977, 985],\n",
       " [371, 377, 978],\n",
       " [14, 980],\n",
       " [755, 801, 889, 977, 985]]"
      ]
     },
     "execution_count": 45,
     "metadata": {},
     "output_type": "execute_result"
    }
   ],
   "source": [
    "l = []\n",
    "for i in dupidx:\n",
    "    s = data.subject[i]\n",
    "    p = data.predicate[i]\n",
    "    o = data.object[i]\n",
    "    df = data[(data['subject']==s) & (data['predicate']==p) & (data['object']==o)]\n",
    "    idx = list(df.index)\n",
    "    l.append(idx)\n",
    "print(len(l))\n",
    "l"
   ]
  },
  {
   "cell_type": "markdown",
   "metadata": {},
   "source": [
    "중복값 제거"
   ]
  },
  {
   "cell_type": "code",
   "execution_count": 46,
   "metadata": {
    "ExecuteTime": {
     "end_time": "2020-12-28T02:38:47.504769Z",
     "start_time": "2020-12-28T02:38:47.494283Z"
    },
    "scrolled": true
   },
   "outputs": [
    {
     "name": "stdout",
     "output_type": "stream",
     "text": [
      "33\n"
     ]
    },
    {
     "data": {
      "text/plain": [
       "[[12, 26],\n",
       " [67, 75],\n",
       " [114, 118],\n",
       " [22, 161],\n",
       " [76, 188, 247, 392],\n",
       " [69, 248],\n",
       " [77, 249],\n",
       " [256, 257],\n",
       " [258, 259],\n",
       " [144, 274],\n",
       " [279, 281, 285],\n",
       " [6, 283],\n",
       " [186, 332],\n",
       " [46, 338],\n",
       " [47, 339],\n",
       " [371, 377, 978],\n",
       " [116, 411],\n",
       " [451, 454],\n",
       " [452, 455],\n",
       " [190, 526, 897],\n",
       " [508, 532],\n",
       " [515, 536],\n",
       " [514, 537],\n",
       " [516, 538],\n",
       " [643, 646],\n",
       " [668, 676],\n",
       " [669, 677],\n",
       " [638, 683, 884],\n",
       " [725, 731],\n",
       " [755, 801, 889, 977, 985],\n",
       " [859, 868, 869],\n",
       " [872, 875],\n",
       " [14, 980]]"
      ]
     },
     "execution_count": 46,
     "metadata": {},
     "output_type": "execute_result"
    }
   ],
   "source": [
    "newlist = []\n",
    "for i in l:\n",
    "    if i not in newlist:\n",
    "        newlist.append(i)\n",
    "print(len(newlist))\n",
    "newlist"
   ]
  },
  {
   "cell_type": "code",
   "execution_count": null,
   "metadata": {},
   "outputs": [],
   "source": []
  },
  {
   "cell_type": "code",
   "execution_count": 3,
   "metadata": {
    "ExecuteTime": {
     "end_time": "2021-01-27T06:59:21.843965Z",
     "start_time": "2021-01-27T06:59:21.820886Z"
    }
   },
   "outputs": [
    {
     "data": {
      "text/plain": [
       "3000000"
      ]
     },
     "execution_count": 3,
     "metadata": {},
     "output_type": "execute_result"
    }
   ],
   "source": [
    "import numpy as np\n",
    "a = np.random.randint(low=1000000, high=2999999, size=(3000000,))\n",
    "\n",
    "len(a)"
   ]
  },
  {
   "cell_type": "markdown",
   "metadata": {},
   "source": [
    "데이터프레임에 넣기"
   ]
  },
  {
   "cell_type": "code",
   "execution_count": 80,
   "metadata": {
    "ExecuteTime": {
     "end_time": "2020-12-28T03:00:38.805760Z",
     "start_time": "2020-12-28T03:00:38.771567Z"
    }
   },
   "outputs": [
    {
     "name": "stderr",
     "output_type": "stream",
     "text": [
      "<ipython-input-80-94f8b8ae0d71>:9: SettingWithCopyWarning: \n",
      "A value is trying to be set on a copy of a slice from a DataFrame\n",
      "\n",
      "See the caveats in the documentation: https://pandas.pydata.org/pandas-docs/stable/user_guide/indexing.html#returning-a-view-versus-a-copy\n",
      "  data['newslist_spo'][i] = newslist\n"
     ]
    }
   ],
   "source": [
    "#SPO가 복수의 뉴스에서 출현한 경우\n",
    "data['newslist_spo'] = \"\"\n",
    "for aa in newlist:\n",
    "    df = data.loc[aa]\n",
    "    newslist = []\n",
    "    for i in df.index:\n",
    "        # newlist는 인덱스 기준이여서, 뉴스아이디 리스트를 다시 만듦\n",
    "        if df['news_id'][i] not in newslist:\n",
    "            newslist.append(df['news_id'][i])\n",
    "        data['newslist_spo'][i] = newslist\n"
   ]
  },
  {
   "cell_type": "code",
   "execution_count": 81,
   "metadata": {
    "ExecuteTime": {
     "end_time": "2020-12-28T03:00:45.769776Z",
     "start_time": "2020-12-28T03:00:45.627436Z"
    }
   },
   "outputs": [
    {
     "name": "stderr",
     "output_type": "stream",
     "text": [
      "<ipython-input-81-55b02fdfc9c4>:5: SettingWithCopyWarning: \n",
      "A value is trying to be set on a copy of a slice from a DataFrame\n",
      "\n",
      "See the caveats in the documentation: https://pandas.pydata.org/pandas-docs/stable/user_guide/indexing.html#returning-a-view-versus-a-copy\n",
      "  data['newslist_spo'][i] = newslist\n"
     ]
    }
   ],
   "source": [
    "#SPO가 하나의 뉴스에서만 출현한 경우\n",
    "for i in data.index:\n",
    "    if data['newslist_spo'][i] == \"\":\n",
    "        newslist= []\n",
    "        newslist.append(data['news_id'][i])\n",
    "        data['newslist_spo'][i] = newslist"
   ]
  },
  {
   "cell_type": "code",
   "execution_count": null,
   "metadata": {},
   "outputs": [],
   "source": []
  },
  {
   "cell_type": "markdown",
   "metadata": {},
   "source": [
    "- predicate 기준 뉴스리스트 생성"
   ]
  },
  {
   "cell_type": "code",
   "execution_count": 27,
   "metadata": {
    "ExecuteTime": {
     "end_time": "2020-12-28T02:33:22.445276Z",
     "start_time": "2020-12-28T02:33:22.069057Z"
    }
   },
   "outputs": [],
   "source": [
    "Dict = {}\n",
    "verbs = data.predicate.unique()\n",
    "for verb in verbs:\n",
    "    Dict[verb] = data[data.predicate == verb].news_id.unique().tolist()"
   ]
  },
  {
   "cell_type": "markdown",
   "metadata": {},
   "source": [
    "데이터프레임에 넣기"
   ]
  },
  {
   "cell_type": "code",
   "execution_count": 28,
   "metadata": {
    "ExecuteTime": {
     "end_time": "2020-12-28T02:33:23.620074Z",
     "start_time": "2020-12-28T02:33:23.486217Z"
    }
   },
   "outputs": [
    {
     "name": "stderr",
     "output_type": "stream",
     "text": [
      "<ipython-input-28-094b47305388>:3: SettingWithCopyWarning: \n",
      "A value is trying to be set on a copy of a slice from a DataFrame\n",
      "\n",
      "See the caveats in the documentation: https://pandas.pydata.org/pandas-docs/stable/user_guide/indexing.html#returning-a-view-versus-a-copy\n",
      "  data['newslist_pdc'][i] = Dict[data.predicate[i]]\n"
     ]
    }
   ],
   "source": [
    "data['newslist_pdc'] = \"\"\n",
    "for i in data.index:\n",
    "    data['newslist_pdc'][i] = Dict[data.predicate[i]]"
   ]
  },
  {
   "cell_type": "code",
   "execution_count": null,
   "metadata": {},
   "outputs": [],
   "source": []
  },
  {
   "cell_type": "code",
   "execution_count": 51,
   "metadata": {
    "ExecuteTime": {
     "end_time": "2020-12-28T02:42:00.205761Z",
     "start_time": "2020-12-28T02:42:00.186996Z"
    }
   },
   "outputs": [
    {
     "data": {
      "text/html": [
       "<div>\n",
       "<style scoped>\n",
       "    .dataframe tbody tr th:only-of-type {\n",
       "        vertical-align: middle;\n",
       "    }\n",
       "\n",
       "    .dataframe tbody tr th {\n",
       "        vertical-align: top;\n",
       "    }\n",
       "\n",
       "    .dataframe thead th {\n",
       "        text-align: right;\n",
       "    }\n",
       "</style>\n",
       "<table border=\"1\" class=\"dataframe\">\n",
       "  <thead>\n",
       "    <tr style=\"text-align: right;\">\n",
       "      <th></th>\n",
       "      <th>news_id</th>\n",
       "      <th>subject</th>\n",
       "      <th>predicate</th>\n",
       "      <th>object</th>\n",
       "      <th>date</th>\n",
       "      <th>company</th>\n",
       "      <th>text</th>\n",
       "      <th>newslist_spo</th>\n",
       "      <th>newslist_pdc</th>\n",
       "    </tr>\n",
       "  </thead>\n",
       "  <tbody>\n",
       "    <tr>\n",
       "      <th>0</th>\n",
       "      <td>1</td>\n",
       "      <td>정부</td>\n",
       "      <td>발표하다</td>\n",
       "      <td>임대주택 공급</td>\n",
       "      <td>2020.10.25</td>\n",
       "      <td>연합뉴스</td>\n",
       "      <td>정부가 이르면 이번 주 임대주택 공급 등 전세시장 안정을 위한 전세대책을 발표한다.</td>\n",
       "      <td></td>\n",
       "      <td>[1, 2, 31, 32, 41, 48, 202]</td>\n",
       "    </tr>\n",
       "    <tr>\n",
       "      <th>8</th>\n",
       "      <td>2</td>\n",
       "      <td>정부</td>\n",
       "      <td>발표하다</td>\n",
       "      <td>전세대책</td>\n",
       "      <td>2020.10.25</td>\n",
       "      <td>서울경제</td>\n",
       "      <td>정부가 이르면 이번 주 임대주택 공급 등 전세시장 안정을 위한 전세대책을 발표한다.</td>\n",
       "      <td></td>\n",
       "      <td>[1, 2, 31, 32, 41, 48, 202]</td>\n",
       "    </tr>\n",
       "    <tr>\n",
       "      <th>279</th>\n",
       "      <td>31</td>\n",
       "      <td>정부</td>\n",
       "      <td>발표하다</td>\n",
       "      <td>전세시장 안정대책</td>\n",
       "      <td>2020.10.25</td>\n",
       "      <td>YTN</td>\n",
       "      <td>정부가 이르면 이번 주 임대주택 공급 등 전세시장 안정을 위한 전세대책을 발표합니다.</td>\n",
       "      <td>[31, 32]</td>\n",
       "      <td>[1, 2, 31, 32, 41, 48, 202]</td>\n",
       "    </tr>\n",
       "    <tr>\n",
       "      <th>281</th>\n",
       "      <td>31</td>\n",
       "      <td>정부</td>\n",
       "      <td>발표하다</td>\n",
       "      <td>전세시장 안정대책</td>\n",
       "      <td>2020.10.25</td>\n",
       "      <td>YTN</td>\n",
       "      <td>기획재정부와 국토교통부에 따르면 정부는 이르면 이번 주, 늦어도 다음 주에는 전세시...</td>\n",
       "      <td>[31, 32]</td>\n",
       "      <td>[1, 2, 31, 32, 41, 48, 202]</td>\n",
       "    </tr>\n",
       "    <tr>\n",
       "      <th>285</th>\n",
       "      <td>32</td>\n",
       "      <td>정부</td>\n",
       "      <td>발표하다</td>\n",
       "      <td>전세시장 안정대책</td>\n",
       "      <td>2020.10.25</td>\n",
       "      <td>헤럴드경제</td>\n",
       "      <td>NaN</td>\n",
       "      <td>[31, 32]</td>\n",
       "      <td>[1, 2, 31, 32, 41, 48, 202]</td>\n",
       "    </tr>\n",
       "    <tr>\n",
       "      <th>341</th>\n",
       "      <td>41</td>\n",
       "      <td>부동산114</td>\n",
       "      <td>발표하다</td>\n",
       "      <td>아파트 시장동향</td>\n",
       "      <td>2020.10.24</td>\n",
       "      <td>서울경제</td>\n",
       "      <td>NaN</td>\n",
       "      <td></td>\n",
       "      <td>[1, 2, 31, 32, 41, 48, 202]</td>\n",
       "    </tr>\n",
       "    <tr>\n",
       "      <th>390</th>\n",
       "      <td>48</td>\n",
       "      <td>공공임대</td>\n",
       "      <td>발표하다</td>\n",
       "      <td>대책</td>\n",
       "      <td>2020.10.24</td>\n",
       "      <td>헤럴드경제</td>\n",
       "      <td>김 장관은 중산층도 살 수 있는 중대형 공공임대 공급 방안 등을 포함한 공공임대 개...</td>\n",
       "      <td></td>\n",
       "      <td>[1, 2, 31, 32, 41, 48, 202]</td>\n",
       "    </tr>\n",
       "    <tr>\n",
       "      <th>829</th>\n",
       "      <td>202</td>\n",
       "      <td>한국은행</td>\n",
       "      <td>발표하다</td>\n",
       "      <td>가계대출</td>\n",
       "      <td>2020.11.07</td>\n",
       "      <td>이데일리</td>\n",
       "      <td>다음주 한국은행은 지난달 은행의 가계대출 규모를 발표한다.</td>\n",
       "      <td></td>\n",
       "      <td>[1, 2, 31, 32, 41, 48, 202]</td>\n",
       "    </tr>\n",
       "  </tbody>\n",
       "</table>\n",
       "</div>"
      ],
      "text/plain": [
       "     news_id subject predicate     object        date company  \\\n",
       "0          1      정부      발표하다    임대주택 공급  2020.10.25    연합뉴스   \n",
       "8          2      정부      발표하다       전세대책  2020.10.25    서울경제   \n",
       "279       31      정부      발표하다  전세시장 안정대책  2020.10.25     YTN   \n",
       "281       31      정부      발표하다  전세시장 안정대책  2020.10.25     YTN   \n",
       "285       32      정부      발표하다  전세시장 안정대책  2020.10.25   헤럴드경제   \n",
       "341       41  부동산114      발표하다   아파트 시장동향  2020.10.24    서울경제   \n",
       "390       48    공공임대      발표하다         대책  2020.10.24   헤럴드경제   \n",
       "829      202    한국은행      발표하다       가계대출  2020.11.07    이데일리   \n",
       "\n",
       "                                                  text newslist_spo  \\\n",
       "0       정부가 이르면 이번 주 임대주택 공급 등 전세시장 안정을 위한 전세대책을 발표한다.                \n",
       "8       정부가 이르면 이번 주 임대주택 공급 등 전세시장 안정을 위한 전세대책을 발표한다.                \n",
       "279    정부가 이르면 이번 주 임대주택 공급 등 전세시장 안정을 위한 전세대책을 발표합니다.     [31, 32]   \n",
       "281  기획재정부와 국토교통부에 따르면 정부는 이르면 이번 주, 늦어도 다음 주에는 전세시...     [31, 32]   \n",
       "285                                                NaN     [31, 32]   \n",
       "341                                                NaN                \n",
       "390  김 장관은 중산층도 살 수 있는 중대형 공공임대 공급 방안 등을 포함한 공공임대 개...                \n",
       "829                   다음주 한국은행은 지난달 은행의 가계대출 규모를 발표한다.                \n",
       "\n",
       "                    newslist_pdc  \n",
       "0    [1, 2, 31, 32, 41, 48, 202]  \n",
       "8    [1, 2, 31, 32, 41, 48, 202]  \n",
       "279  [1, 2, 31, 32, 41, 48, 202]  \n",
       "281  [1, 2, 31, 32, 41, 48, 202]  \n",
       "285  [1, 2, 31, 32, 41, 48, 202]  \n",
       "341  [1, 2, 31, 32, 41, 48, 202]  \n",
       "390  [1, 2, 31, 32, 41, 48, 202]  \n",
       "829  [1, 2, 31, 32, 41, 48, 202]  "
      ]
     },
     "execution_count": 51,
     "metadata": {},
     "output_type": "execute_result"
    }
   ],
   "source": [
    "data[data.predicate=='발표하다']"
   ]
  },
  {
   "cell_type": "code",
   "execution_count": null,
   "metadata": {},
   "outputs": [],
   "source": []
  },
  {
   "cell_type": "markdown",
   "metadata": {},
   "source": [
    "- GDB 적재"
   ]
  },
  {
   "cell_type": "code",
   "execution_count": 85,
   "metadata": {
    "ExecuteTime": {
     "end_time": "2020-12-28T03:02:04.246786Z",
     "start_time": "2020-12-28T03:02:04.244206Z"
    }
   },
   "outputs": [],
   "source": [
    "import psycopg2 as pg2"
   ]
  },
  {
   "cell_type": "code",
   "execution_count": 86,
   "metadata": {
    "ExecuteTime": {
     "end_time": "2020-12-28T03:02:04.695362Z",
     "start_time": "2020-12-28T03:02:04.689248Z"
    }
   },
   "outputs": [],
   "source": [
    "conn = pg2.connect(\"dbname='kg_news' user='consulting' port='15432' host='192.168.0.68'\")\n",
    "curs = conn.cursor()"
   ]
  },
  {
   "cell_type": "code",
   "execution_count": 35,
   "metadata": {
    "ExecuteTime": {
     "end_time": "2020-12-28T02:33:47.428744Z",
     "start_time": "2020-12-28T02:33:47.426754Z"
    }
   },
   "outputs": [],
   "source": [
    "# query = 'drop graph realestate_news_v3 cascade'\n",
    "# curs.execute(query)\n",
    "# conn.commit()\n",
    "# curs.close()\n",
    "# conn.close()"
   ]
  },
  {
   "cell_type": "code",
   "execution_count": null,
   "metadata": {},
   "outputs": [],
   "source": []
  },
  {
   "cell_type": "code",
   "execution_count": 36,
   "metadata": {
    "ExecuteTime": {
     "end_time": "2020-12-28T02:33:48.421573Z",
     "start_time": "2020-12-28T02:33:48.408724Z"
    }
   },
   "outputs": [],
   "source": [
    "query = 'create graph realestate_news_v3'\n",
    "curs.execute(query)"
   ]
  },
  {
   "cell_type": "code",
   "execution_count": 37,
   "metadata": {
    "ExecuteTime": {
     "end_time": "2020-12-28T02:33:49.064006Z",
     "start_time": "2020-12-28T02:33:49.054245Z"
    }
   },
   "outputs": [],
   "source": [
    "query = 'create vlabel noun'\n",
    "curs.execute(query)\n",
    "query = 'create vlabel news'\n",
    "curs.execute(query)"
   ]
  },
  {
   "cell_type": "code",
   "execution_count": 38,
   "metadata": {
    "ExecuteTime": {
     "end_time": "2020-12-28T02:33:49.521112Z",
     "start_time": "2020-12-28T02:33:49.514432Z"
    }
   },
   "outputs": [],
   "source": [
    "query = 'create elabel predicate'\n",
    "curs.execute(query)"
   ]
  },
  {
   "cell_type": "code",
   "execution_count": 39,
   "metadata": {
    "ExecuteTime": {
     "end_time": "2020-12-28T02:33:50.036147Z",
     "start_time": "2020-12-28T02:33:50.028715Z"
    }
   },
   "outputs": [],
   "source": [
    "query = 'create elabel in_news'\n",
    "curs.execute(query)"
   ]
  },
  {
   "cell_type": "code",
   "execution_count": 40,
   "metadata": {
    "ExecuteTime": {
     "end_time": "2020-12-28T02:33:50.754515Z",
     "start_time": "2020-12-28T02:33:50.672014Z"
    }
   },
   "outputs": [],
   "source": [
    "conn.commit()"
   ]
  },
  {
   "cell_type": "code",
   "execution_count": null,
   "metadata": {},
   "outputs": [],
   "source": []
  },
  {
   "cell_type": "code",
   "execution_count": 87,
   "metadata": {
    "ExecuteTime": {
     "end_time": "2020-12-28T03:02:11.073117Z",
     "start_time": "2020-12-28T03:02:08.875310Z"
    }
   },
   "outputs": [],
   "source": [
    "query = 'set graph_path = realestate_news_v3'\n",
    "curs.execute(query)\n",
    "\n",
    "for i in data.index:\n",
    "    query = \"MERGE (s:noun {word:'\" + data.subject[i] + \"'})\"\\\n",
    "        + \" MERGE (o:noun {word:'\" + data.object[i] + \"'})\"\\\n",
    "        + \" MERGE (news:news {newsid:'\" + str(data.news_id[i]) + \"', date:'\" + data.date[i] + \"'})\"\\\n",
    "        + \" MERGE (s)-[p:predicate {verb:'\" + data.predicate[i] + \"'}]->(o)\"\\\n",
    "        + \" SET p.newslist = \" + str(data['newslist_spo'][i]) \\\n",
    "        + \" MERGE (news)-[:in_news]->(s)\"\\\n",
    "        + \" MERGE (news)-[:in_news]->(o)\"\n",
    "\n",
    "    curs.execute(query)\n",
    "\n",
    "conn.commit()\n",
    "curs.close()\n",
    "conn.close()"
   ]
  },
  {
   "cell_type": "code",
   "execution_count": null,
   "metadata": {},
   "outputs": [],
   "source": []
  },
  {
   "cell_type": "code",
   "execution_count": null,
   "metadata": {},
   "outputs": [],
   "source": []
  },
  {
   "cell_type": "code",
   "execution_count": null,
   "metadata": {},
   "outputs": [],
   "source": []
  },
  {
   "cell_type": "code",
   "execution_count": null,
   "metadata": {},
   "outputs": [],
   "source": []
  },
  {
   "cell_type": "markdown",
   "metadata": {},
   "source": [
    "- 뉴스원문 RDB"
   ]
  },
  {
   "cell_type": "code",
   "execution_count": null,
   "metadata": {},
   "outputs": [],
   "source": [
    "data[['news_id','company', 'date', 'text']].to_csv('./data/newstb.csv', index=False)\n",
    "newstb = pd.read_csv('./data/newstb.csv')"
   ]
  },
  {
   "cell_type": "markdown",
   "metadata": {},
   "source": [
    "문장 단위를 기사로 합치기"
   ]
  },
  {
   "cell_type": "code",
   "execution_count": null,
   "metadata": {},
   "outputs": [],
   "source": [
    "newslist = newstb['news_id'].unique()\n",
    "newslist[:100]"
   ]
  },
  {
   "cell_type": "code",
   "execution_count": null,
   "metadata": {},
   "outputs": [],
   "source": [
    "dic = {}\n",
    "for i in newslist:\n",
    "    #print(i)\n",
    "    df = data[data['news_id']==i]\n",
    "    text = \"\"\n",
    "    for j in df.index:\n",
    "        if df.text.notnull()[j]==True: \n",
    "            sentence = df.text[j]\n",
    "            text += sentence + \" \"\n",
    "    dic[i] = text\n",
    "dic"
   ]
  },
  {
   "cell_type": "code",
   "execution_count": null,
   "metadata": {},
   "outputs": [],
   "source": [
    "newstb['fullarticle'] = \"\"\n",
    "newstb.head() "
   ]
  },
  {
   "cell_type": "markdown",
   "metadata": {},
   "source": [
    "데이터프레임에 합친 기사 추가"
   ]
  },
  {
   "cell_type": "code",
   "execution_count": null,
   "metadata": {},
   "outputs": [],
   "source": [
    "for i in newstb.index:\n",
    "    for j in newslist:\n",
    "        if newstb['news_id'][i] == j:\n",
    "            newstb.fullarticle[i] = dic[j]"
   ]
  },
  {
   "cell_type": "markdown",
   "metadata": {},
   "source": [
    "파일 저장"
   ]
  },
  {
   "cell_type": "code",
   "execution_count": null,
   "metadata": {},
   "outputs": [],
   "source": [
    "newstb[['news_id', 'company', 'date', 'fullarticle']].drop_duplicates().\\\n",
    "to_csv('./data/newstb.csv', index=False)"
   ]
  },
  {
   "cell_type": "code",
   "execution_count": null,
   "metadata": {},
   "outputs": [],
   "source": []
  },
  {
   "cell_type": "code",
   "execution_count": null,
   "metadata": {},
   "outputs": [],
   "source": []
  },
  {
   "cell_type": "code",
   "execution_count": null,
   "metadata": {},
   "outputs": [],
   "source": []
  },
  {
   "cell_type": "code",
   "execution_count": null,
   "metadata": {},
   "outputs": [],
   "source": []
  },
  {
   "cell_type": "code",
   "execution_count": null,
   "metadata": {},
   "outputs": [],
   "source": []
  },
  {
   "cell_type": "code",
   "execution_count": null,
   "metadata": {},
   "outputs": [],
   "source": []
  },
  {
   "cell_type": "code",
   "execution_count": null,
   "metadata": {},
   "outputs": [],
   "source": []
  }
 ],
 "metadata": {
  "hide_input": false,
  "kernelspec": {
   "display_name": "Python 3",
   "language": "python",
   "name": "python3"
  },
  "language_info": {
   "codemirror_mode": {
    "name": "ipython",
    "version": 3
   },
   "file_extension": ".py",
   "mimetype": "text/x-python",
   "name": "python",
   "nbconvert_exporter": "python",
   "pygments_lexer": "ipython3",
   "version": "3.8.3"
  },
  "toc": {
   "base_numbering": 1,
   "nav_menu": {},
   "number_sections": true,
   "sideBar": true,
   "skip_h1_title": false,
   "title_cell": "Table of Contents",
   "title_sidebar": "Contents",
   "toc_cell": false,
   "toc_position": {},
   "toc_section_display": true,
   "toc_window_display": false
  },
  "varInspector": {
   "cols": {
    "lenName": 16,
    "lenType": 16,
    "lenVar": 40
   },
   "kernels_config": {
    "python": {
     "delete_cmd_postfix": "",
     "delete_cmd_prefix": "del ",
     "library": "var_list.py",
     "varRefreshCmd": "print(var_dic_list())"
    },
    "r": {
     "delete_cmd_postfix": ") ",
     "delete_cmd_prefix": "rm(",
     "library": "var_list.r",
     "varRefreshCmd": "cat(var_dic_list()) "
    }
   },
   "types_to_exclude": [
    "module",
    "function",
    "builtin_function_or_method",
    "instance",
    "_Feature"
   ],
   "window_display": false
  }
 },
 "nbformat": 4,
 "nbformat_minor": 4
}
