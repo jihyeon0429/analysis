{
 "cells": [
  {
   "cell_type": "code",
   "execution_count": 1,
   "metadata": {
    "ExecuteTime": {
     "end_time": "2020-12-18T07:37:18.301996Z",
     "start_time": "2020-12-18T07:37:18.155739Z"
    }
   },
   "outputs": [],
   "source": [
    "import pandas as pd\n",
    "import datetime\n",
    "import numpy as np"
   ]
  },
  {
   "cell_type": "code",
   "execution_count": 2,
   "metadata": {
    "ExecuteTime": {
     "end_time": "2020-12-18T07:37:19.539525Z",
     "start_time": "2020-12-18T07:37:19.527033Z"
    }
   },
   "outputs": [],
   "source": [
    "data = pd.read_csv('./data/data_new.csv')\n",
    "data = data[['news_id','subject','predicate','object','text','date','company']]"
   ]
  },
  {
   "cell_type": "code",
   "execution_count": 3,
   "metadata": {
    "ExecuteTime": {
     "end_time": "2020-12-18T07:37:20.397462Z",
     "start_time": "2020-12-18T07:37:20.377200Z"
    },
    "scrolled": true
   },
   "outputs": [
    {
     "data": {
      "text/html": [
       "<div>\n",
       "<style scoped>\n",
       "    .dataframe tbody tr th:only-of-type {\n",
       "        vertical-align: middle;\n",
       "    }\n",
       "\n",
       "    .dataframe tbody tr th {\n",
       "        vertical-align: top;\n",
       "    }\n",
       "\n",
       "    .dataframe thead th {\n",
       "        text-align: right;\n",
       "    }\n",
       "</style>\n",
       "<table border=\"1\" class=\"dataframe\">\n",
       "  <thead>\n",
       "    <tr style=\"text-align: right;\">\n",
       "      <th></th>\n",
       "      <th>news_id</th>\n",
       "      <th>subject</th>\n",
       "      <th>predicate</th>\n",
       "      <th>object</th>\n",
       "      <th>text</th>\n",
       "      <th>date</th>\n",
       "      <th>company</th>\n",
       "    </tr>\n",
       "  </thead>\n",
       "  <tbody>\n",
       "    <tr>\n",
       "      <th>0</th>\n",
       "      <td>1</td>\n",
       "      <td>정부</td>\n",
       "      <td>발표하다</td>\n",
       "      <td>임대주택 공급</td>\n",
       "      <td>정부가 이르면 이번 주 임대주택 공급 등 전세시장 안정을 위한 전세대책을 발표한다.</td>\n",
       "      <td>2020.10.25</td>\n",
       "      <td>연합뉴스</td>\n",
       "    </tr>\n",
       "    <tr>\n",
       "      <th>1</th>\n",
       "      <td>1</td>\n",
       "      <td>정부</td>\n",
       "      <td>위하다</td>\n",
       "      <td>전세시장안정</td>\n",
       "      <td>NaN</td>\n",
       "      <td>2020.10.25</td>\n",
       "      <td>연합뉴스</td>\n",
       "    </tr>\n",
       "    <tr>\n",
       "      <th>2</th>\n",
       "      <td>1</td>\n",
       "      <td>정부</td>\n",
       "      <td>계획이다</td>\n",
       "      <td>전세 대책 발표</td>\n",
       "      <td>25일 기획재정부와 국토교통부 등 관계 부처에 따르면, 정부는 이르면 이번 주, 늦...</td>\n",
       "      <td>2020.10.25</td>\n",
       "      <td>연합뉴스</td>\n",
       "    </tr>\n",
       "    <tr>\n",
       "      <th>3</th>\n",
       "      <td>1</td>\n",
       "      <td>정부</td>\n",
       "      <td>진행하다</td>\n",
       "      <td>관계부처간 협의</td>\n",
       "      <td>정부 관계자는 \"시장 상황을 예의주시하는 수준을 넘어 어떤 형태로든 대응 방안을 마...</td>\n",
       "      <td>2020.10.25</td>\n",
       "      <td>연합뉴스</td>\n",
       "    </tr>\n",
       "    <tr>\n",
       "      <th>4</th>\n",
       "      <td>1</td>\n",
       "      <td>정부</td>\n",
       "      <td>옳다</td>\n",
       "      <td>대응방안 마련</td>\n",
       "      <td>NaN</td>\n",
       "      <td>2020.10.25</td>\n",
       "      <td>연합뉴스</td>\n",
       "    </tr>\n",
       "    <tr>\n",
       "      <th>...</th>\n",
       "      <td>...</td>\n",
       "      <td>...</td>\n",
       "      <td>...</td>\n",
       "      <td>...</td>\n",
       "      <td>...</td>\n",
       "      <td>...</td>\n",
       "      <td>...</td>\n",
       "    </tr>\n",
       "    <tr>\n",
       "      <th>1007</th>\n",
       "      <td>214</td>\n",
       "      <td>공공임대</td>\n",
       "      <td>필수적이다</td>\n",
       "      <td>지속성</td>\n",
       "      <td>전문가들은 과거의 사례를 들어 정부가 추진하고 있는 공공임대 주택이 실패하지 않으려...</td>\n",
       "      <td>2020.11.03</td>\n",
       "      <td>뉴스1</td>\n",
       "    </tr>\n",
       "    <tr>\n",
       "      <th>1008</th>\n",
       "      <td>214</td>\n",
       "      <td>공공임대</td>\n",
       "      <td>필수적이다</td>\n",
       "      <td>사업성</td>\n",
       "      <td>NaN</td>\n",
       "      <td>2020.11.03</td>\n",
       "      <td>뉴스1</td>\n",
       "    </tr>\n",
       "    <tr>\n",
       "      <th>1009</th>\n",
       "      <td>214</td>\n",
       "      <td>공공임대</td>\n",
       "      <td>줄여야한다</td>\n",
       "      <td>정부역할</td>\n",
       "      <td>임 교수는 최근 정부의 중형 공공임대 추진에 대해서는 '공공의 역할을 극대화하기보다...</td>\n",
       "      <td>2020.11.03</td>\n",
       "      <td>뉴스1</td>\n",
       "    </tr>\n",
       "    <tr>\n",
       "      <th>1010</th>\n",
       "      <td>215</td>\n",
       "      <td>공공임대</td>\n",
       "      <td>지적하다</td>\n",
       "      <td>공급대책</td>\n",
       "      <td>국토교통부가 주거복지로드맵에 따른 일정대로 공공임대 주택을 제대로 공급하지 못하고 ...</td>\n",
       "      <td>2020.11.03</td>\n",
       "      <td>디지털타임스</td>\n",
       "    </tr>\n",
       "    <tr>\n",
       "      <th>1011</th>\n",
       "      <td>216</td>\n",
       "      <td>공공임대</td>\n",
       "      <td>가능하다</td>\n",
       "      <td>연봉 1억원</td>\n",
       "      <td>정부가 추진하는 30평대 중산층 공공임대주택에 연봉 1억원 부부도 들어갈 수 있을 ...</td>\n",
       "      <td>2020.11.05</td>\n",
       "      <td>머니투데이</td>\n",
       "    </tr>\n",
       "  </tbody>\n",
       "</table>\n",
       "<p>1012 rows × 7 columns</p>\n",
       "</div>"
      ],
      "text/plain": [
       "      news_id subject predicate    object  \\\n",
       "0           1      정부      발표하다   임대주택 공급   \n",
       "1           1      정부       위하다    전세시장안정   \n",
       "2           1      정부      계획이다  전세 대책 발표   \n",
       "3           1      정부      진행하다  관계부처간 협의   \n",
       "4           1      정부        옳다   대응방안 마련   \n",
       "...       ...     ...       ...       ...   \n",
       "1007      214    공공임대     필수적이다       지속성   \n",
       "1008      214    공공임대     필수적이다       사업성   \n",
       "1009      214    공공임대     줄여야한다      정부역할   \n",
       "1010      215    공공임대      지적하다      공급대책   \n",
       "1011      216    공공임대      가능하다    연봉 1억원   \n",
       "\n",
       "                                                   text        date company  \n",
       "0        정부가 이르면 이번 주 임대주택 공급 등 전세시장 안정을 위한 전세대책을 발표한다.  2020.10.25    연합뉴스  \n",
       "1                                                   NaN  2020.10.25    연합뉴스  \n",
       "2     25일 기획재정부와 국토교통부 등 관계 부처에 따르면, 정부는 이르면 이번 주, 늦...  2020.10.25    연합뉴스  \n",
       "3     정부 관계자는 \"시장 상황을 예의주시하는 수준을 넘어 어떤 형태로든 대응 방안을 마...  2020.10.25    연합뉴스  \n",
       "4                                                   NaN  2020.10.25    연합뉴스  \n",
       "...                                                 ...         ...     ...  \n",
       "1007  전문가들은 과거의 사례를 들어 정부가 추진하고 있는 공공임대 주택이 실패하지 않으려...  2020.11.03     뉴스1  \n",
       "1008                                                NaN  2020.11.03     뉴스1  \n",
       "1009  임 교수는 최근 정부의 중형 공공임대 추진에 대해서는 '공공의 역할을 극대화하기보다...  2020.11.03     뉴스1  \n",
       "1010  국토교통부가 주거복지로드맵에 따른 일정대로 공공임대 주택을 제대로 공급하지 못하고 ...  2020.11.03  디지털타임스  \n",
       "1011  정부가 추진하는 30평대 중산층 공공임대주택에 연봉 1억원 부부도 들어갈 수 있을 ...  2020.11.05   머니투데이  \n",
       "\n",
       "[1012 rows x 7 columns]"
      ]
     },
     "execution_count": 3,
     "metadata": {},
     "output_type": "execute_result"
    }
   ],
   "source": [
    "data"
   ]
  },
  {
   "cell_type": "code",
   "execution_count": null,
   "metadata": {},
   "outputs": [],
   "source": []
  },
  {
   "cell_type": "code",
   "execution_count": 4,
   "metadata": {
    "ExecuteTime": {
     "end_time": "2020-12-18T07:37:25.213725Z",
     "start_time": "2020-12-18T07:37:25.182424Z"
    }
   },
   "outputs": [
    {
     "data": {
      "text/html": [
       "<div>\n",
       "<style scoped>\n",
       "    .dataframe tbody tr th:only-of-type {\n",
       "        vertical-align: middle;\n",
       "    }\n",
       "\n",
       "    .dataframe tbody tr th {\n",
       "        vertical-align: top;\n",
       "    }\n",
       "\n",
       "    .dataframe thead th {\n",
       "        text-align: right;\n",
       "    }\n",
       "</style>\n",
       "<table border=\"1\" class=\"dataframe\">\n",
       "  <thead>\n",
       "    <tr style=\"text-align: right;\">\n",
       "      <th></th>\n",
       "      <th>news_id</th>\n",
       "      <th>subject</th>\n",
       "      <th>predicate</th>\n",
       "      <th>object</th>\n",
       "      <th>text</th>\n",
       "      <th>date</th>\n",
       "      <th>company</th>\n",
       "    </tr>\n",
       "  </thead>\n",
       "  <tbody>\n",
       "    <tr>\n",
       "      <th>0</th>\n",
       "      <td>1</td>\n",
       "      <td>정부</td>\n",
       "      <td>발표하다</td>\n",
       "      <td>임대주택 공급</td>\n",
       "      <td>정부가 이르면 이번 주 임대주택 공급 등 전세시장 안정을 위한 전세대책을 발표한다.</td>\n",
       "      <td>2020-10-25</td>\n",
       "      <td>연합뉴스</td>\n",
       "    </tr>\n",
       "    <tr>\n",
       "      <th>1</th>\n",
       "      <td>1</td>\n",
       "      <td>정부</td>\n",
       "      <td>위하다</td>\n",
       "      <td>전세시장안정</td>\n",
       "      <td>NaN</td>\n",
       "      <td>2020-10-25</td>\n",
       "      <td>연합뉴스</td>\n",
       "    </tr>\n",
       "    <tr>\n",
       "      <th>2</th>\n",
       "      <td>1</td>\n",
       "      <td>정부</td>\n",
       "      <td>계획이다</td>\n",
       "      <td>전세 대책 발표</td>\n",
       "      <td>25일 기획재정부와 국토교통부 등 관계 부처에 따르면, 정부는 이르면 이번 주, 늦...</td>\n",
       "      <td>2020-10-25</td>\n",
       "      <td>연합뉴스</td>\n",
       "    </tr>\n",
       "    <tr>\n",
       "      <th>3</th>\n",
       "      <td>1</td>\n",
       "      <td>정부</td>\n",
       "      <td>진행하다</td>\n",
       "      <td>관계부처간 협의</td>\n",
       "      <td>정부 관계자는 \"시장 상황을 예의주시하는 수준을 넘어 어떤 형태로든 대응 방안을 마...</td>\n",
       "      <td>2020-10-25</td>\n",
       "      <td>연합뉴스</td>\n",
       "    </tr>\n",
       "    <tr>\n",
       "      <th>4</th>\n",
       "      <td>1</td>\n",
       "      <td>정부</td>\n",
       "      <td>옳다</td>\n",
       "      <td>대응방안 마련</td>\n",
       "      <td>NaN</td>\n",
       "      <td>2020-10-25</td>\n",
       "      <td>연합뉴스</td>\n",
       "    </tr>\n",
       "    <tr>\n",
       "      <th>...</th>\n",
       "      <td>...</td>\n",
       "      <td>...</td>\n",
       "      <td>...</td>\n",
       "      <td>...</td>\n",
       "      <td>...</td>\n",
       "      <td>...</td>\n",
       "      <td>...</td>\n",
       "    </tr>\n",
       "    <tr>\n",
       "      <th>1007</th>\n",
       "      <td>214</td>\n",
       "      <td>공공임대</td>\n",
       "      <td>필수적이다</td>\n",
       "      <td>지속성</td>\n",
       "      <td>전문가들은 과거의 사례를 들어 정부가 추진하고 있는 공공임대 주택이 실패하지 않으려...</td>\n",
       "      <td>2020-11-03</td>\n",
       "      <td>뉴스1</td>\n",
       "    </tr>\n",
       "    <tr>\n",
       "      <th>1008</th>\n",
       "      <td>214</td>\n",
       "      <td>공공임대</td>\n",
       "      <td>필수적이다</td>\n",
       "      <td>사업성</td>\n",
       "      <td>NaN</td>\n",
       "      <td>2020-11-03</td>\n",
       "      <td>뉴스1</td>\n",
       "    </tr>\n",
       "    <tr>\n",
       "      <th>1009</th>\n",
       "      <td>214</td>\n",
       "      <td>공공임대</td>\n",
       "      <td>줄여야한다</td>\n",
       "      <td>정부역할</td>\n",
       "      <td>임 교수는 최근 정부의 중형 공공임대 추진에 대해서는 '공공의 역할을 극대화하기보다...</td>\n",
       "      <td>2020-11-03</td>\n",
       "      <td>뉴스1</td>\n",
       "    </tr>\n",
       "    <tr>\n",
       "      <th>1010</th>\n",
       "      <td>215</td>\n",
       "      <td>공공임대</td>\n",
       "      <td>지적하다</td>\n",
       "      <td>공급대책</td>\n",
       "      <td>국토교통부가 주거복지로드맵에 따른 일정대로 공공임대 주택을 제대로 공급하지 못하고 ...</td>\n",
       "      <td>2020-11-03</td>\n",
       "      <td>디지털타임스</td>\n",
       "    </tr>\n",
       "    <tr>\n",
       "      <th>1011</th>\n",
       "      <td>216</td>\n",
       "      <td>공공임대</td>\n",
       "      <td>가능하다</td>\n",
       "      <td>연봉 1억원</td>\n",
       "      <td>정부가 추진하는 30평대 중산층 공공임대주택에 연봉 1억원 부부도 들어갈 수 있을 ...</td>\n",
       "      <td>2020-11-05</td>\n",
       "      <td>머니투데이</td>\n",
       "    </tr>\n",
       "  </tbody>\n",
       "</table>\n",
       "<p>1012 rows × 7 columns</p>\n",
       "</div>"
      ],
      "text/plain": [
       "      news_id subject predicate    object  \\\n",
       "0           1      정부      발표하다   임대주택 공급   \n",
       "1           1      정부       위하다    전세시장안정   \n",
       "2           1      정부      계획이다  전세 대책 발표   \n",
       "3           1      정부      진행하다  관계부처간 협의   \n",
       "4           1      정부        옳다   대응방안 마련   \n",
       "...       ...     ...       ...       ...   \n",
       "1007      214    공공임대     필수적이다       지속성   \n",
       "1008      214    공공임대     필수적이다       사업성   \n",
       "1009      214    공공임대     줄여야한다      정부역할   \n",
       "1010      215    공공임대      지적하다      공급대책   \n",
       "1011      216    공공임대      가능하다    연봉 1억원   \n",
       "\n",
       "                                                   text       date company  \n",
       "0        정부가 이르면 이번 주 임대주택 공급 등 전세시장 안정을 위한 전세대책을 발표한다. 2020-10-25    연합뉴스  \n",
       "1                                                   NaN 2020-10-25    연합뉴스  \n",
       "2     25일 기획재정부와 국토교통부 등 관계 부처에 따르면, 정부는 이르면 이번 주, 늦... 2020-10-25    연합뉴스  \n",
       "3     정부 관계자는 \"시장 상황을 예의주시하는 수준을 넘어 어떤 형태로든 대응 방안을 마... 2020-10-25    연합뉴스  \n",
       "4                                                   NaN 2020-10-25    연합뉴스  \n",
       "...                                                 ...        ...     ...  \n",
       "1007  전문가들은 과거의 사례를 들어 정부가 추진하고 있는 공공임대 주택이 실패하지 않으려... 2020-11-03     뉴스1  \n",
       "1008                                                NaN 2020-11-03     뉴스1  \n",
       "1009  임 교수는 최근 정부의 중형 공공임대 추진에 대해서는 '공공의 역할을 극대화하기보다... 2020-11-03     뉴스1  \n",
       "1010  국토교통부가 주거복지로드맵에 따른 일정대로 공공임대 주택을 제대로 공급하지 못하고 ... 2020-11-03  디지털타임스  \n",
       "1011  정부가 추진하는 30평대 중산층 공공임대주택에 연봉 1억원 부부도 들어갈 수 있을 ... 2020-11-05   머니투데이  \n",
       "\n",
       "[1012 rows x 7 columns]"
      ]
     },
     "execution_count": 4,
     "metadata": {},
     "output_type": "execute_result"
    }
   ],
   "source": [
    "newdate=[]\n",
    "for i in data.date:\n",
    "    i = i.replace('.','-')\n",
    "    i = datetime.datetime.strptime(i, '%Y-%m-%d')\n",
    "    newdate.append(i)\n",
    "data.date = newdate\n",
    "data"
   ]
  },
  {
   "cell_type": "code",
   "execution_count": 5,
   "metadata": {
    "ExecuteTime": {
     "end_time": "2020-12-18T07:37:28.290935Z",
     "start_time": "2020-12-18T07:37:28.280707Z"
    }
   },
   "outputs": [
    {
     "data": {
      "text/html": [
       "<div>\n",
       "<style scoped>\n",
       "    .dataframe tbody tr th:only-of-type {\n",
       "        vertical-align: middle;\n",
       "    }\n",
       "\n",
       "    .dataframe tbody tr th {\n",
       "        vertical-align: top;\n",
       "    }\n",
       "\n",
       "    .dataframe thead th {\n",
       "        text-align: right;\n",
       "    }\n",
       "</style>\n",
       "<table border=\"1\" class=\"dataframe\">\n",
       "  <thead>\n",
       "    <tr style=\"text-align: right;\">\n",
       "      <th></th>\n",
       "      <th>news_id</th>\n",
       "    </tr>\n",
       "  </thead>\n",
       "  <tbody>\n",
       "    <tr>\n",
       "      <th>1</th>\n",
       "      <td>8</td>\n",
       "    </tr>\n",
       "    <tr>\n",
       "      <th>2</th>\n",
       "      <td>8</td>\n",
       "    </tr>\n",
       "    <tr>\n",
       "      <th>3</th>\n",
       "      <td>8</td>\n",
       "    </tr>\n",
       "    <tr>\n",
       "      <th>4</th>\n",
       "      <td>11</td>\n",
       "    </tr>\n",
       "    <tr>\n",
       "      <th>5</th>\n",
       "      <td>14</td>\n",
       "    </tr>\n",
       "    <tr>\n",
       "      <th>...</th>\n",
       "      <td>...</td>\n",
       "    </tr>\n",
       "    <tr>\n",
       "      <th>212</th>\n",
       "      <td>3</td>\n",
       "    </tr>\n",
       "    <tr>\n",
       "      <th>213</th>\n",
       "      <td>2</td>\n",
       "    </tr>\n",
       "    <tr>\n",
       "      <th>214</th>\n",
       "      <td>3</td>\n",
       "    </tr>\n",
       "    <tr>\n",
       "      <th>215</th>\n",
       "      <td>1</td>\n",
       "    </tr>\n",
       "    <tr>\n",
       "      <th>216</th>\n",
       "      <td>1</td>\n",
       "    </tr>\n",
       "  </tbody>\n",
       "</table>\n",
       "<p>190 rows × 1 columns</p>\n",
       "</div>"
      ],
      "text/plain": [
       "     news_id\n",
       "1          8\n",
       "2          8\n",
       "3          8\n",
       "4         11\n",
       "5         14\n",
       "..       ...\n",
       "212        3\n",
       "213        2\n",
       "214        3\n",
       "215        1\n",
       "216        1\n",
       "\n",
       "[190 rows x 1 columns]"
      ]
     },
     "execution_count": 5,
     "metadata": {},
     "output_type": "execute_result"
    }
   ],
   "source": [
    "pd.DataFrame(data.news_id.value_counts()).sort_index()"
   ]
  },
  {
   "cell_type": "code",
   "execution_count": 45,
   "metadata": {
    "ExecuteTime": {
     "end_time": "2020-12-18T01:46:49.616021Z",
     "start_time": "2020-12-18T01:46:49.609459Z"
    }
   },
   "outputs": [
    {
     "data": {
      "text/plain": [
       "5      14\n",
       "9      14\n",
       "69     13\n",
       "8      12\n",
       "17     12\n",
       "       ..\n",
       "170     1\n",
       "183     1\n",
       "181     1\n",
       "179     1\n",
       "216     1\n",
       "Name: news_id, Length: 190, dtype: int64"
      ]
     },
     "execution_count": 45,
     "metadata": {},
     "output_type": "execute_result"
    }
   ],
   "source": [
    "data.news_id.value_counts()"
   ]
  },
  {
   "cell_type": "code",
   "execution_count": 6,
   "metadata": {
    "ExecuteTime": {
     "end_time": "2020-12-18T07:37:36.495164Z",
     "start_time": "2020-12-18T07:37:36.487677Z"
    },
    "scrolled": true
   },
   "outputs": [],
   "source": [
    "#SPO개수\n",
    "numspo=pd.DataFrame(data.date.value_counts()).sort_index()\n",
    "numnews=pd.DataFrame(data.groupby('date')['news_id'].nunique())\n",
    "#pd.concat([numspo, numnews])"
   ]
  },
  {
   "cell_type": "code",
   "execution_count": 7,
   "metadata": {
    "ExecuteTime": {
     "end_time": "2020-12-18T07:37:37.052296Z",
     "start_time": "2020-12-18T07:37:37.047782Z"
    }
   },
   "outputs": [],
   "source": [
    "numnews = numnews.reset_index()\n",
    "numspo = numspo.reset_index()"
   ]
  },
  {
   "cell_type": "markdown",
   "metadata": {},
   "source": [
    "- 날짜 별 뉴스, SPO 개수 분포"
   ]
  },
  {
   "cell_type": "code",
   "execution_count": 8,
   "metadata": {
    "ExecuteTime": {
     "end_time": "2020-12-18T07:37:38.464384Z",
     "start_time": "2020-12-18T07:37:38.447230Z"
    },
    "scrolled": true
   },
   "outputs": [
    {
     "data": {
      "text/html": [
       "<div>\n",
       "<style scoped>\n",
       "    .dataframe tbody tr th:only-of-type {\n",
       "        vertical-align: middle;\n",
       "    }\n",
       "\n",
       "    .dataframe tbody tr th {\n",
       "        vertical-align: top;\n",
       "    }\n",
       "\n",
       "    .dataframe thead tr th {\n",
       "        text-align: left;\n",
       "    }\n",
       "</style>\n",
       "<table border=\"1\" class=\"dataframe\">\n",
       "  <thead>\n",
       "    <tr>\n",
       "      <th></th>\n",
       "      <th>date</th>\n",
       "      <th>#news</th>\n",
       "      <th>#spo</th>\n",
       "    </tr>\n",
       "  </thead>\n",
       "  <tbody>\n",
       "    <tr>\n",
       "      <th>0</th>\n",
       "      <td>2020-10-19</td>\n",
       "      <td>4</td>\n",
       "      <td>27</td>\n",
       "    </tr>\n",
       "    <tr>\n",
       "      <th>1</th>\n",
       "      <td>2020-10-20</td>\n",
       "      <td>4</td>\n",
       "      <td>36</td>\n",
       "    </tr>\n",
       "    <tr>\n",
       "      <th>2</th>\n",
       "      <td>2020-10-21</td>\n",
       "      <td>3</td>\n",
       "      <td>18</td>\n",
       "    </tr>\n",
       "    <tr>\n",
       "      <th>3</th>\n",
       "      <td>2020-10-22</td>\n",
       "      <td>11</td>\n",
       "      <td>92</td>\n",
       "    </tr>\n",
       "    <tr>\n",
       "      <th>4</th>\n",
       "      <td>2020-10-23</td>\n",
       "      <td>19</td>\n",
       "      <td>177</td>\n",
       "    </tr>\n",
       "    <tr>\n",
       "      <th>5</th>\n",
       "      <td>2020-10-24</td>\n",
       "      <td>12</td>\n",
       "      <td>107</td>\n",
       "    </tr>\n",
       "    <tr>\n",
       "      <th>6</th>\n",
       "      <td>2020-10-25</td>\n",
       "      <td>16</td>\n",
       "      <td>105</td>\n",
       "    </tr>\n",
       "    <tr>\n",
       "      <th>7</th>\n",
       "      <td>2020-10-26</td>\n",
       "      <td>1</td>\n",
       "      <td>8</td>\n",
       "    </tr>\n",
       "    <tr>\n",
       "      <th>8</th>\n",
       "      <td>2020-10-27</td>\n",
       "      <td>4</td>\n",
       "      <td>23</td>\n",
       "    </tr>\n",
       "    <tr>\n",
       "      <th>9</th>\n",
       "      <td>2020-10-28</td>\n",
       "      <td>9</td>\n",
       "      <td>51</td>\n",
       "    </tr>\n",
       "    <tr>\n",
       "      <th>10</th>\n",
       "      <td>2020-10-29</td>\n",
       "      <td>14</td>\n",
       "      <td>80</td>\n",
       "    </tr>\n",
       "    <tr>\n",
       "      <th>11</th>\n",
       "      <td>2020-10-30</td>\n",
       "      <td>9</td>\n",
       "      <td>44</td>\n",
       "    </tr>\n",
       "    <tr>\n",
       "      <th>12</th>\n",
       "      <td>2020-10-31</td>\n",
       "      <td>2</td>\n",
       "      <td>6</td>\n",
       "    </tr>\n",
       "    <tr>\n",
       "      <th>13</th>\n",
       "      <td>2020-11-01</td>\n",
       "      <td>15</td>\n",
       "      <td>56</td>\n",
       "    </tr>\n",
       "    <tr>\n",
       "      <th>14</th>\n",
       "      <td>2020-11-02</td>\n",
       "      <td>3</td>\n",
       "      <td>14</td>\n",
       "    </tr>\n",
       "    <tr>\n",
       "      <th>15</th>\n",
       "      <td>2020-11-03</td>\n",
       "      <td>7</td>\n",
       "      <td>17</td>\n",
       "    </tr>\n",
       "    <tr>\n",
       "      <th>16</th>\n",
       "      <td>2020-11-04</td>\n",
       "      <td>3</td>\n",
       "      <td>8</td>\n",
       "    </tr>\n",
       "    <tr>\n",
       "      <th>17</th>\n",
       "      <td>2020-11-05</td>\n",
       "      <td>6</td>\n",
       "      <td>12</td>\n",
       "    </tr>\n",
       "    <tr>\n",
       "      <th>18</th>\n",
       "      <td>2020-11-06</td>\n",
       "      <td>17</td>\n",
       "      <td>44</td>\n",
       "    </tr>\n",
       "    <tr>\n",
       "      <th>19</th>\n",
       "      <td>2020-11-07</td>\n",
       "      <td>8</td>\n",
       "      <td>24</td>\n",
       "    </tr>\n",
       "    <tr>\n",
       "      <th>20</th>\n",
       "      <td>2020-11-08</td>\n",
       "      <td>23</td>\n",
       "      <td>63</td>\n",
       "    </tr>\n",
       "  </tbody>\n",
       "</table>\n",
       "</div>"
      ],
      "text/plain": [
       "         date #news #spo\n",
       "0  2020-10-19     4   27\n",
       "1  2020-10-20     4   36\n",
       "2  2020-10-21     3   18\n",
       "3  2020-10-22    11   92\n",
       "4  2020-10-23    19  177\n",
       "5  2020-10-24    12  107\n",
       "6  2020-10-25    16  105\n",
       "7  2020-10-26     1    8\n",
       "8  2020-10-27     4   23\n",
       "9  2020-10-28     9   51\n",
       "10 2020-10-29    14   80\n",
       "11 2020-10-30     9   44\n",
       "12 2020-10-31     2    6\n",
       "13 2020-11-01    15   56\n",
       "14 2020-11-02     3   14\n",
       "15 2020-11-03     7   17\n",
       "16 2020-11-04     3    8\n",
       "17 2020-11-05     6   12\n",
       "18 2020-11-06    17   44\n",
       "19 2020-11-07     8   24\n",
       "20 2020-11-08    23   63"
      ]
     },
     "execution_count": 8,
     "metadata": {},
     "output_type": "execute_result"
    }
   ],
   "source": [
    "df = pd.concat([numnews,numspo],axis=1).drop('index', axis=1)\n",
    "df.columns = [['date', '#news', '#spo']]\n",
    "df"
   ]
  },
  {
   "cell_type": "markdown",
   "metadata": {},
   "source": [
    "- 기초통계량"
   ]
  },
  {
   "cell_type": "code",
   "execution_count": 178,
   "metadata": {
    "ExecuteTime": {
     "end_time": "2020-12-18T07:02:01.641117Z",
     "start_time": "2020-12-18T07:02:01.620220Z"
    }
   },
   "outputs": [
    {
     "data": {
      "text/html": [
       "<div>\n",
       "<style scoped>\n",
       "    .dataframe tbody tr th:only-of-type {\n",
       "        vertical-align: middle;\n",
       "    }\n",
       "\n",
       "    .dataframe tbody tr th {\n",
       "        vertical-align: top;\n",
       "    }\n",
       "\n",
       "    .dataframe thead tr th {\n",
       "        text-align: left;\n",
       "    }\n",
       "</style>\n",
       "<table border=\"1\" class=\"dataframe\">\n",
       "  <thead>\n",
       "    <tr>\n",
       "      <th></th>\n",
       "      <th>#news</th>\n",
       "      <th>#spo</th>\n",
       "    </tr>\n",
       "  </thead>\n",
       "  <tbody>\n",
       "    <tr>\n",
       "      <th>count</th>\n",
       "      <td>21.00</td>\n",
       "      <td>21.00</td>\n",
       "    </tr>\n",
       "    <tr>\n",
       "      <th>mean</th>\n",
       "      <td>9.05</td>\n",
       "      <td>48.19</td>\n",
       "    </tr>\n",
       "    <tr>\n",
       "      <th>std</th>\n",
       "      <td>6.30</td>\n",
       "      <td>43.43</td>\n",
       "    </tr>\n",
       "    <tr>\n",
       "      <th>min</th>\n",
       "      <td>1.00</td>\n",
       "      <td>6.00</td>\n",
       "    </tr>\n",
       "    <tr>\n",
       "      <th>25%</th>\n",
       "      <td>4.00</td>\n",
       "      <td>17.00</td>\n",
       "    </tr>\n",
       "    <tr>\n",
       "      <th>50%</th>\n",
       "      <td>8.00</td>\n",
       "      <td>36.00</td>\n",
       "    </tr>\n",
       "    <tr>\n",
       "      <th>75%</th>\n",
       "      <td>14.00</td>\n",
       "      <td>63.00</td>\n",
       "    </tr>\n",
       "    <tr>\n",
       "      <th>max</th>\n",
       "      <td>23.00</td>\n",
       "      <td>177.00</td>\n",
       "    </tr>\n",
       "  </tbody>\n",
       "</table>\n",
       "</div>"
      ],
      "text/plain": [
       "       #news    #spo\n",
       "count  21.00   21.00\n",
       "mean    9.05   48.19\n",
       "std     6.30   43.43\n",
       "min     1.00    6.00\n",
       "25%     4.00   17.00\n",
       "50%     8.00   36.00\n",
       "75%    14.00   63.00\n",
       "max    23.00  177.00"
      ]
     },
     "execution_count": 178,
     "metadata": {},
     "output_type": "execute_result"
    }
   ],
   "source": [
    "round(df.describe(),2)"
   ]
  },
  {
   "cell_type": "code",
   "execution_count": 22,
   "metadata": {
    "ExecuteTime": {
     "end_time": "2020-12-18T07:41:15.850165Z",
     "start_time": "2020-12-18T07:41:15.846121Z"
    }
   },
   "outputs": [],
   "source": [
    "df = df.reset_index()"
   ]
  },
  {
   "cell_type": "code",
   "execution_count": 23,
   "metadata": {
    "ExecuteTime": {
     "end_time": "2020-12-18T07:41:19.430000Z",
     "start_time": "2020-12-18T07:41:19.418296Z"
    }
   },
   "outputs": [
    {
     "ename": "TypeError",
     "evalue": "only integer scalar arrays can be converted to a scalar index",
     "output_type": "error",
     "traceback": [
      "\u001b[0;31m---------------------------------------------------------------------------\u001b[0m",
      "\u001b[0;31mTypeError\u001b[0m                                 Traceback (most recent call last)",
      "\u001b[0;32m<ipython-input-23-6c17b2ed138b>\u001b[0m in \u001b[0;36m<module>\u001b[0;34m\u001b[0m\n\u001b[0;32m----> 1\u001b[0;31m \u001b[0mdf\u001b[0m\u001b[0;34m.\u001b[0m\u001b[0mdate\u001b[0m\u001b[0;34m\u001b[0m\u001b[0;34m\u001b[0m\u001b[0m\n\u001b[0m",
      "\u001b[0;32m~/anaconda2/envs/py35/lib/python3.8/site-packages/pandas/core/generic.py\u001b[0m in \u001b[0;36m__getattr__\u001b[0;34m(self, name)\u001b[0m\n\u001b[1;32m   5271\u001b[0m         \u001b[0;32melse\u001b[0m\u001b[0;34m:\u001b[0m\u001b[0;34m\u001b[0m\u001b[0;34m\u001b[0m\u001b[0m\n\u001b[1;32m   5272\u001b[0m             \u001b[0;32mif\u001b[0m \u001b[0mself\u001b[0m\u001b[0;34m.\u001b[0m\u001b[0m_info_axis\u001b[0m\u001b[0;34m.\u001b[0m\u001b[0m_can_hold_identifiers_and_holds_name\u001b[0m\u001b[0;34m(\u001b[0m\u001b[0mname\u001b[0m\u001b[0;34m)\u001b[0m\u001b[0;34m:\u001b[0m\u001b[0;34m\u001b[0m\u001b[0;34m\u001b[0m\u001b[0m\n\u001b[0;32m-> 5273\u001b[0;31m                 \u001b[0;32mreturn\u001b[0m \u001b[0mself\u001b[0m\u001b[0;34m[\u001b[0m\u001b[0mname\u001b[0m\u001b[0;34m]\u001b[0m\u001b[0;34m\u001b[0m\u001b[0;34m\u001b[0m\u001b[0m\n\u001b[0m\u001b[1;32m   5274\u001b[0m             \u001b[0;32mreturn\u001b[0m \u001b[0mobject\u001b[0m\u001b[0;34m.\u001b[0m\u001b[0m__getattribute__\u001b[0m\u001b[0;34m(\u001b[0m\u001b[0mself\u001b[0m\u001b[0;34m,\u001b[0m \u001b[0mname\u001b[0m\u001b[0;34m)\u001b[0m\u001b[0;34m\u001b[0m\u001b[0;34m\u001b[0m\u001b[0m\n\u001b[1;32m   5275\u001b[0m \u001b[0;34m\u001b[0m\u001b[0m\n",
      "\u001b[0;32m~/anaconda2/envs/py35/lib/python3.8/site-packages/pandas/core/frame.py\u001b[0m in \u001b[0;36m__getitem__\u001b[0;34m(self, key)\u001b[0m\n\u001b[1;32m   2774\u001b[0m                 \u001b[0;32mif\u001b[0m \u001b[0mself\u001b[0m\u001b[0;34m.\u001b[0m\u001b[0mcolumns\u001b[0m\u001b[0;34m.\u001b[0m\u001b[0mnlevels\u001b[0m \u001b[0;34m>\u001b[0m \u001b[0;36m1\u001b[0m\u001b[0;34m:\u001b[0m\u001b[0;34m\u001b[0m\u001b[0;34m\u001b[0m\u001b[0m\n\u001b[1;32m   2775\u001b[0m                     \u001b[0;32mreturn\u001b[0m \u001b[0mself\u001b[0m\u001b[0;34m.\u001b[0m\u001b[0m_getitem_multilevel\u001b[0m\u001b[0;34m(\u001b[0m\u001b[0mkey\u001b[0m\u001b[0;34m)\u001b[0m\u001b[0;34m\u001b[0m\u001b[0;34m\u001b[0m\u001b[0m\n\u001b[0;32m-> 2776\u001b[0;31m                 \u001b[0;32mreturn\u001b[0m \u001b[0mself\u001b[0m\u001b[0;34m.\u001b[0m\u001b[0m_get_item_cache\u001b[0m\u001b[0;34m(\u001b[0m\u001b[0mkey\u001b[0m\u001b[0;34m)\u001b[0m\u001b[0;34m\u001b[0m\u001b[0;34m\u001b[0m\u001b[0m\n\u001b[0m\u001b[1;32m   2777\u001b[0m \u001b[0;34m\u001b[0m\u001b[0m\n\u001b[1;32m   2778\u001b[0m         \u001b[0;31m# Do we have a slicer (on rows)?\u001b[0m\u001b[0;34m\u001b[0m\u001b[0;34m\u001b[0m\u001b[0;34m\u001b[0m\u001b[0m\n",
      "\u001b[0;32m~/anaconda2/envs/py35/lib/python3.8/site-packages/pandas/core/generic.py\u001b[0m in \u001b[0;36m_get_item_cache\u001b[0;34m(self, item)\u001b[0m\n\u001b[1;32m   3584\u001b[0m         \u001b[0mres\u001b[0m \u001b[0;34m=\u001b[0m \u001b[0mcache\u001b[0m\u001b[0;34m.\u001b[0m\u001b[0mget\u001b[0m\u001b[0;34m(\u001b[0m\u001b[0mitem\u001b[0m\u001b[0;34m)\u001b[0m\u001b[0;34m\u001b[0m\u001b[0;34m\u001b[0m\u001b[0m\n\u001b[1;32m   3585\u001b[0m         \u001b[0;32mif\u001b[0m \u001b[0mres\u001b[0m \u001b[0;32mis\u001b[0m \u001b[0;32mNone\u001b[0m\u001b[0;34m:\u001b[0m\u001b[0;34m\u001b[0m\u001b[0;34m\u001b[0m\u001b[0m\n\u001b[0;32m-> 3586\u001b[0;31m             \u001b[0mvalues\u001b[0m \u001b[0;34m=\u001b[0m \u001b[0mself\u001b[0m\u001b[0;34m.\u001b[0m\u001b[0m_data\u001b[0m\u001b[0;34m.\u001b[0m\u001b[0mget\u001b[0m\u001b[0;34m(\u001b[0m\u001b[0mitem\u001b[0m\u001b[0;34m)\u001b[0m\u001b[0;34m\u001b[0m\u001b[0;34m\u001b[0m\u001b[0m\n\u001b[0m\u001b[1;32m   3587\u001b[0m             \u001b[0mres\u001b[0m \u001b[0;34m=\u001b[0m \u001b[0mself\u001b[0m\u001b[0;34m.\u001b[0m\u001b[0m_box_item_values\u001b[0m\u001b[0;34m(\u001b[0m\u001b[0mitem\u001b[0m\u001b[0;34m,\u001b[0m \u001b[0mvalues\u001b[0m\u001b[0;34m)\u001b[0m\u001b[0;34m\u001b[0m\u001b[0;34m\u001b[0m\u001b[0m\n\u001b[1;32m   3588\u001b[0m             \u001b[0mcache\u001b[0m\u001b[0;34m[\u001b[0m\u001b[0mitem\u001b[0m\u001b[0;34m]\u001b[0m \u001b[0;34m=\u001b[0m \u001b[0mres\u001b[0m\u001b[0;34m\u001b[0m\u001b[0;34m\u001b[0m\u001b[0m\n",
      "\u001b[0;32m~/anaconda2/envs/py35/lib/python3.8/site-packages/pandas/core/internals/managers.py\u001b[0m in \u001b[0;36mget\u001b[0;34m(self, item)\u001b[0m\n\u001b[1;32m    966\u001b[0m                         \u001b[0;32mraise\u001b[0m \u001b[0mValueError\u001b[0m\u001b[0;34m(\u001b[0m\u001b[0;34m\"cannot label index with a null key\"\u001b[0m\u001b[0;34m)\u001b[0m\u001b[0;34m\u001b[0m\u001b[0;34m\u001b[0m\u001b[0m\n\u001b[1;32m    967\u001b[0m \u001b[0;34m\u001b[0m\u001b[0m\n\u001b[0;32m--> 968\u001b[0;31m             \u001b[0;32mreturn\u001b[0m \u001b[0mself\u001b[0m\u001b[0;34m.\u001b[0m\u001b[0miget\u001b[0m\u001b[0;34m(\u001b[0m\u001b[0mloc\u001b[0m\u001b[0;34m)\u001b[0m\u001b[0;34m\u001b[0m\u001b[0;34m\u001b[0m\u001b[0m\n\u001b[0m\u001b[1;32m    969\u001b[0m         \u001b[0;32melse\u001b[0m\u001b[0;34m:\u001b[0m\u001b[0;34m\u001b[0m\u001b[0;34m\u001b[0m\u001b[0m\n\u001b[1;32m    970\u001b[0m \u001b[0;34m\u001b[0m\u001b[0m\n",
      "\u001b[0;32m~/anaconda2/envs/py35/lib/python3.8/site-packages/pandas/core/internals/managers.py\u001b[0m in \u001b[0;36miget\u001b[0;34m(self, i)\u001b[0m\n\u001b[1;32m    983\u001b[0m         \u001b[0mOtherwise\u001b[0m \u001b[0;32mreturn\u001b[0m \u001b[0;32mas\u001b[0m \u001b[0ma\u001b[0m \u001b[0mndarray\u001b[0m\u001b[0;34m\u001b[0m\u001b[0;34m\u001b[0m\u001b[0m\n\u001b[1;32m    984\u001b[0m         \"\"\"\n\u001b[0;32m--> 985\u001b[0;31m         \u001b[0mblock\u001b[0m \u001b[0;34m=\u001b[0m \u001b[0mself\u001b[0m\u001b[0;34m.\u001b[0m\u001b[0mblocks\u001b[0m\u001b[0;34m[\u001b[0m\u001b[0mself\u001b[0m\u001b[0;34m.\u001b[0m\u001b[0m_blknos\u001b[0m\u001b[0;34m[\u001b[0m\u001b[0mi\u001b[0m\u001b[0;34m]\u001b[0m\u001b[0;34m]\u001b[0m\u001b[0;34m\u001b[0m\u001b[0;34m\u001b[0m\u001b[0m\n\u001b[0m\u001b[1;32m    986\u001b[0m         \u001b[0mvalues\u001b[0m \u001b[0;34m=\u001b[0m \u001b[0mblock\u001b[0m\u001b[0;34m.\u001b[0m\u001b[0miget\u001b[0m\u001b[0;34m(\u001b[0m\u001b[0mself\u001b[0m\u001b[0;34m.\u001b[0m\u001b[0m_blklocs\u001b[0m\u001b[0;34m[\u001b[0m\u001b[0mi\u001b[0m\u001b[0;34m]\u001b[0m\u001b[0;34m)\u001b[0m\u001b[0;34m\u001b[0m\u001b[0;34m\u001b[0m\u001b[0m\n\u001b[1;32m    987\u001b[0m \u001b[0;34m\u001b[0m\u001b[0m\n",
      "\u001b[0;31mTypeError\u001b[0m: only integer scalar arrays can be converted to a scalar index"
     ]
    }
   ],
   "source": [
    "df.date"
   ]
  },
  {
   "cell_type": "code",
   "execution_count": null,
   "metadata": {},
   "outputs": [],
   "source": []
  },
  {
   "cell_type": "code",
   "execution_count": null,
   "metadata": {},
   "outputs": [],
   "source": []
  },
  {
   "cell_type": "markdown",
   "metadata": {},
   "source": [
    "- 뉴스 당 평균 SPO 개수"
   ]
  },
  {
   "cell_type": "code",
   "execution_count": 171,
   "metadata": {
    "ExecuteTime": {
     "end_time": "2020-12-18T06:31:19.615548Z",
     "start_time": "2020-12-18T06:31:19.606229Z"
    }
   },
   "outputs": [
    {
     "name": "stdout",
     "output_type": "stream",
     "text": [
      "1012 190\n"
     ]
    },
    {
     "data": {
      "text/plain": [
       "5.326315789473684"
      ]
     },
     "execution_count": 171,
     "metadata": {},
     "output_type": "execute_result"
    }
   ],
   "source": [
    "a = df[['#spo']].sum()[('#spo',)]\n",
    "b = df[['#news']].sum()[('#news',)]\n",
    "avg_spo = a/b\n",
    "print(a,b)\n",
    "avg_spo"
   ]
  },
  {
   "cell_type": "code",
   "execution_count": 176,
   "metadata": {
    "ExecuteTime": {
     "end_time": "2020-12-18T06:40:36.391879Z",
     "start_time": "2020-12-18T06:40:36.387291Z"
    }
   },
   "outputs": [
    {
     "data": {
      "text/plain": [
       "array([  1,   2,   3,   4,   5,   6,   7,   8,   9,  10,  11,  12,  13,\n",
       "        14,  15,  16,  17,  18,  19,  20,  21,  22,  23,  24,  25,  26,\n",
       "        27,  28,  29,  30,  31,  32,  33,  34,  35,  36,  37,  38,  39,\n",
       "        40,  41,  42,  43,  44,  45,  46,  47,  48,  50,  51,  52,  53,\n",
       "        54,  57,  58,  59,  60,  61,  62,  63,  64,  65,  66,  68,  69,\n",
       "        70,  73,  75,  77, 121, 122, 123, 124, 125, 127, 128, 129, 130,\n",
       "       131, 132, 133, 134, 135, 136, 137, 139, 140, 141, 142, 144, 145,\n",
       "       147, 148, 149, 151, 152, 153, 154, 156, 157, 158, 159, 160, 161,\n",
       "       162, 163, 165, 166, 167, 168, 169, 170, 171, 172, 173, 174, 175,\n",
       "       176, 177, 178, 179, 180, 181, 182, 183, 184, 185, 186, 187, 188,\n",
       "       189, 190, 191, 192, 193, 194, 195, 196, 197, 198, 199, 200, 201,\n",
       "       202, 203, 204, 205, 206, 207, 208, 209, 211, 212, 213,  78,  80,\n",
       "        81,  82,  83,  84,  85,  87,  88,  92,  93,  94,  95,  96,  97,\n",
       "        98,  99, 100, 101, 102, 104, 105, 106, 107, 108, 109, 110, 111,\n",
       "       112, 113, 115, 117, 119, 214, 215, 216])"
      ]
     },
     "execution_count": 176,
     "metadata": {},
     "output_type": "execute_result"
    }
   ],
   "source": [
    "data.news_id.unique()"
   ]
  },
  {
   "cell_type": "code",
   "execution_count": 141,
   "metadata": {
    "ExecuteTime": {
     "end_time": "2020-12-18T04:55:50.902490Z",
     "start_time": "2020-12-18T04:55:50.897145Z"
    }
   },
   "outputs": [
    {
     "name": "stdout",
     "output_type": "stream",
     "text": [
      "#subject: 405\n",
      "#predicate: 494\n",
      "#object: 646\n"
     ]
    }
   ],
   "source": [
    "print('#subject:',data.subject.nunique())\n",
    "print('#predicate:',data.predicate.nunique())\n",
    "print('#object:',data.object.nunique())"
   ]
  },
  {
   "cell_type": "code",
   "execution_count": 169,
   "metadata": {
    "ExecuteTime": {
     "end_time": "2020-12-18T06:14:43.706844Z",
     "start_time": "2020-12-18T06:14:43.698151Z"
    }
   },
   "outputs": [
    {
     "name": "stdout",
     "output_type": "stream",
     "text": [
      "920\n"
     ]
    },
    {
     "data": {
      "text/plain": [
       "array(['0.23%', '0.47%', '0.8포인트', '1.28%', '10% 가까이', '100조원', '101',\n",
       "       '101조6,828억원', '10가구 중 6가구', '11월', '130.1', '198만원', '1990년',\n",
       "       '1990년 한달에 13.36%', '1999년', '1~2억', '1년', '1만2000명', '1억원',\n",
       "       '1주에 0.51%', '1주택자', '2.24%', '2.32%', '20.40%', '2010년', '2011년',\n",
       "       '2012년', '2013년', '2014년 10·30 대책', '2014년 9.1대책', '2015년',\n",
       "       '2015년 9·2 대책', '2017년이래', '2019 일자리 행정통계 임금근로자 부채', '2023년',\n",
       "       '20~30년 후', '26.60%', '27.40%', '29세 이하 사업자 연체율',\n",
       "       '29세 이하 사업자 평균대출', '2개', '2년전보다 2억5천만원', '2억', '2억원', '3+3 개정안',\n",
       "       '3+3년 개정안', '3.30%', '349만원', '3개월', '3기 신도시', '3달', '3억', '3억 중반',\n",
       "       '3억원', '3주 연속', '3천 750만원', '40%', '4245만원', '4년', '4배', '4억 이상',\n",
       "       '5071만원', '54채', '57만명', '5년', '5억 이하 주택', '5억 이하 주택구입', '5억2천만원',\n",
       "       '5억원', '6.71%', '60%', '60대', '617대책', '64주', '6개', '70대', '70주',\n",
       "       '750만원 한도', '7월 31일', '7월 말', '8조원', '913 대책', '913대책', '913대책 이후',\n",
       "       'DSR 관리기준', 'DSR 규제', 'DSR 기준 감소', 'HUG', 'KB 부동산 통계', '가격',\n",
       "       '가격 상승분', '가격흥정', '가계금융복지조사', '가계대출', '가계부채', '가계부채 관리방안', '가속도',\n",
       "       '가을이사철', '갈등', '감액등기', '감액등기 미실행', '감정원 통계', '감정평가사', '강남구', '강남권',\n",
       "       '강남권 아파트', '강남아파트', '강북구', '강제력', '강화', '개인생활', '개정안', '갭투자',\n",
       "       '갱신 거절', '갱신임대차기간', '거래', '거래량', '거래절벽', '건강보험료', '검찰개혁', '격차',\n",
       "       '결과', '결혼', '결혼지원정책', '경기', '경기도', '경제상황전반', '경제적 기본권', '계약',\n",
       "       '계약갱신', '계약갱신청구권', '계약갱신청구권 행사 여부', '계약기간 만료', '계약기간 연장', '계약의 자유',\n",
       "       '계약자', '계절적요인', '계획', '고비용 주거 구조', '공공임대', '공공임대주택', '공공임대주택 공급',\n",
       "       '공공주택 입주시기', '공급', '공급 대비 수요 불균형', '공급 모델', '공급 부족', '공급 확대',\n",
       "       '공급대책', '공급량', '공급불안', '공급시기', '공급확대', '공시지가', '공시지가 상승', '공인중개사',\n",
       "       '과거대책', '과도기', '과천지식정보타운', '관계부처', '관계부처간 협의', '관리', '관망세', '관심',\n",
       "       '광역시', '교수', '교통여건', '국민', '국민 기본권', '국민권익위원회', '국민들 신음',\n",
       "       '국민의 목소리', '국민의 재산권', '국민청원 게시판', '국정감사장', '국토교통부', '국토부 입장', '규제',\n",
       "       '규제강화', '균등 지분', '근로자 연체율', '근로자 평균대출', '근심', '근저당', '금리', '금리변동',\n",
       "       '금리인하', '금리탓', '금액', '금융당국', '금융위원회', '금융자산', '금융통화위원회', '긍정적 영향',\n",
       "       '기대가격 상승', '기대심리', '기존', '기존 정책', '기존 정책 추진', '기존 조치', '기존대책',\n",
       "       '기존세입자', '기존정책', '기존정책 방향성', '기준시가', '기준시가 ', '긴 줄',\n",
       "       '김명수 국회도서관 전문경력관', '김모씨', '김상훈 국민의힘 의원', '김은혜 의원', '김포', '김현미 장관',\n",
       "       '꼬임', '꼼수', '남성 근로자', '낮은가격', '내년 6월', '내년 이후', '내년 입주물량', '내년 초',\n",
       "       '내년 초 안정화', '내집마련', '노원구', '논란', '뉴욕', '다른 곳', '다른 매물', '다른지역 전셋집',\n",
       "       '다세대', '다세대 공급', '다주택자', '단기 공급', '단기대책', '단기충격', '단독주택', '담보대출',\n",
       "       '답변', '대기업 직장인', '대기자', '대기자금', '대북정책', '대신들', '대응방안 마련', '대전',\n",
       "       '대책', '대책 마련', '대책의 여지', '대출', '대출 규제', '대출금일부', '대출상품', '대출자',\n",
       "       '대출잔액', '대치동 아파트', '더불어민주당', '데이터 확보', '도봉구', '도심', '도움', '도입',\n",
       "       '돈', '동대문구', '동시', '디딤돌대출', '똘똘한한채', '래미안블레스티지', '런던', '로드맵',\n",
       "       '리모델링 매입임대', '만전', '매년', '매매', '매매가', '매매가 격차', '매매가 상승',\n",
       "       '매매가 상승폭', '매매가격', '매매계약', '매매수요', '매매시장', '매매시장 안정대책', '매매자',\n",
       "       '매물', '매출', '몇몇 지역', '몇시간', '모든 지역', '목돈마련', '목적지', '무갭투자', '무조건',\n",
       "       '무주택 세대주', '무주택가구', '무주택자', '문의', '문재인', '문재인정부', '문제', '물건', '물량',\n",
       "       '물량공급', '물량찾기', '미분양 주택', '미분양 주택 감소', '미혼자', '민간등록임대사업자',\n",
       "       '민간임대주택', '민간임대주택에 관한 특별법', '박상혁 의원', '반값아파트', '반응', '발표한 정책',\n",
       "       '방안', '방어논리', '방향전환', '법안', '법적 다툼', '변화', '보금자리주택', '보도', '보유세',\n",
       "       '보이는 손', '보이지 않는 손', '보증금', '보증금 10억원, 월세 120만원',\n",
       "       '보증금 1억원, 월세 380만원', '보증기간', '보증수수료 25%', '보증수수료 75%', '보험 가입',\n",
       "       '복합적요인', '부담', '부담하는 국민', '부동산', '부동산 시장 안정', '부동산 시정 안정',\n",
       "       '부동산114', '부동산가격 상승', '부동산대책', '부동산매매 수익', '부동산문제', '부동산시장',\n",
       "       '부동산시장 과열', '부동산시장 부양', '부동산시장 안정', '부동산시장안정', '부동산자금', '부동산정책',\n",
       "       '부동산커뮤니티', '부분분할상환', '부분상환', '부산시', '부작용', '부채', '분노', '분양자', '분쟁',\n",
       "       '분쟁 해결', '분쟁조정', '분통', '분할상환방식', '불똥', '불만', '불안', '불안감', '불안정성',\n",
       "       '비강남권', '비규제지역', '비난여론', '비싼 전세', '비판', '빌라', '빚', '사람들', '사실',\n",
       "       '사업', '사업성', '사업자', '사연', '사진 속 매물', '사진 속 매물 전세가', '사회적 시장경제질서',\n",
       "       '사회적 연대', '사회적 유대감', '사회적시장경제질서', '상가시장', '상가임대차 보호 입법례', '상담',\n",
       "       '상담건수', '상당기간', '상승', '상승 시장', '상승 억제', '상승 전환', '상승률', '상승세',\n",
       "       '상승속도', '상승폭', '상황', '새로운 대책', '새집', '샌프란시스코', '생활편의시설', '서민',\n",
       "       '서민 주택구입', '서민불안', '서울', '서울 빌라', '서울 아파트', '서울 아파트 누적 변동률',\n",
       "       '서울 아파트 매매가', '서울 아파트 월세지수', '서울 아파트 전세가', '서울 아파트 전셋값', '서울 외곽',\n",
       "       '서울 전세', '서울거주', '서울외곽', '서초구', '설명자료', '설문조사', '성시경쇼', '세 달',\n",
       "       '세대분할', '세무사', '세압자', '세액공제', '세액공제 가능 주택', '세액공제 기준시가', '세액공제 한도',\n",
       "       '세액공제 확대', '세입자', '세입자 구하기', '세입자 부담', '세입자 손해', '세제감면', '세종시',\n",
       "       '세집자들', '센 놈', '소급', '소득공제', '소비자물가', '속도', '속도조절', '손해배상비', '송파구',\n",
       "       '수급', '수급불균형', '수도권', '수도권 월세상승률', '수도권 전셋값', '수도권 주민', '수요',\n",
       "       '수요 증가', '수요와 공급', '수원시', '수준', '수치', '스카이 72', '스카이72 골프장 운영권',\n",
       "       '시간', '시간대', '시무 7조', '시세', '시세 상승폭', '시작', '시장', '시장 구조', '시장 수급',\n",
       "       '시장 존중 대책', '시장불안', '시장불안정', '시장정책', '시장질서', '시중', '시중은행', '신고가',\n",
       "       '신규 규제', '신규 아파트', '신규계약', '신규대책 발표', '신규물량 부족', '신규분양 관심',\n",
       "       '신규세입자', '신동아 아파트 210㎡', '신설', '신용대출', '신혼부부', '신혼부부 지원', '실거래 가격',\n",
       "       '실거주', '실망', '실수요자', '실수요자 보호', '실수요자보호', '실제와 다른 일', '실태', '심리',\n",
       "       '심의결과', '싱가포르', '아파트', '아파트 가격', '아파트 갈아타기', '아파트 매매', '아파트 매입',\n",
       "       '아파트 시장동향', '아파트 전세계약', '아파트 전세난', '아파트 전세대출', '아파트 전셋값', '아파트값',\n",
       "       '아파트매매', '아파트전세', '악화', '안심대출보증현황', '안정세', '안정화', '안정화 대책', '야당',\n",
       "       '양향자 더불어민주당 의원', '어린 직장인', '언론', '여권', '여당', '여당의원', '여러 요인',\n",
       "       '여론조사', '여론조사기관', '여성 근로자', '여야', '여지', '역대 최고치', '역대급', '역대정책',\n",
       "       '역대최저치', '역전현상', '연대', '연립', '연립 공급', '연봉 1억원', '연체율',\n",
       "       '영구 임대주택 공급', '영향', '영향 분석', '오류', '오름세', '오산시', '오피스텔', '올전세',\n",
       "       '완화', '외곽', '요건', '용인시 아파트', '우리은행', '우수지역', '원금', '원금의5%이상', '원인',\n",
       "       '원희룡 제주지사', '월급쟁이', '월세', '월세 세액공제', '월세 세액공제 확대', '월세 시장',\n",
       "       '월세 임차인', '월세 전환', '월세비율', '월세비중', '월세상승', '월세시장', '월세시장 평균 가격',\n",
       "       '월세액의 10%', '월세자금 대출', '월세전환', '월세지수', '위헌 소지', '유동성', '유지',\n",
       "       '윤호중 의원', '은성수 금융위원장', '은행', '응답자', '응답자 38.8%', '응답자 절반', '의견',\n",
       "       '의지', '이 변호사', '이 시점', '이면계약', '이사', '이사비', '이자', '이자부담', '이자상환',\n",
       "       '인구 감소로 따른 가구 분화', '인기지역', '인천', '인천국제공항공사', '일대', '임금근로자', '임대가구',\n",
       "       '임대등록사업자', '임대료', '임대료 상승', '임대료 상한제', '임대료 조정 협상 의무', '임대료 증액',\n",
       "       '임대보증금', '임대보증금 보증보험 제도', '임대소득', '임대시장 안정', '임대인', '임대인 보호',\n",
       "       '임대자보호법', '임대주택', '임대주택 공급', '임대주택공급', '임대주택사업자', '임대차', '임대차 계약',\n",
       "       '임대차 물건', '임대차 분쟁', '임대차 분쟁 상담', '임대차 조정위원회', '임대차계약', '임대차계약서',\n",
       "       '임대차계약서 개정안', '임대차법', '임대차법 개정', '임대차법 시행', '임대차법 위헌', '임대차법 이후',\n",
       "       '임대차법 통과', '임대차보호법', '임대차분쟁', '임대차시장', '임대차시장 데이터', '임대차신고제',\n",
       "       '임차금', '임차인', '임차인 혜택', '입장', '입장 재확인', '입주', '입주물량', '자기 돈', '자료',\n",
       "       '자체수급', '장기간', '장기화', '재개발', '재건축', '재건축 규제', '재건축아파트', '재산권',\n",
       "       '재산권 침해', '재정당국', '재정부담', '저금리', '저금리 원인', '저금리 정책', '저렴한 지역',\n",
       "       '저축', '적용', '전 정권', '전국', '전년', '전망', '전문가', '전문성', '전방위', '전세',\n",
       "       '전세 거래', '전세 구하기', '전세 낀 집', '전세 난민', '전세 대책 발표', '전세 대출금',\n",
       "       '전세 물량', '전세 물량 부족', '전세 불안 요인', '전세 수요', '전세 수요자', '전세가',\n",
       "       '전세가 감소 지역', '전세가 상승세', '전세가격', '전세가격 변동율', '전세가격지수', '전세가와 매매가',\n",
       "       '전세가율 상승지역', '전세거래', '전세거래자료', '전세계약', '전세공급', '전세금', '전세금 보증액',\n",
       "       '전세금 보험', '전세기간 연장', '전세난', '전세난 대책', '전세난 심각', '전세난 안정', '전세난 원인',\n",
       "       '전세대란', '전세대책', '전세대출', '전세대출 기준', '전세대출 상환기간', '전세대출 확대', '전세매물',\n",
       "       '전세물건', '전세물량', '전세물량 감소', '전세보증금', '전세불안 주범', '전세비율', '전세비중',\n",
       "       '전세산', '전세수급지수', '전세수요', '전세수요 차단', '전세시세변동률', '전세시세통계', '전세시장',\n",
       "       '전세시장 불안', '전세시장 불안정', '전세시장 불안정성', '전세시장 안정', '전세시장 안정대책',\n",
       "       '전세시장안정', '전세실거래가', '전세안정대책', '전세의 0.6%', '전세자금 지원', '전세자금대출',\n",
       "       '전세자금대출증가', '전세자금보증', '전세자금지원', '전세자금지원 확대', '전세전환', '전세집', '전셋값',\n",
       "       '전셋값 상승', '전셋값 상승세', '전셋값 안정', '전셋돈', '전셋집', '전월대비', '전월세',\n",
       "       '전월세 대란 대책', '전월세 상한제', '전월세상한제', '전월세전환율', '전월시세장', '전주시',\n",
       "       '전통적 전세대책', '전환', '젊은층', '젋은층', '접근성', '정당한 사유', '정부', '정부 개입',\n",
       "       '정부대책', '정부여당', '정부역할', '정책', '정책남발', '정책방향', '제3자에게 주택', '제도 변경',\n",
       "       '제도적 장치', '제때', '조기', '조롱거리', '조은산', '조정', '조치', '종부세', '주거복지',\n",
       "       '주거비 부담', '주거안정', '주식', '주식투자', '주택', '주택 공급', '주택 및 지역 개발부',\n",
       "       '주택가격 안정', '주택가격동향', '주택거래', '주택공급', '주택구입', '주택담보대출', '주택도시보증공사',\n",
       "       '주택매수', '주택외담보대출', '주택융자', '주택융자 및 대출이자 지원사업', '주택임대사업자', '주택임대소득',\n",
       "       '주택임대차 분쟁조정자문단', '주택임대차보호법', '중대형 평형', '중도상환수수료', '중랑구', '중산층',\n",
       "       '중위가격', '중저가 아파트', '중저가 아파트 매매가', '중저가 아파트 매매수요', '중저가매물',\n",
       "       '중저가아파트', '증가', '증가폭', '지난 해', '지방', '지방 아파트 전셋값', '지방대도시', '지분',\n",
       "       '지분적립형 분양주택', '지속성', '지원방침', '지원체계', '지적', '지표', '직장인', '직전 전세계약금',\n",
       "       '진단', '진정', '질문', '집', '집 사는 사람', '집값', '집값 상승', '집값상승', '집값상승세',\n",
       "       '집주인', '집주인 요구', '차이', '청약', '청약쟈', '청원글', '청원자', '최고상승률', '최고치',\n",
       "       '최근', '최다 추천 청원', '최대 폭', '최대10년', '최소 20%', '최저보증료율', '최적의상황',\n",
       "       '추가대책', '추가자금', '추세', '추진', '축조심사', '취약계층 수급', '취지', '코로나 19시기',\n",
       "       '코로나 유행', '코로나 확산', '코로나19', '큰 폭', '테스형 전세시장 왜이래', '토사물',\n",
       "       '토사물 3법', '통계청', '통상 범위', '투기세력', '투기억제', '특별공급', '펀드',\n",
       "       '평균 2876만원', '평균 4245만원', '평균 5372만원', '평균 5616만원', '평균 전셋값', '평형',\n",
       "       '표본주택', '표준임대료 도입', '품귀현상', '풍선효과', '피해', '핀셋규제', '한국감정원', '한국은행',\n",
       "       '한국주택금융공사', '한도', '한양백서', '해결', '해명', '해명자료', '해법', '허점', '허탈',\n",
       "       '헌법', '헌법소원심판', '헤럴드경제', '현금', '현금화', '현장', '현장의 목소리', '현재',\n",
       "       '현재 임대차기간', '혜택', '호가', '혼란', '혼선', '혼인율', '홍남기', '홍남기 경제부총리',\n",
       "       '홍남기 부총리', '홍남기 전세 난민', '화성시', '확대', '확정일자', '후속 대책'], dtype=object)"
      ]
     },
     "execution_count": 169,
     "metadata": {},
     "output_type": "execute_result"
    }
   ],
   "source": [
    "#명사\n",
    "sub = pd.concat([data.subject, data.object]).unique()\n",
    "sub.sort()\n",
    "print(len(sub))\n",
    "sub"
   ]
  },
  {
   "cell_type": "code",
   "execution_count": 170,
   "metadata": {
    "ExecuteTime": {
     "end_time": "2020-12-18T06:15:52.672472Z",
     "start_time": "2020-12-18T06:15:52.665785Z"
    }
   },
   "outputs": [
    {
     "name": "stdout",
     "output_type": "stream",
     "text": [
      "494\n"
     ]
    },
    {
     "data": {
      "text/plain": [
       "array(['가능하다', '가속화되다', '가속화하지않다', '가장 높다', '가장 오르다', '가장 적다', '가장많다',\n",
       "       '가중하다', '가지다', '감면하다', '감소시키다', '감소하다', '감소하지 않다', '감소하지않다',\n",
       "       '강조하다', '강행하다', '강화하다', '갖춰지다', '갚다', '거래되다', '거론되다', '거론하다',\n",
       "       '거세다', '거절하다', '거주하다', '거치지 않다', '걱정하다', '걸리다', '검토하다', '겨냥하다',\n",
       "       '겪다', '견인하다', '결정되다', '결정하다', '경감하다', '경쟁하다', '계산하다', '계속되다',\n",
       "       '계약하다', '계획이다', '계획하다', '고개를 들다', '고려않다', '고려하다', '고려해야하다', '고민하다',\n",
       "       '고발하다', '고수하다', '고심하다', '고조되다', '고착화되다', '고통을 겪다', '공감하다', '공급하다',\n",
       "       '공방 벌이다', '과도기', '과세하다', '관건이다', '관심가지다', '관찰하다', '구성하다', '구입하다',\n",
       "       '구축하다', '구하다', '권리다', '규제하다', '그치다', '급등하다', '급증하다', '기대되다',\n",
       "       '기대하다', '기록하다', '기름붓다', '기미보이다', '기재하다', '기재해야하다', '기준이다', '기하다',\n",
       "       '길어지다', '깊어지다', '꺼내다', '꼬이다', '끌어올리다', '끼고있다', '나오다', '나와야하다',\n",
       "       '나타나다', '남다', '낮아지다', '낮추지않다', '낮출수밖에없다', '내놓기로하다', '내놓다', '내다',\n",
       "       '내다보다', '내려가다', '내보내다', '내지 않다', '넘다', '넘쳐흐르다', '노력하다', '논의하다',\n",
       "       '논의하지않다', '높다', '높아지다', '높이다', '느끼다', '늘다', '늘리다', '늘어나다', '늘지않다',\n",
       "       '늦다', '다루다', '다르다', '단독 처리하다', '단순하다', '단축하다', '단호하다', '달성하다',\n",
       "       '달하다', '답변하다', '답변하지 않다', '대기하다', '대변하다', '대책 세우다', '대출받다', '더 많다',\n",
       "       '덮다', '도움되다', '도움안된다', '도움주다', '도입하다', '돌려주다', '돌려줄 수 있다', '돌아서다',\n",
       "       '돌아오다', '돌파하다', '돕다', '동결되다', '동결해야하다', '동의하다', '동일하다', '되다',\n",
       "       '두드러지다', '들썩이다', '들이지않다', '등록되다', '등장하다', '떨어지다', '뛰다', '마련하다',\n",
       "       '마련해야 하다', '마이너스다', '막다', '만들다', '만들어지다', '만들지않다', '많다', '말소하다',\n",
       "       '말하다', '망설이다', '매도하다', '매매하다', '맺다', '맺어지다', '멀어지다', '면제하다',\n",
       "       '명확하지 않다', '모색하다', '못갚다', '못하다', '무조건 만들지않다', '묻다', '미리 알려주다',\n",
       "       '미미하다', '미치다', '밀고나가다', '밀리다', '밀접하다', '바탕하다', '반대하다', '반박하다',\n",
       "       '반복되다', '반환할수있다', '받겠다고 하다', '받다', '받지못하다', '발생하다', '발생하지않다',\n",
       "       '발언하다', '발의하다', '발표되다', '발표예정이다', '발표하다', '밝히다', '방관하다', '배상해야 하다',\n",
       "       '배치되다', '번복하다', '번지다', '번질수있다', '벌어지다', '변동없다', '변화예정이다', '보강하다',\n",
       "       '보다', '보도되다', '보여주지 않다', '보완하다', '보유하다', '보호하다', '보호할 수 없다',\n",
       "       '복합적이다', '부과하다', '부담 덜다', '부여하다', '부인하다', '부정적이다', '부정하다', '부족하다',\n",
       "       '분석하다', '분쟁하다', '불가피하다', '불가하다', '불과하다', '불균형하다', '불안하다', '붙다',\n",
       "       '붙어있다', '비급하다', '비상이다', '비판하다', '빈발하다', '빌려주다', '빚지다', '빠져나가다',\n",
       "       '뼈대로하다', '사다', '사라지다', '사용되다', '사용하다', '살고있다', '살지못하다', '상승시키다',\n",
       "       '상승하다', '상환하다', '생각하다', '서두르다', '선정하다', '설계되다', '설명하다', '설정되다',\n",
       "       '성공하다', '소급적용되다', '소수에 불과하다', '손해입다', '수행하다', '시사하다', '시행되다',\n",
       "       '시행하다', '신설하다', '신중하다', '신청하다', '실거주하다', '실종되다', '실패하다', '실현하다',\n",
       "       '심각하다', '심해지다', '심화하다', '싸게 들이다', '싸늘하다', '쏠리다', '쓰다', '쓰도록하다',\n",
       "       '쓰이다', '씨가 마르다', '아니다', '안된다', '안정되다', '안정시키려하다', '안착시키다', '알다',\n",
       "       '야기하다', '어렵다', '언급하다', '얼어붙다', '없다', '역시 불안하다', '영향을미치다', '영향주다',\n",
       "       '예상되다', '예상하다', '예의주시하다', '예정하다', '오르다', '올라가다', '올라오다', '올리다',\n",
       "       '옳다', '완화하다', '완화해야하다', '외면하다', '요구하다', '요동치다', '우려되다', '우려하다',\n",
       "       '우선이다', '우위에있다', '운영하다', '움직이다', '원인 아니다', '원인이다', '원하다', '위배하다',\n",
       "       '위축되다', '위하다', '유지되다', '유지하다', '응답하다', '의견을 내다', '의뢰하다', '의무다',\n",
       "       '의무이다', '의사밝히다', '이내이다', '이동하다', '이뤄지지않다', '이어지다', '이어질것이다',\n",
       "       '이용하다', '인과관계 없다', '인상하다', '인식되다', '인식하다', '인정하다', '인정하지 않다',\n",
       "       '인하다', '인하하다', '임대차 계약이다', '임대하다', '있다', '있었다', '자극하다', '자리잡다',\n",
       "       '작동하다', '작성되다', '작성하다', '잘못되다', '잡히지 않다', '장기화하다', '재확인하다', '저렴하다',\n",
       "       '저평가되다', '적용되다', '적용하다', '전가되다', '전망되다', '전망하다', '전해지다', '전환되다',\n",
       "       '전환하다', '접수받다', '접수하다', '정착하다', '정하다', '정해야하다', '제공하다', '제기되다',\n",
       "       '제시하다', '제안하다', '제출받다', '제출하다', '제한하다', '조롱하다', '조사하다', '조정하려하다',\n",
       "       '존재하다', '존중해야하다', '좁아지다', '좁혀지다', '좋다', '좋은대책이다', '주다', '주도하다',\n",
       "       '주력하다', '주목받다', '주장하다', '주지않다', '주택 소유하다', '준다', '줄다', '줄어들다',\n",
       "       '줄여야한다', '줄이다', '중개하다', '중심이다', '중요하다', '줘야하다', '증가 크다', '증가시키다',\n",
       "       '증가하다', '지나다', '지렛대 삼다', '지목받다', '지목하다', '지속되다', '지속하다', '지원하다',\n",
       "       '지적하다', '지켜보다', '진정시켜야하다', '진행하다', '진화하다', '집중되다', '차단하다', '차별화되다',\n",
       "       '차이나다', '처분하다', '청구되다', '청구하다', '청구할 수 없다', '초과하다', '초래되다', '초래하다',\n",
       "       '촉발하다', '최대치', '최악이다', '추가하다', '추월하다', '추진하다', '출시되다', '출시하다',\n",
       "       '충돌하다', '충돌하지 않다', '충돌할 수 있다', '취득하다', '침해하다', '커지다', '크게늘다', '크다',\n",
       "       '타개하다', '탓하다', '터트리다', '통보하다', '투입하다', '튈 수 있다', '파국이다', '퍼지다',\n",
       "       '펼치다', '평지풍파 나다', '포기하게 하다', '포기하다', '포함하다', '폭등하다', '표명하다',\n",
       "       '표명하지 않다', '풍자하다', '피하다', '피해입다', '필수적이다', '필요없다', '필요하다', '하락하다',\n",
       "       '하지않다', '할수있다', '함께 갚다', '해결책 아니다', '해결하다', '해소되다', '해치다', '현실화하다',\n",
       "       '협의하다', '혜택 받다', '혜택받다', '혜택주다', '호소하다', '혼란상태다', '혼란스럽게 하다',\n",
       "       '혼란시키다', '혼란하다', '확대되다', '확대하다', '확보하다', '확산되다', '확산하다', '확인하다',\n",
       "       '활발하다', '활성화하다', '효과 없다', '효과 있다', '훼손하다', '희소하다', '힘들다'],\n",
       "      dtype=object)"
      ]
     },
     "execution_count": 170,
     "metadata": {},
     "output_type": "execute_result"
    }
   ],
   "source": [
    "#동사\n",
    "pre = data.predicate.unique()\n",
    "pre.sort()\n",
    "print(len(pre))\n",
    "pre"
   ]
  },
  {
   "cell_type": "code",
   "execution_count": null,
   "metadata": {},
   "outputs": [],
   "source": []
  },
  {
   "cell_type": "code",
   "execution_count": null,
   "metadata": {},
   "outputs": [],
   "source": []
  },
  {
   "cell_type": "code",
   "execution_count": null,
   "metadata": {},
   "outputs": [],
   "source": []
  }
 ],
 "metadata": {
  "hide_input": false,
  "kernelspec": {
   "display_name": "Python 3",
   "language": "python",
   "name": "python3"
  },
  "language_info": {
   "codemirror_mode": {
    "name": "ipython",
    "version": 3
   },
   "file_extension": ".py",
   "mimetype": "text/x-python",
   "name": "python",
   "nbconvert_exporter": "python",
   "pygments_lexer": "ipython3",
   "version": "3.8.3"
  },
  "toc": {
   "base_numbering": 1,
   "nav_menu": {},
   "number_sections": true,
   "sideBar": true,
   "skip_h1_title": false,
   "title_cell": "Table of Contents",
   "title_sidebar": "Contents",
   "toc_cell": false,
   "toc_position": {},
   "toc_section_display": true,
   "toc_window_display": false
  },
  "varInspector": {
   "cols": {
    "lenName": 16,
    "lenType": 16,
    "lenVar": 40
   },
   "kernels_config": {
    "python": {
     "delete_cmd_postfix": "",
     "delete_cmd_prefix": "del ",
     "library": "var_list.py",
     "varRefreshCmd": "print(var_dic_list())"
    },
    "r": {
     "delete_cmd_postfix": ") ",
     "delete_cmd_prefix": "rm(",
     "library": "var_list.r",
     "varRefreshCmd": "cat(var_dic_list()) "
    }
   },
   "types_to_exclude": [
    "module",
    "function",
    "builtin_function_or_method",
    "instance",
    "_Feature"
   ],
   "window_display": false
  }
 },
 "nbformat": 4,
 "nbformat_minor": 4
}
