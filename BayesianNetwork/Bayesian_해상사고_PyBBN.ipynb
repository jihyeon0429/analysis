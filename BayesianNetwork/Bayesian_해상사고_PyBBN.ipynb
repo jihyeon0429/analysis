{
 "cells": [
  {
   "cell_type": "code",
   "execution_count": 1,
   "metadata": {},
   "outputs": [],
   "source": [
    "# -*- coding: utf-PotentialUtil8 -*-PotentialUtil"
   ]
  },
  {
   "cell_type": "code",
   "execution_count": null,
   "metadata": {},
   "outputs": [],
   "source": [
    "참고='https://ichi.pro/ko/bbn-beijian-sinnyeom-neteuwokeu-paisseon-eulo-hyogwajeog-eulo-guchughaneun-bangbeob-118195675683770'"
   ]
  },
  {
   "cell_type": "code",
   "execution_count": 2,
   "metadata": {
    "scrolled": true
   },
   "outputs": [
    {
     "name": "stdout",
     "output_type": "stream",
     "text": [
      "Collecting PyBBN\n",
      "  Downloading pybbn-3.2.1.tar.gz (35 kB)\n",
      "Requirement already satisfied: numpy in c:\\users\\jihyun\\anaconda3\\lib\\site-packages (from PyBBN) (1.21.0)\n",
      "Requirement already satisfied: scipy in c:\\users\\jihyun\\anaconda3\\lib\\site-packages (from PyBBN) (1.5.2)\n",
      "Requirement already satisfied: networkx in c:\\users\\jihyun\\anaconda3\\lib\\site-packages (from PyBBN) (2.5)\n",
      "Requirement already satisfied: pandas in c:\\users\\jihyun\\anaconda3\\lib\\site-packages (from PyBBN) (1.1.3)\n",
      "Requirement already satisfied: decorator>=4.3.0 in c:\\users\\jihyun\\anaconda3\\lib\\site-packages (from networkx->PyBBN) (4.4.2)\n",
      "Requirement already satisfied: python-dateutil>=2.7.3 in c:\\users\\jihyun\\anaconda3\\lib\\site-packages (from pandas->PyBBN) (2.8.1)\n",
      "Requirement already satisfied: pytz>=2017.2 in c:\\users\\jihyun\\anaconda3\\lib\\site-packages (from pandas->PyBBN) (2020.1)\n",
      "Requirement already satisfied: six>=1.5 in c:\\users\\jihyun\\anaconda3\\lib\\site-packages (from python-dateutil>=2.7.3->pandas->PyBBN) (1.15.0)\n",
      "Building wheels for collected packages: PyBBN\n",
      "  Building wheel for PyBBN (setup.py): started\n",
      "  Building wheel for PyBBN (setup.py): finished with status 'done'\n",
      "  Created wheel for PyBBN: filename=pybbn-3.2.1-py3-none-any.whl size=39729 sha256=b11db92c7258a99fad6ba8ef3d9c45015b8edb8282fde93d763f36b3d6796699\n",
      "  Stored in directory: c:\\users\\jihyun\\appdata\\local\\pip\\cache\\wheels\\06\\80\\2f\\0e63fe5497b2917af3b7bdcbb142985ba4e5e5ef9a2c0b14b9\n",
      "Successfully built PyBBN\n",
      "Installing collected packages: PyBBN\n",
      "Successfully installed PyBBN-3.2.1\n"
     ]
    }
   ],
   "source": [
    "!pip install PyBBN"
   ]
  },
  {
   "cell_type": "code",
   "execution_count": null,
   "metadata": {},
   "outputs": [],
   "source": []
  },
  {
   "cell_type": "code",
   "execution_count": 1,
   "metadata": {},
   "outputs": [],
   "source": [
    "import pandas as pd # for data manipulation \n",
    "import networkx as nx # for drawing graphs\n",
    "import matplotlib.pyplot as plt # for drawing graphs\n",
    "\n",
    "# for creating Bayesian Belief Networks (BBN)\n",
    "from pybbn.graph.dag import Bbn\n",
    "from pybbn.graph.edge import Edge, EdgeType\n",
    "from pybbn.graph.jointree import EvidenceBuilder\n",
    "from pybbn.graph.node import BbnNode\n",
    "from pybbn.graph.variable import Variable\n",
    "from pybbn.pptc.inferencecontroller import InferenceController"
   ]
  },
  {
   "cell_type": "code",
   "execution_count": 2,
   "metadata": {},
   "outputs": [],
   "source": [
    "df=pd.read_csv('./Data/해양경찰청_해상조난사고_상세데이터_현황_20191231.csv', encoding='euckr')\n",
    "df.rename(columns={'선 종':'선종'},inplace=True)\n",
    "df = df[['발생일시','관할해경서','발생해역','기상상태','발생원인','발생유형','선종']]\n",
    "df = df.drop_duplicates()\n",
    "df['사고월']=df['발생일시'].apply(lambda x: 'January' if x.split('-')[1]=='01' \\\n",
    "                                    else 'February' if x.split('-')[1]=='02'\n",
    "                                    else 'March' if x.split('-')[1]=='03'\\\n",
    "                                    else 'April' if x.split('-')[1]=='04'\\\n",
    "                                    else 'May' if x.split('-')[1]=='05'\\\n",
    "                                    else 'June' if x.split('-')[1]=='06'\\\n",
    "                                    else 'July' if x.split('-')[1]=='07'\\\n",
    "                                    else 'August' if x.split('-')[1]=='08'\\\n",
    "                                    else 'September' if x.split('-')[1]=='09'\\\n",
    "                                    else 'October' if x.split('-')[1]=='10'\\\n",
    "                                    else 'November' if x.split('-')[1]=='11'\\\n",
    "                                    else 'December' if x.split('-')[1]=='12'\\\n",
    "                                    else 'etc'\n",
    "                           )"
   ]
  },
  {
   "cell_type": "code",
   "execution_count": 3,
   "metadata": {
    "scrolled": false
   },
   "outputs": [
    {
     "data": {
      "text/html": [
       "<div>\n",
       "<style scoped>\n",
       "    .dataframe tbody tr th:only-of-type {\n",
       "        vertical-align: middle;\n",
       "    }\n",
       "\n",
       "    .dataframe tbody tr th {\n",
       "        vertical-align: top;\n",
       "    }\n",
       "\n",
       "    .dataframe thead th {\n",
       "        text-align: right;\n",
       "    }\n",
       "</style>\n",
       "<table border=\"1\" class=\"dataframe\">\n",
       "  <thead>\n",
       "    <tr style=\"text-align: right;\">\n",
       "      <th></th>\n",
       "      <th>발생일시</th>\n",
       "      <th>관할해경서</th>\n",
       "      <th>발생해역</th>\n",
       "      <th>기상상태</th>\n",
       "      <th>발생원인</th>\n",
       "      <th>발생유형</th>\n",
       "      <th>선종</th>\n",
       "      <th>사고월</th>\n",
       "    </tr>\n",
       "  </thead>\n",
       "  <tbody>\n",
       "    <tr>\n",
       "      <th>0</th>\n",
       "      <td>2019-12-31 22:04</td>\n",
       "      <td>포항</td>\n",
       "      <td>영해</td>\n",
       "      <td>양호</td>\n",
       "      <td>관리소홀</td>\n",
       "      <td>기타</td>\n",
       "      <td>모터보트</td>\n",
       "      <td>December</td>\n",
       "    </tr>\n",
       "    <tr>\n",
       "      <th>1</th>\n",
       "      <td>2019-12-31 15:13</td>\n",
       "      <td>포항</td>\n",
       "      <td>영해</td>\n",
       "      <td>양호</td>\n",
       "      <td>운항부주의</td>\n",
       "      <td>충돌</td>\n",
       "      <td>어선</td>\n",
       "      <td>December</td>\n",
       "    </tr>\n",
       "    <tr>\n",
       "      <th>2</th>\n",
       "      <td>2019-12-31 15:13</td>\n",
       "      <td>포항</td>\n",
       "      <td>영해</td>\n",
       "      <td>양호</td>\n",
       "      <td>운항부주의</td>\n",
       "      <td>충돌</td>\n",
       "      <td>화물선</td>\n",
       "      <td>December</td>\n",
       "    </tr>\n",
       "    <tr>\n",
       "      <th>3</th>\n",
       "      <td>2019-12-31 9:33</td>\n",
       "      <td>통영</td>\n",
       "      <td>협수로</td>\n",
       "      <td>양호</td>\n",
       "      <td>운항부주의</td>\n",
       "      <td>부유물감김</td>\n",
       "      <td>어선</td>\n",
       "      <td>December</td>\n",
       "    </tr>\n",
       "    <tr>\n",
       "      <th>4</th>\n",
       "      <td>2019-12-31 8:38</td>\n",
       "      <td>군산</td>\n",
       "      <td>항계 내</td>\n",
       "      <td>양호</td>\n",
       "      <td>관리소홀</td>\n",
       "      <td>침수</td>\n",
       "      <td>어선</td>\n",
       "      <td>December</td>\n",
       "    </tr>\n",
       "    <tr>\n",
       "      <th>...</th>\n",
       "      <td>...</td>\n",
       "      <td>...</td>\n",
       "      <td>...</td>\n",
       "      <td>...</td>\n",
       "      <td>...</td>\n",
       "      <td>...</td>\n",
       "      <td>...</td>\n",
       "      <td>...</td>\n",
       "    </tr>\n",
       "    <tr>\n",
       "      <th>3815</th>\n",
       "      <td>2019-01-01 14:08</td>\n",
       "      <td>인천</td>\n",
       "      <td>영해</td>\n",
       "      <td>양호</td>\n",
       "      <td>운항부주의</td>\n",
       "      <td>부유물감김</td>\n",
       "      <td>모터보트</td>\n",
       "      <td>January</td>\n",
       "    </tr>\n",
       "    <tr>\n",
       "      <th>3816</th>\n",
       "      <td>2019-01-01 9:14</td>\n",
       "      <td>인천</td>\n",
       "      <td>협수로</td>\n",
       "      <td>양호</td>\n",
       "      <td>운항부주의</td>\n",
       "      <td>침수</td>\n",
       "      <td>어선</td>\n",
       "      <td>January</td>\n",
       "    </tr>\n",
       "    <tr>\n",
       "      <th>3817</th>\n",
       "      <td>2019-01-01 7:59</td>\n",
       "      <td>완도</td>\n",
       "      <td>항계 내</td>\n",
       "      <td>양호</td>\n",
       "      <td>운항부주의</td>\n",
       "      <td>좌초/좌주</td>\n",
       "      <td>모터보트</td>\n",
       "      <td>January</td>\n",
       "    </tr>\n",
       "    <tr>\n",
       "      <th>3818</th>\n",
       "      <td>2019-01-01 3:31</td>\n",
       "      <td>태안</td>\n",
       "      <td>영해</td>\n",
       "      <td>양호</td>\n",
       "      <td>운항부주의</td>\n",
       "      <td>침몰</td>\n",
       "      <td>기타</td>\n",
       "      <td>January</td>\n",
       "    </tr>\n",
       "    <tr>\n",
       "      <th>3819</th>\n",
       "      <td>2019-01-01 0:10</td>\n",
       "      <td>서귀포</td>\n",
       "      <td>영해-EEZ</td>\n",
       "      <td>양호</td>\n",
       "      <td>정비불량</td>\n",
       "      <td>기관손상</td>\n",
       "      <td>어선</td>\n",
       "      <td>January</td>\n",
       "    </tr>\n",
       "  </tbody>\n",
       "</table>\n",
       "<p>3633 rows × 8 columns</p>\n",
       "</div>"
      ],
      "text/plain": [
       "                  발생일시 관할해경서    발생해역 기상상태   발생원인   발생유형    선종       사고월\n",
       "0     2019-12-31 22:04    포항      영해   양호   관리소홀     기타  모터보트  December\n",
       "1     2019-12-31 15:13    포항      영해   양호  운항부주의     충돌    어선  December\n",
       "2     2019-12-31 15:13    포항      영해   양호  운항부주의     충돌   화물선  December\n",
       "3      2019-12-31 9:33    통영     협수로   양호  운항부주의  부유물감김    어선  December\n",
       "4      2019-12-31 8:38    군산    항계 내   양호   관리소홀     침수    어선  December\n",
       "...                ...   ...     ...  ...    ...    ...   ...       ...\n",
       "3815  2019-01-01 14:08    인천      영해   양호  운항부주의  부유물감김  모터보트   January\n",
       "3816   2019-01-01 9:14    인천     협수로   양호  운항부주의     침수    어선   January\n",
       "3817   2019-01-01 7:59    완도    항계 내   양호  운항부주의  좌초/좌주  모터보트   January\n",
       "3818   2019-01-01 3:31    태안      영해   양호  운항부주의     침몰    기타   January\n",
       "3819   2019-01-01 0:10   서귀포  영해-EEZ   양호   정비불량   기관손상    어선   January\n",
       "\n",
       "[3633 rows x 8 columns]"
      ]
     },
     "execution_count": 3,
     "metadata": {},
     "output_type": "execute_result"
    }
   ],
   "source": [
    "df"
   ]
  },
  {
   "cell_type": "code",
   "execution_count": null,
   "metadata": {},
   "outputs": [],
   "source": []
  },
  {
   "cell_type": "markdown",
   "metadata": {},
   "source": [
    "### 확률"
   ]
  },
  {
   "cell_type": "code",
   "execution_count": 60,
   "metadata": {},
   "outputs": [],
   "source": [
    "def get_conditional_prob(df, child, parent1=None, parent2=None):\n",
    "    p_list=[]\n",
    "    if parent1==None:\n",
    "        #print('no parent')\n",
    "        \n",
    "        child_values = df[child].unique()\n",
    "\n",
    "        idx = df[child].value_counts(normalize=True).index\n",
    "        p = df[child].value_counts(normalize=True).values\n",
    "        p_list += [[i,j] for i,j in zip(idx,p)]\n",
    "        for childv in child_values:\n",
    "            if childv not in idx:\n",
    "                p_list += [childv,0]\n",
    "\n",
    "\n",
    "    elif (parent1!=None) and (parent2==None):\n",
    "        #print('parent1')\n",
    "        \n",
    "        child_values = df[child].unique()\n",
    "        parent1_values = df[parent1].unique()\n",
    "\n",
    "        for par1 in parent1_values:\n",
    "            idx = df[df[parent1]==par1][child].value_counts(normalize=True, sort=True).sort_index().index\n",
    "            p = df[df[parent1]==par1][child].value_counts(normalize=True, sort=True).sort_index().values\n",
    "            p_list += [[par1,childv,p] for childv,p in zip(idx,p)]\n",
    "            for childv in child_values:\n",
    "                if childv not in idx:\n",
    "                    p_list += [[par1, childv, 0]]\n",
    "            idx_list = [i[1] for i in p_list]\n",
    "            \n",
    "            #parent_value별 조건부확률 누적 값은 1이 되어야 함\n",
    "            #print(sum(p))\n",
    "\n",
    "    elif (parent1!=None) and (parent2!=None):  \n",
    "        #print('parent2')\n",
    "        \n",
    "        child_values = df[child].unique()\n",
    "        parent1_values = df[parent1].unique()\n",
    "        parent2_values = df[parent2].unique()\n",
    "\n",
    "        for par1 in parent1_values:\n",
    "            for par2 in parent2_values:\n",
    "                #0일땐 안나오나봄... -> 이건어쩌지 \n",
    "                idx = df[(df[parent1]==par1) & (df[parent2]==par2)][child].value_counts(normalize=True, sort=True).sort_index().index\n",
    "                p = df[(df[parent1]==par1) & (df[parent2]==par2)][child].value_counts(normalize=True, sort=True).sort_index().values\n",
    "                p_list += [[par1,par2,childv,p] for childv,p in zip(idx,p)]\n",
    "\n",
    "                for childv in child_values:\n",
    "                    if childv not in idx:\n",
    "                        p_list += [[par1, par2, childv,0]]\n",
    "                #parent_value별 조건부확률 누적 값은 1이 되어야 함\n",
    "                #해당 case가 하나도 없으면 0\n",
    "                #print(sum(p))\n",
    "    \n",
    "    return idx_list, p_list\n",
    "\n",
    "    \n",
    "    "
   ]
  },
  {
   "cell_type": "code",
   "execution_count": 57,
   "metadata": {},
   "outputs": [],
   "source": [
    "weather_p = get_conditional_prob(df,'기상상태')\n",
    "month_p = get_conditional_prob(df,'사고월', parent1='기상상태')\n",
    "ocean_p = get_conditional_prob(df,'발생해역', parent1='기상상태')\n",
    "jurisdiction_p = get_conditional_prob(df,'관할해경서', parent1='발생해역')\n",
    "vessel_type_p = get_conditional_prob(df,'선종', parent1='발생해역')\n",
    "cause_p = get_conditional_prob(df,'발생원인', parent1='발생해역')\n",
    "accident_type_p = get_conditional_prob(df,'발생유형', parent1='발생원인')"
   ]
  },
  {
   "cell_type": "code",
   "execution_count": 24,
   "metadata": {
    "scrolled": true
   },
   "outputs": [],
   "source": [
    "weather_idx = [i[0] for i in weather_p]\n",
    "weather_p = [i[-1] for i in weather_p]\n",
    "\n",
    "month_idx = [i[1] for i in month_p]\n",
    "month_p = [i[-1] for i in month_p]\n",
    "\n",
    "ocean_idx = [i[1] for i in ocean_p]\n",
    "ocean_p = [i[-1] for i in ocean_p]\n",
    "\n",
    "jurisdiction_idx = [i[1] for i in jurisdiction_p]\n",
    "jurisdiction_p = [i[-1] for i in jurisdiction_p]\n",
    "\n",
    "vessel_type_idx = [i[1] for i in vessel_type_p]\n",
    "vessel_type_p = [i[-1] for i in vessel_type_p]\n",
    "\n",
    "cause_idx = [i[1] for i in cause_p]\n",
    "cause_p = [i[-1] for i in cause_p]\n",
    "\n",
    "accident_type_idx = [i[1] for i in accident_type_p]\n",
    "accident_type_p = [i[-1] for i in accident_type_p]"
   ]
  },
  {
   "cell_type": "code",
   "execution_count": 62,
   "metadata": {},
   "outputs": [
    {
     "data": {
      "text/plain": [
       "['April',\n",
       " 'August',\n",
       " 'December',\n",
       " 'February',\n",
       " 'January',\n",
       " 'July',\n",
       " 'June',\n",
       " 'March',\n",
       " 'May',\n",
       " 'November',\n",
       " 'October',\n",
       " 'September',\n",
       " 'April',\n",
       " 'August',\n",
       " 'December',\n",
       " 'February',\n",
       " 'January',\n",
       " 'July',\n",
       " 'June',\n",
       " 'March',\n",
       " 'May',\n",
       " 'November',\n",
       " 'October',\n",
       " 'September',\n",
       " 'April',\n",
       " 'August',\n",
       " 'December',\n",
       " 'February',\n",
       " 'January',\n",
       " 'June',\n",
       " 'March',\n",
       " 'May',\n",
       " 'November',\n",
       " 'October',\n",
       " 'September',\n",
       " 'July',\n",
       " 'April',\n",
       " 'August',\n",
       " 'December',\n",
       " 'February',\n",
       " 'January',\n",
       " 'July',\n",
       " 'June',\n",
       " 'March',\n",
       " 'May',\n",
       " 'November',\n",
       " 'October',\n",
       " 'September',\n",
       " 'April',\n",
       " 'February',\n",
       " 'January',\n",
       " 'July',\n",
       " 'May',\n",
       " 'November',\n",
       " 'October',\n",
       " 'December',\n",
       " 'August',\n",
       " 'September',\n",
       " 'June',\n",
       " 'March',\n",
       " 'November',\n",
       " 'October',\n",
       " 'September',\n",
       " 'December',\n",
       " 'April',\n",
       " 'August',\n",
       " 'May',\n",
       " 'July',\n",
       " 'June',\n",
       " 'March',\n",
       " 'February',\n",
       " 'January',\n",
       " 'April',\n",
       " 'August',\n",
       " 'February',\n",
       " 'January',\n",
       " 'July',\n",
       " 'June',\n",
       " 'March',\n",
       " 'May',\n",
       " 'November',\n",
       " 'October',\n",
       " 'September',\n",
       " 'December',\n",
       " 'July',\n",
       " 'October',\n",
       " 'September',\n",
       " 'December',\n",
       " 'April',\n",
       " 'November',\n",
       " 'August',\n",
       " 'May',\n",
       " 'June',\n",
       " 'March',\n",
       " 'February',\n",
       " 'January',\n",
       " 'October',\n",
       " 'September',\n",
       " 'December',\n",
       " 'April',\n",
       " 'November',\n",
       " 'August',\n",
       " 'May',\n",
       " 'July',\n",
       " 'June',\n",
       " 'March',\n",
       " 'February',\n",
       " 'January']"
      ]
     },
     "execution_count": 62,
     "metadata": {},
     "output_type": "execute_result"
    }
   ],
   "source": [
    "month_idx, month_p = get_conditional_prob(df,'사고월', parent1='기상상태')\n",
    "month_idx"
   ]
  },
  {
   "cell_type": "code",
   "execution_count": null,
   "metadata": {},
   "outputs": [],
   "source": []
  },
  {
   "cell_type": "code",
   "execution_count": null,
   "metadata": {},
   "outputs": [],
   "source": []
  },
  {
   "cell_type": "markdown",
   "metadata": {},
   "source": [
    "### 베이지안네트워크 구축"
   ]
  },
  {
   "cell_type": "markdown",
   "metadata": {},
   "source": [
    "#### 노드"
   ]
  },
  {
   "cell_type": "code",
   "execution_count": 35,
   "metadata": {},
   "outputs": [
    {
     "ename": "SyntaxError",
     "evalue": "invalid syntax (<ipython-input-35-f868eae4ff88>, line 3)",
     "output_type": "error",
     "traceback": [
      "\u001b[1;36m  File \u001b[1;32m\"<ipython-input-35-f868eae4ff88>\"\u001b[1;36m, line \u001b[1;32m3\u001b[0m\n\u001b[1;33m    month = BbnNode(Variable(1, 'month', month_idx), month_p)\u001b[0m\n\u001b[1;37m    ^\u001b[0m\n\u001b[1;31mSyntaxError\u001b[0m\u001b[1;31m:\u001b[0m invalid syntax\n"
     ]
    }
   ],
   "source": [
    "weather = BbnNode(Variable(0, 'weather', weather_idx, weather_p)\n",
    "\n",
    "month = BbnNode(Variable(1, 'month', month_idx), month_p)\n",
    "\n",
    "ocean = BbnNode(Variable(1, 'ocean', ocean_idx, ocean_p)\n",
    "\n",
    "jurisdiction = BbnNode(Variable(2, 'jurisdiction', jurisdiction_idx, jurisdiction_p)\n",
    "\n",
    "cause = BbnNode(Variable(3, 'cause', cause_idx, cause_p)\n",
    "\n",
    "ship = BbnNode(Variable(4, 'ship', df['선종'].unique().tolist()), probs(df, child='선종', parent1='발생해역'))\n",
    "\n",
    "accident_type = BbnNode(Variable(5, 'accident_type', df['발생유형'].unique().tolist()), probs(df, child='발생유형', parent1='발생원인'))"
   ]
  },
  {
   "cell_type": "code",
   "execution_count": 36,
   "metadata": {},
   "outputs": [
    {
     "data": {
      "text/plain": [
       "['August',\n",
       " 'September',\n",
       " 'October',\n",
       " 'July',\n",
       " 'May',\n",
       " 'June',\n",
       " 'November',\n",
       " 'April',\n",
       " 'January',\n",
       " 'December',\n",
       " 'March',\n",
       " 'February',\n",
       " 'November',\n",
       " 'April',\n",
       " 'February',\n",
       " 'October',\n",
       " 'March',\n",
       " 'May',\n",
       " 'January',\n",
       " 'December',\n",
       " 'July',\n",
       " 'August',\n",
       " 'June',\n",
       " 'September',\n",
       " 'February',\n",
       " 'April',\n",
       " 'August',\n",
       " 'January',\n",
       " 'October',\n",
       " 'November',\n",
       " 'March',\n",
       " 'May',\n",
       " 'June',\n",
       " 'September',\n",
       " 'December',\n",
       " 'July',\n",
       " 'October',\n",
       " 'May',\n",
       " 'February',\n",
       " 'June',\n",
       " 'March',\n",
       " 'December',\n",
       " 'November',\n",
       " 'September',\n",
       " 'August',\n",
       " 'January',\n",
       " 'April',\n",
       " 'July',\n",
       " 'January',\n",
       " 'February',\n",
       " 'April',\n",
       " 'October',\n",
       " 'November',\n",
       " 'July',\n",
       " 'May',\n",
       " 'December',\n",
       " 'August',\n",
       " 'September',\n",
       " 'June',\n",
       " 'March',\n",
       " 'September',\n",
       " 'November',\n",
       " 'October',\n",
       " 'December',\n",
       " 'April',\n",
       " 'August',\n",
       " 'May',\n",
       " 'July',\n",
       " 'June',\n",
       " 'March',\n",
       " 'February',\n",
       " 'January',\n",
       " 'July',\n",
       " 'March',\n",
       " 'August',\n",
       " 'June',\n",
       " 'April',\n",
       " 'September',\n",
       " 'May',\n",
       " 'October',\n",
       " 'January',\n",
       " 'February',\n",
       " 'November',\n",
       " 'December',\n",
       " 'September',\n",
       " 'July',\n",
       " 'October',\n",
       " 'December',\n",
       " 'April',\n",
       " 'November',\n",
       " 'August',\n",
       " 'May',\n",
       " 'June',\n",
       " 'March',\n",
       " 'February',\n",
       " 'January',\n",
       " 'October',\n",
       " 'September',\n",
       " 'December',\n",
       " 'April',\n",
       " 'November',\n",
       " 'August',\n",
       " 'May',\n",
       " 'July',\n",
       " 'June',\n",
       " 'March',\n",
       " 'February',\n",
       " 'January']"
      ]
     },
     "execution_count": 36,
     "metadata": {},
     "output_type": "execute_result"
    }
   ],
   "source": [
    "month_idx"
   ]
  },
  {
   "cell_type": "code",
   "execution_count": null,
   "metadata": {},
   "outputs": [],
   "source": []
  },
  {
   "cell_type": "code",
   "execution_count": null,
   "metadata": {},
   "outputs": [],
   "source": []
  },
  {
   "cell_type": "code",
   "execution_count": null,
   "metadata": {},
   "outputs": [],
   "source": [
    "weather = BbnNode(Variable(0, 'weather', weather_idx, weather_p)\n",
    "\n",
    "#month = BbnNode(Variable(1, 'month', month_idx, month_p)\n",
    "\n",
    "ocean = BbnNode(Variable(2, 'ocean', ocean_idx, ocean_p)\n",
    "\n",
    "jurisdiction = BbnNode(Variable(3, 'jurisdiction', jurisdiction_idx, jurisdiction_p)\n",
    "\n",
    "cause = BbnNode(Variable(4, 'cause', cause_idx, cause_p)\n",
    "\n",
    "vessel_type = BbnNode(Variable(5, 'vessel_type', vessel_type_idx, vessel_type_p)\n",
    "\n",
    "accident_type = BbnNode(Variable(6, 'accident_type', accident_type_idx, accident_type_p)"
   ]
  },
  {
   "cell_type": "code",
   "execution_count": 90,
   "metadata": {},
   "outputs": [
    {
     "data": {
      "text/plain": [
       "양호       0.886126\n",
       "저시정      0.030105\n",
       "태풍경보     0.022513\n",
       "태풍주의보    0.001832\n",
       "풍랑경보     0.002356\n",
       "풍랑주의보    0.025131\n",
       "황천4급     0.004450\n",
       "황천5급     0.015445\n",
       "황천6급     0.012042\n",
       "Name: 기상상태, dtype: float64"
      ]
     },
     "execution_count": 90,
     "metadata": {},
     "output_type": "execute_result"
    }
   ],
   "source": [
    "df['기상상태'].value_counts(normalize=True, sort=False).sort_index()"
   ]
  },
  {
   "cell_type": "code",
   "execution_count": 89,
   "metadata": {},
   "outputs": [
    {
     "data": {
      "text/plain": [
       "[0.8861256544502618,\n",
       " 0.030104712041884817,\n",
       " 0.022513089005235604,\n",
       " 0.0018324607329842932,\n",
       " 0.002356020942408377,\n",
       " 0.025130890052356022,\n",
       " 0.004450261780104712,\n",
       " 0.015445026178010472,\n",
       " 0.012041884816753926]"
      ]
     },
     "execution_count": 89,
     "metadata": {},
     "output_type": "execute_result"
    }
   ],
   "source": [
    "a = df['기상상태'].value_counts(sort=False).sort_index().tolist()\n",
    "b = sum(a)\n",
    "c = [i/b for i in a]\n",
    "c"
   ]
  },
  {
   "cell_type": "code",
   "execution_count": null,
   "metadata": {},
   "outputs": [],
   "source": []
  },
  {
   "cell_type": "code",
   "execution_count": null,
   "metadata": {},
   "outputs": [],
   "source": []
  },
  {
   "cell_type": "code",
   "execution_count": null,
   "metadata": {},
   "outputs": [],
   "source": []
  },
  {
   "cell_type": "code",
   "execution_count": null,
   "metadata": {},
   "outputs": [],
   "source": []
  },
  {
   "cell_type": "code",
   "execution_count": null,
   "metadata": {},
   "outputs": [],
   "source": []
  },
  {
   "cell_type": "markdown",
   "metadata": {},
   "source": [
    "####  엣지"
   ]
  },
  {
   "cell_type": "code",
   "execution_count": 74,
   "metadata": {},
   "outputs": [],
   "source": [
    "bbn = Bbn().add_node(weather)\\\n",
    "    .add_node(ocean)\\\n",
    "    .add_node(jurisdiction)\\\n",
    "    .add_node(cause)\\\n",
    "    .add_node(ship)\\\n",
    "    .add_node(accident_type)\\\n",
    "    .add_edge(Edge(weather, ocean, EdgeType.DIRECTED))\\\n",
    "    .add_edge(Edge(ocean, jurisdiction, EdgeType.DIRECTED))\\\n",
    "    .add_edge(Edge(ocean, cause, EdgeType.DIRECTED))\\\n",
    "    .add_edge(Edge(ocean, ship, EdgeType.DIRECTED))\\\n",
    "    .add_edge(Edge(cause, accident_type, EdgeType.DIRECTED))"
   ]
  },
  {
   "cell_type": "code",
   "execution_count": 75,
   "metadata": {
    "scrolled": true
   },
   "outputs": [
    {
     "ename": "IndexError",
     "evalue": "list index out of range",
     "output_type": "error",
     "traceback": [
      "\u001b[1;31m---------------------------------------------------------------------------\u001b[0m",
      "\u001b[1;31mIndexError\u001b[0m                                Traceback (most recent call last)",
      "\u001b[1;32m<ipython-input-75-542c225a6df1>\u001b[0m in \u001b[0;36m<module>\u001b[1;34m\u001b[0m\n\u001b[1;32m----> 1\u001b[1;33m \u001b[0mjoin_tree\u001b[0m \u001b[1;33m=\u001b[0m \u001b[0mInferenceController\u001b[0m\u001b[1;33m.\u001b[0m\u001b[0mapply\u001b[0m\u001b[1;33m(\u001b[0m\u001b[0mbbn\u001b[0m\u001b[1;33m)\u001b[0m\u001b[1;33m\u001b[0m\u001b[1;33m\u001b[0m\u001b[0m\n\u001b[0m",
      "\u001b[1;32m~\\anaconda3\\lib\\site-packages\\pybbn\\pptc\\inferencecontroller.py\u001b[0m in \u001b[0;36mapply\u001b[1;34m(bbn)\u001b[0m\n\u001b[0;32m     23\u001b[0m         \u001b[1;33m:\u001b[0m\u001b[1;32mreturn\u001b[0m\u001b[1;33m:\u001b[0m \u001b[0mJoin\u001b[0m \u001b[0mtree\u001b[0m\u001b[1;33m.\u001b[0m\u001b[1;33m\u001b[0m\u001b[1;33m\u001b[0m\u001b[0m\n\u001b[0;32m     24\u001b[0m         \"\"\"\n\u001b[1;32m---> 25\u001b[1;33m         \u001b[0mPotentialInitializer\u001b[0m\u001b[1;33m.\u001b[0m\u001b[0minit\u001b[0m\u001b[1;33m(\u001b[0m\u001b[0mbbn\u001b[0m\u001b[1;33m)\u001b[0m\u001b[1;33m\u001b[0m\u001b[1;33m\u001b[0m\u001b[0m\n\u001b[0m\u001b[0;32m     26\u001b[0m \u001b[1;33m\u001b[0m\u001b[0m\n\u001b[0;32m     27\u001b[0m         \u001b[0mug\u001b[0m \u001b[1;33m=\u001b[0m \u001b[0mMoralizer\u001b[0m\u001b[1;33m.\u001b[0m\u001b[0mmoralize\u001b[0m\u001b[1;33m(\u001b[0m\u001b[0mbbn\u001b[0m\u001b[1;33m)\u001b[0m\u001b[1;33m\u001b[0m\u001b[1;33m\u001b[0m\u001b[0m\n",
      "\u001b[1;32m~\\anaconda3\\lib\\site-packages\\pybbn\\pptc\\potentialinitializer.py\u001b[0m in \u001b[0;36minit\u001b[1;34m(bbn)\u001b[0m\n\u001b[0;32m     16\u001b[0m         \u001b[1;32mfor\u001b[0m \u001b[0mnode\u001b[0m \u001b[1;32min\u001b[0m \u001b[0mbbn\u001b[0m\u001b[1;33m.\u001b[0m\u001b[0mget_nodes\u001b[0m\u001b[1;33m(\u001b[0m\u001b[1;33m)\u001b[0m\u001b[1;33m:\u001b[0m\u001b[1;33m\u001b[0m\u001b[1;33m\u001b[0m\u001b[0m\n\u001b[0;32m     17\u001b[0m             \u001b[0mparents\u001b[0m \u001b[1;33m=\u001b[0m \u001b[1;33m[\u001b[0m\u001b[0mbbn\u001b[0m\u001b[1;33m.\u001b[0m\u001b[0mget_node\u001b[0m\u001b[1;33m(\u001b[0m\u001b[0mparent_id\u001b[0m\u001b[1;33m)\u001b[0m \u001b[1;32mfor\u001b[0m \u001b[0mparent_id\u001b[0m \u001b[1;32min\u001b[0m \u001b[0mbbn\u001b[0m\u001b[1;33m.\u001b[0m\u001b[0mget_parents_ordered\u001b[0m\u001b[1;33m(\u001b[0m\u001b[0mnode\u001b[0m\u001b[1;33m.\u001b[0m\u001b[0mid\u001b[0m\u001b[1;33m)\u001b[0m\u001b[1;33m]\u001b[0m\u001b[1;33m\u001b[0m\u001b[1;33m\u001b[0m\u001b[0m\n\u001b[1;32m---> 18\u001b[1;33m             \u001b[0mpotential\u001b[0m \u001b[1;33m=\u001b[0m \u001b[0mPotentialUtil\u001b[0m\u001b[1;33m.\u001b[0m\u001b[0mget_potential\u001b[0m\u001b[1;33m(\u001b[0m\u001b[0mnode\u001b[0m\u001b[1;33m,\u001b[0m \u001b[0mparents\u001b[0m\u001b[1;33m)\u001b[0m\u001b[1;33m\u001b[0m\u001b[1;33m\u001b[0m\u001b[0m\n\u001b[0m\u001b[0;32m     19\u001b[0m             \u001b[0mnode\u001b[0m\u001b[1;33m.\u001b[0m\u001b[0mpotential\u001b[0m \u001b[1;33m=\u001b[0m \u001b[0mpotential\u001b[0m\u001b[1;33m\u001b[0m\u001b[1;33m\u001b[0m\u001b[0m\n\u001b[0;32m     20\u001b[0m \u001b[1;33m\u001b[0m\u001b[0m\n",
      "\u001b[1;32m~\\anaconda3\\lib\\site-packages\\pybbn\\graph\\potential.py\u001b[0m in \u001b[0;36mget_potential\u001b[1;34m(node, parents)\u001b[0m\n\u001b[0;32m    231\u001b[0m         \u001b[0mpotential\u001b[0m \u001b[1;33m=\u001b[0m \u001b[0mPotentialUtil\u001b[0m\u001b[1;33m.\u001b[0m\u001b[0mget_potential_from_nodes\u001b[0m\u001b[1;33m(\u001b[0m\u001b[0mPotentialUtil\u001b[0m\u001b[1;33m.\u001b[0m\u001b[0mmerge\u001b[0m\u001b[1;33m(\u001b[0m\u001b[0mnode\u001b[0m\u001b[1;33m,\u001b[0m \u001b[0mparents\u001b[0m\u001b[1;33m)\u001b[0m\u001b[1;33m)\u001b[0m\u001b[1;33m\u001b[0m\u001b[1;33m\u001b[0m\u001b[0m\n\u001b[0;32m    232\u001b[0m         \u001b[1;32mfor\u001b[0m \u001b[0mi\u001b[0m \u001b[1;32min\u001b[0m \u001b[0mrange\u001b[0m\u001b[1;33m(\u001b[0m\u001b[0mlen\u001b[0m\u001b[1;33m(\u001b[0m\u001b[0mpotential\u001b[0m\u001b[1;33m.\u001b[0m\u001b[0mentries\u001b[0m\u001b[1;33m)\u001b[0m\u001b[1;33m)\u001b[0m\u001b[1;33m:\u001b[0m\u001b[1;33m\u001b[0m\u001b[1;33m\u001b[0m\u001b[0m\n\u001b[1;32m--> 233\u001b[1;33m             \u001b[0mprob\u001b[0m \u001b[1;33m=\u001b[0m \u001b[0mnode\u001b[0m\u001b[1;33m.\u001b[0m\u001b[0mprobs\u001b[0m\u001b[1;33m[\u001b[0m\u001b[0mi\u001b[0m\u001b[1;33m]\u001b[0m\u001b[1;33m\u001b[0m\u001b[1;33m\u001b[0m\u001b[0m\n\u001b[0m\u001b[0;32m    234\u001b[0m             \u001b[0mpotential\u001b[0m\u001b[1;33m.\u001b[0m\u001b[0mentries\u001b[0m\u001b[1;33m[\u001b[0m\u001b[0mi\u001b[0m\u001b[1;33m]\u001b[0m\u001b[1;33m.\u001b[0m\u001b[0mvalue\u001b[0m \u001b[1;33m=\u001b[0m \u001b[0mprob\u001b[0m\u001b[1;33m\u001b[0m\u001b[1;33m\u001b[0m\u001b[0m\n\u001b[0;32m    235\u001b[0m         \u001b[1;32mreturn\u001b[0m \u001b[0mpotential\u001b[0m\u001b[1;33m\u001b[0m\u001b[1;33m\u001b[0m\u001b[0m\n",
      "\u001b[1;31mIndexError\u001b[0m: list index out of range"
     ]
    }
   ],
   "source": [
    "join_tree = InferenceController.apply(bbn)"
   ]
  },
  {
   "cell_type": "code",
   "execution_count": 72,
   "metadata": {},
   "outputs": [
    {
     "name": "stdout",
     "output_type": "stream",
     "text": [
      "0|weather|양호,풍랑주의보,황천5급,황천6급,황천4급,풍랑경보,저시정,태풍경보,태풍주의보\n",
      "1|ocean|영해,협수로,항계 내,영해-EEZ,공해,EEZ-30마일 이내\n",
      "2|jurisdiction|포항,통영,군산,여수,서귀포,인천,보령,동해,부산,울진,목포,속초,완도,제주,평택,창원,울산,태안,부안\n",
      "3|cause|관리소홀,운항부주의,정비불량,안전부주의,화기취급부주의,연료고갈,기타 ,기상악화,기상악화(인명은 기타),적재불량,재질불량\n",
      "4|ship|모터보트,어선,화물선,기타,낚시어선,유조선,예부선,여객선,관공선,요트,고무보트,유도선,기타(통선)\n",
      "5|accident_type|기타,충돌,부유물감김,침수,침몰,해양오염,화재,작업 중 인명사상,기관손상,추진기손상,좌초/좌주,키손상,운항저해,접촉,전복,침수(인명은기타),방향상실,폭발,시설물손상,속구손상\n"
     ]
    }
   ],
   "source": [
    "for node in bbn.get_nodes():\n",
    "    parents = [bbn.get_node(parent_id) for parent_id in bbn.get_parents_ordered(node.id)]\n",
    "    #potential = PotentialUtil.get_potential(node, parents)\n",
    "    print(node)"
   ]
  },
  {
   "cell_type": "code",
   "execution_count": 73,
   "metadata": {},
   "outputs": [
    {
     "name": "stderr",
     "output_type": "stream",
     "text": [
      "'which'은(는) 내부 또는 외부 명령, 실행할 수 있는 프로그램, 또는\n",
      "배치 파일이 아닙니다.\n"
     ]
    }
   ],
   "source": [
    "!which python"
   ]
  },
  {
   "cell_type": "code",
   "execution_count": null,
   "metadata": {},
   "outputs": [],
   "source": []
  },
  {
   "cell_type": "code",
   "execution_count": 77,
   "metadata": {},
   "outputs": [
    {
     "data": {
      "image/png": "[encoded data removed]",
      "text/plain": [
       "<Figure size 432x288 with 1 Axes>"
      ]
     },
     "metadata": {},
     "output_type": "display_data"
    }
   ],
   "source": [
    "# Set node positions\n",
    "pos = {0: (0, 2), 1: (0, 1), 2: (-1, 0), 3: (0, 0), 4: (1, 0), 5: (0, -1)}\n",
    "\n",
    "# Set options for graph looks\n",
    "options = {\n",
    "    \"font_size\": 12,\n",
    "    \"node_size\": 3000,\n",
    "    \"node_color\": \"white\",\n",
    "    \"edgecolors\": \"black\",\n",
    "    \"edge_color\": \"red\",\n",
    "    \"linewidths\": 3,\n",
    "    \"width\": 3,}\n",
    "    \n",
    "# Generate graph\n",
    "n, d = bbn.to_nx_graph()\n",
    "nx.draw(n, with_labels=True, labels=d, pos=pos, **options)\n",
    "\n",
    "# Update margins and print the graph\n",
    "ax = plt.gca()\n",
    "ax.margins(0.1)\n",
    "plt.axis(\"off\")\n",
    "plt.show()"
   ]
  },
  {
   "cell_type": "code",
   "execution_count": null,
   "metadata": {},
   "outputs": [],
   "source": []
  },
  {
   "cell_type": "code",
   "execution_count": 61,
   "metadata": {},
   "outputs": [
    {
     "ename": "NameError",
     "evalue": "name 'join_tree' is not defined",
     "output_type": "error",
     "traceback": [
      "\u001b[1;31m---------------------------------------------------------------------------\u001b[0m",
      "\u001b[1;31mNameError\u001b[0m                                 Traceback (most recent call last)",
      "\u001b[1;32m<ipython-input-61-897794d50e7f>\u001b[0m in \u001b[0;36m<module>\u001b[1;34m\u001b[0m\n\u001b[0;32m      9\u001b[0m \u001b[1;33m\u001b[0m\u001b[0m\n\u001b[0;32m     10\u001b[0m \u001b[1;31m# Use the above function to print marginal probabilities\u001b[0m\u001b[1;33m\u001b[0m\u001b[1;33m\u001b[0m\u001b[1;33m\u001b[0m\u001b[0m\n\u001b[1;32m---> 11\u001b[1;33m \u001b[0mprint_probs\u001b[0m\u001b[1;33m(\u001b[0m\u001b[1;33m)\u001b[0m\u001b[1;33m\u001b[0m\u001b[1;33m\u001b[0m\u001b[0m\n\u001b[0m",
      "\u001b[1;32m<ipython-input-61-897794d50e7f>\u001b[0m in \u001b[0;36mprint_probs\u001b[1;34m()\u001b[0m\n\u001b[0;32m      1\u001b[0m \u001b[1;31m# Define a function for printing marginal probabilities\u001b[0m\u001b[1;33m\u001b[0m\u001b[1;33m\u001b[0m\u001b[1;33m\u001b[0m\u001b[0m\n\u001b[0;32m      2\u001b[0m \u001b[1;32mdef\u001b[0m \u001b[0mprint_probs\u001b[0m\u001b[1;33m(\u001b[0m\u001b[1;33m)\u001b[0m\u001b[1;33m:\u001b[0m\u001b[1;33m\u001b[0m\u001b[1;33m\u001b[0m\u001b[0m\n\u001b[1;32m----> 3\u001b[1;33m     \u001b[1;32mfor\u001b[0m \u001b[0mnode\u001b[0m \u001b[1;32min\u001b[0m \u001b[0mjoin_tree\u001b[0m\u001b[1;33m.\u001b[0m\u001b[0mget_bbn_nodes\u001b[0m\u001b[1;33m(\u001b[0m\u001b[1;33m)\u001b[0m\u001b[1;33m:\u001b[0m\u001b[1;33m\u001b[0m\u001b[1;33m\u001b[0m\u001b[0m\n\u001b[0m\u001b[0;32m      4\u001b[0m         \u001b[0mpotential\u001b[0m \u001b[1;33m=\u001b[0m \u001b[0mjoin_tree\u001b[0m\u001b[1;33m.\u001b[0m\u001b[0mget_bbn_potential\u001b[0m\u001b[1;33m(\u001b[0m\u001b[0mnode\u001b[0m\u001b[1;33m)\u001b[0m\u001b[1;33m\u001b[0m\u001b[1;33m\u001b[0m\u001b[0m\n\u001b[0;32m      5\u001b[0m         \u001b[0mprint\u001b[0m\u001b[1;33m(\u001b[0m\u001b[1;34m\"Node:\"\u001b[0m\u001b[1;33m,\u001b[0m \u001b[0mnode\u001b[0m\u001b[1;33m)\u001b[0m\u001b[1;33m\u001b[0m\u001b[1;33m\u001b[0m\u001b[0m\n",
      "\u001b[1;31mNameError\u001b[0m: name 'join_tree' is not defined"
     ]
    }
   ],
   "source": [
    "# Define a function for printing marginal probabilities\n",
    "def print_probs():\n",
    "    for node in join_tree.get_bbn_nodes():\n",
    "        potential = join_tree.get_bbn_potential(node)\n",
    "        print(\"Node:\", node)\n",
    "        print(\"Values:\")\n",
    "        print(potential)\n",
    "        print('----------------')\n",
    "        \n",
    "# Use the above function to print marginal probabilities\n",
    "print_probs()"
   ]
  },
  {
   "cell_type": "code",
   "execution_count": null,
   "metadata": {},
   "outputs": [],
   "source": []
  },
  {
   "cell_type": "code",
   "execution_count": null,
   "metadata": {},
   "outputs": [],
   "source": []
  },
  {
   "cell_type": "code",
   "execution_count": null,
   "metadata": {},
   "outputs": [],
   "source": []
  },
  {
   "cell_type": "code",
   "execution_count": null,
   "metadata": {},
   "outputs": [],
   "source": []
  },
  {
   "cell_type": "code",
   "execution_count": null,
   "metadata": {},
   "outputs": [],
   "source": []
  }
 ],
 "metadata": {
  "kernelspec": {
   "display_name": "Python 3",
   "language": "python",
   "name": "python3"
  },
  "language_info": {
   "codemirror_mode": {
    "name": "ipython",
    "version": 3
   },
   "file_extension": ".py",
   "mimetype": "text/x-python",
   "name": "python",
   "nbconvert_exporter": "python",
   "pygments_lexer": "ipython3",
   "version": "3.8.5"
  }
 },
 "nbformat": 4,
 "nbformat_minor": 4
}
