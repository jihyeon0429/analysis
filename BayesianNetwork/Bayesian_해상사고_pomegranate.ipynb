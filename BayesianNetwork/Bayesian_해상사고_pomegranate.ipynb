{
 "cells": [
  {
   "cell_type": "code",
   "execution_count": 2,
   "metadata": {},
   "outputs": [],
   "source": [
    "# -*- coding: utf-8 -*-"
   ]
  },
  {
   "cell_type": "code",
   "execution_count": 2,
   "metadata": {
    "ExecuteTime": {
     "end_time": "2021-07-13T06:37:50.833128Z",
     "start_time": "2021-07-13T06:37:28.097714Z"
    }
   },
   "outputs": [
    {
     "name": "stdout",
     "output_type": "stream",
     "text": [
      "\u001b[33mWARNING: Value for scheme.headers does not match. Please report this to <https://github.com/pypa/pip/issues/9617>\n",
      "distutils: /home/consulting/anaconda2/envs/py35/include/python3.8/UNKNOWN\n",
      "sysconfig: /home/consulting/anaconda2/envs/py35/include/python3.8\u001b[0m\n",
      "\u001b[33mWARNING: Additional context:\n",
      "user = False\n",
      "home = None\n",
      "root = None\n",
      "prefix = None\u001b[0m\n",
      "Collecting pomegranate\n",
      "  Downloading pomegranate-0.14.5-cp38-cp38-manylinux2010_x86_64.whl (20.9 MB)\n",
      "\u001b[K     |████████████████████████████████| 20.9 MB 14.5 MB/s eta 0:00:01\n",
      "\u001b[?25hRequirement already satisfied: scipy>=0.17.0 in /home/consulting/anaconda2/envs/py35/lib/python3.8/site-packages (from pomegranate) (1.4.1)\n",
      "Requirement already satisfied: pyyaml in /home/consulting/anaconda2/envs/py35/lib/python3.8/site-packages (from pomegranate) (5.1.2)\n",
      "Requirement already satisfied: joblib>=0.9.0b4 in /home/consulting/anaconda2/envs/py35/lib/python3.8/site-packages (from pomegranate) (0.15.1)\n",
      "Requirement already satisfied: networkx>=2.4 in /home/consulting/anaconda2/envs/py35/lib/python3.8/site-packages (from pomegranate) (2.5)\n",
      "Collecting numpy>=1.20.0\n",
      "  Downloading numpy-1.21.0-cp38-cp38-manylinux_2_12_x86_64.manylinux2010_x86_64.whl (15.7 MB)\n",
      "\u001b[K     |████████████████████████████████| 15.7 MB 39.6 MB/s eta 0:00:01\n",
      "\u001b[?25hRequirement already satisfied: decorator>=4.3.0 in /home/consulting/anaconda2/envs/py35/lib/python3.8/site-packages (from networkx>=2.4->pomegranate) (4.4.2)\n",
      "Installing collected packages: numpy, pomegranate\n",
      "  Attempting uninstall: numpy\n",
      "    Found existing installation: numpy 1.19.2\n",
      "    Uninstalling numpy-1.19.2:\n",
      "      Successfully uninstalled numpy-1.19.2\n",
      "\u001b[33mWARNING: Value for scheme.headers does not match. Please report this to <https://github.com/pypa/pip/issues/9617>\n",
      "distutils: /home/consulting/anaconda2/envs/py35/include/python3.8/UNKNOWN\n",
      "sysconfig: /home/consulting/anaconda2/envs/py35/include/python3.8\u001b[0m\n",
      "\u001b[33mWARNING: Additional context:\n",
      "user = False\n",
      "home = None\n",
      "root = None\n",
      "prefix = None\u001b[0m\n",
      "Successfully installed numpy-1.21.0 pomegranate-0.14.5\n",
      "\u001b[33mWARNING: You are using pip version 21.1; however, version 21.1.3 is available.\n",
      "You should consider upgrading via the '/home/consulting/anaconda2/envs/py35/bin/python3 -m pip install --upgrade pip' command.\u001b[0m\n",
      "Note: you may need to restart the kernel to use updated packages.\n"
     ]
    }
   ],
   "source": [
    "tutorial='https://notebook.community/jmschrei/pomegranate/tutorials/B_Model_Tutorial_4_Bayesian_Networks'\n",
    "pip install pomegranate"
   ]
  },
  {
   "cell_type": "code",
   "execution_count": null,
   "metadata": {},
   "outputs": [],
   "source": []
  },
  {
   "cell_type": "code",
   "execution_count": null,
   "metadata": {},
   "outputs": [],
   "source": []
  },
  {
   "cell_type": "code",
   "execution_count": null,
   "metadata": {},
   "outputs": [],
   "source": []
  },
  {
   "cell_type": "markdown",
   "metadata": {},
   "source": [
    "### 확률 계산"
   ]
  },
  {
   "cell_type": "markdown",
   "metadata": {},
   "source": [
    "#### 조건부확률"
   ]
  },
  {
   "cell_type": "code",
   "execution_count": 1,
   "metadata": {
    "ExecuteTime": {
     "end_time": "2021-07-16T01:24:08.662480Z",
     "start_time": "2021-07-16T01:24:08.633482Z"
    },
    "code_folding": []
   },
   "outputs": [],
   "source": [
    "def get_conditional_prob(df, child, parent1=None, parent2=None):\n",
    "    p_list=[]\n",
    "    if parent1==None:\n",
    "        #print('no parent')\n",
    "        \n",
    "        child_values = df[child].unique()\n",
    "\n",
    "        idx = df[child].value_counts(normalize=True).index\n",
    "        p = df[child].value_counts(normalize=True).values\n",
    "        p_list += [[i,j] for i,j in zip(idx,p)]\n",
    "        for childv in child_values:\n",
    "            if childv not in idx:\n",
    "                p_list += [childv,0]\n",
    "\n",
    "\n",
    "    elif (parent1!=None) and (parent2==None):\n",
    "        #print('parent1')\n",
    "        \n",
    "        child_values = df[child].unique()\n",
    "        parent1_values = df[parent1].unique()\n",
    "\n",
    "        for par1 in parent1_values:\n",
    "            idx = df[df[parent1]==par1][child].value_counts(normalize=True).index\n",
    "            p = df[df[parent1]==par1][child].value_counts(normalize=True).values\n",
    "            p_list += [[par1,childv,p] for childv,p in zip(idx,p)]\n",
    "            #0일 땐 value_counts에 포함이 안되어서 따로 넣어줌\n",
    "            for childv in child_values:\n",
    "                if childv not in idx:\n",
    "                    p_list += [[par1, childv, 0]]\n",
    "\n",
    "            #parent_value별 조건부확률 누적 값은 1이 되어야 함\n",
    "            #print(sum(p))\n",
    "\n",
    "    elif (parent1!=None) and (parent2!=None):  \n",
    "        #print('parent2')\n",
    "        \n",
    "        child_values = df[child].unique()\n",
    "        parent1_values = df[parent1].unique()\n",
    "        parent2_values = df[parent2].unique()\n",
    "\n",
    "        for par1 in parent1_values:\n",
    "            for par2 in parent2_values:\n",
    "                \n",
    "                idx = df[(df[parent1]==par1) & (df[parent2]==par2)][child].value_counts(normalize=True).index\n",
    "                p = df[(df[parent1]==par1) & (df[parent2]==par2)][child].value_counts(normalize=True).values\n",
    "                p_list += [[par1,par2,childv,p] for childv,p in zip(idx,p)]\n",
    "\n",
    "                #0일 땐 value_counts에 포함이 안되어서 따로 넣어줌\n",
    "                for childv in child_values:\n",
    "                    if childv not in idx:\n",
    "                        p_list += [[par1, par2, childv,0]]\n",
    "                #parent_value별 조건부확률 누적 값은 1이 되어야 함\n",
    "                #print(sum(p))\n",
    "    \n",
    "    return p_list\n",
    "\n",
    "    \n",
    "    "
   ]
  },
  {
   "cell_type": "code",
   "execution_count": null,
   "metadata": {},
   "outputs": [],
   "source": []
  },
  {
   "cell_type": "code",
   "execution_count": null,
   "metadata": {},
   "outputs": [],
   "source": []
  },
  {
   "cell_type": "code",
   "execution_count": null,
   "metadata": {},
   "outputs": [],
   "source": []
  },
  {
   "cell_type": "code",
   "execution_count": null,
   "metadata": {},
   "outputs": [],
   "source": []
  },
  {
   "cell_type": "code",
   "execution_count": null,
   "metadata": {},
   "outputs": [],
   "source": []
  },
  {
   "cell_type": "code",
   "execution_count": null,
   "metadata": {},
   "outputs": [],
   "source": []
  },
  {
   "cell_type": "markdown",
   "metadata": {},
   "source": [
    "#### 결합확률"
   ]
  },
  {
   "cell_type": "code",
   "execution_count": 99,
   "metadata": {},
   "outputs": [],
   "source": [
    "var1 = '기상상태'\n",
    "var2 = '발생해역'\n",
    "var3 = '관할해경서'\n",
    "\n",
    "def get_joint_prob(df, var1, var2=None, var3=None):\n",
    "\n",
    "    if var2 == None:\n",
    "        probability = {}\n",
    "\n",
    "        p = df[child].value_counts(normalize=True)\n",
    "        for i in p.keys():\n",
    "            probability[i] = p[i]\n",
    "\n",
    "    elif (var2 != None) & (var3 == None):\n",
    "        total = len(df)\n",
    "        probability = []\n",
    "\n",
    "        for i in df[var1].unique():\n",
    "            for j in df[var2].unique():\n",
    "\n",
    "                cnt = len(df[(df[var1]==i) & (df[var2]==j)])\n",
    "                joint_p = cnt/total\n",
    "\n",
    "                ll = []\n",
    "                ll.append(i)\n",
    "                ll.append(j)\n",
    "                ll.append(joint_p)\n",
    "                probability.append(ll)\n",
    "\n",
    "    elif var3 != None:\n",
    "        total = len(df)\n",
    "        probability = []\n",
    "\n",
    "        for i in df[var1].unique():\n",
    "            for j in df[var2].unique():\n",
    "                for k in df[var3].unique():\n",
    "                    cnt = len(df[(df[var1]==i) & (df[var2]==j) & (df[var3]==k)])\n",
    "                    joint_p = cnt/total\n",
    "\n",
    "                    ll = []\n",
    "                    ll.append(i)\n",
    "                    ll.append(j)\n",
    "                    ll.append(k)\n",
    "                    ll.append(joint_p)\n",
    "                    probability.append(ll)\n",
    "\n",
    "\n",
    "    c=0    \n",
    "    for i in probability:\n",
    "        c+=i[-1]\n",
    "    #print(c)\n",
    "    \n",
    "    return probability\n",
    "\n",
    "#함수호출 예시\n",
    "#get_joint_prob(df, var1 = '기상상태', var2 = '발생해역', var3 = '관할해경서')"
   ]
  },
  {
   "cell_type": "code",
   "execution_count": null,
   "metadata": {},
   "outputs": [],
   "source": []
  },
  {
   "cell_type": "code",
   "execution_count": null,
   "metadata": {},
   "outputs": [],
   "source": []
  },
  {
   "cell_type": "markdown",
   "metadata": {},
   "source": [
    "### 베이지안네트워크 구축"
   ]
  },
  {
   "cell_type": "code",
   "execution_count": 2,
   "metadata": {
    "ExecuteTime": {
     "end_time": "2021-07-15T02:22:45.119917Z",
     "start_time": "2021-07-15T02:22:45.115221Z"
    }
   },
   "outputs": [],
   "source": [
    "import pandas as pd\n",
    "from pomegranate import * \n",
    "from sklearn.model_selection import train_test_split"
   ]
  },
  {
   "cell_type": "markdown",
   "metadata": {},
   "source": [
    "#### 데이터 불러오기"
   ]
  },
  {
   "cell_type": "code",
   "execution_count": 3,
   "metadata": {
    "ExecuteTime": {
     "end_time": "2021-07-15T02:22:46.985240Z",
     "start_time": "2021-07-15T02:22:46.882250Z"
    }
   },
   "outputs": [],
   "source": [
    "df=pd.read_csv('./Data/해양경찰청_해상조난사고_상세데이터_현황_20191231.csv', encoding='euckr')\n",
    "df.rename(columns={'선 종':'선종'},inplace=True)\n",
    "df = df[['발생일시','관할해경서','발생해역','기상상태','발생원인','발생유형','선종']]\n",
    "df = df.drop_duplicates()\n",
    "df['사고월']=df['발생일시'].apply(lambda x: 'January' if x.split('-')[1]=='01' \\\n",
    "                                    else 'February' if x.split('-')[1]=='02'\\\n",
    "                                    else 'March' if x.split('-')[1]=='03'\\\n",
    "                                    else 'April' if x.split('-')[1]=='04'\\\n",
    "                                    else 'May' if x.split('-')[1]=='05'\\\n",
    "                                    else 'June' if x.split('-')[1]=='06'\\\n",
    "                                    else 'July' if x.split('-')[1]=='07'\\\n",
    "                                    else 'August' if x.split('-')[1]=='08'\\\n",
    "                                    else 'September' if x.split('-')[1]=='09'\\\n",
    "                                    else 'October' if x.split('-')[1]=='10'\\\n",
    "                                    else 'November' if x.split('-')[1]=='11'\\\n",
    "                                    else 'December' if x.split('-')[1]=='12'\\\n",
    "                                    else 'etc'\n",
    "                           )\n",
    "\n",
    "\n",
    "\n",
    "# train set, test set split\n",
    "train_set, test_set = train_test_split(df, test_size=0.2, random_state=42)"
   ]
  },
  {
   "cell_type": "code",
   "execution_count": 4,
   "metadata": {
    "ExecuteTime": {
     "end_time": "2021-07-16T06:17:35.310588Z",
     "start_time": "2021-07-16T06:17:34.212226Z"
    }
   },
   "outputs": [
    {
     "data": {
      "text/html": [
       "<div>\n",
       "<style scoped>\n",
       "    .dataframe tbody tr th:only-of-type {\n",
       "        vertical-align: middle;\n",
       "    }\n",
       "\n",
       "    .dataframe tbody tr th {\n",
       "        vertical-align: top;\n",
       "    }\n",
       "\n",
       "    .dataframe thead th {\n",
       "        text-align: right;\n",
       "    }\n",
       "</style>\n",
       "<table border=\"1\" class=\"dataframe\">\n",
       "  <thead>\n",
       "    <tr style=\"text-align: right;\">\n",
       "      <th></th>\n",
       "      <th>발생일시</th>\n",
       "      <th>관할해경서</th>\n",
       "      <th>발생해역</th>\n",
       "      <th>기상상태</th>\n",
       "      <th>발생원인</th>\n",
       "      <th>발생유형</th>\n",
       "      <th>선종</th>\n",
       "      <th>사고월</th>\n",
       "    </tr>\n",
       "  </thead>\n",
       "  <tbody>\n",
       "    <tr>\n",
       "      <th>0</th>\n",
       "      <td>2019-12-31 22:04</td>\n",
       "      <td>포항</td>\n",
       "      <td>영해</td>\n",
       "      <td>양호</td>\n",
       "      <td>관리소홀</td>\n",
       "      <td>기타</td>\n",
       "      <td>모터보트</td>\n",
       "      <td>December</td>\n",
       "    </tr>\n",
       "    <tr>\n",
       "      <th>1</th>\n",
       "      <td>2019-12-31 15:13</td>\n",
       "      <td>포항</td>\n",
       "      <td>영해</td>\n",
       "      <td>양호</td>\n",
       "      <td>운항부주의</td>\n",
       "      <td>충돌</td>\n",
       "      <td>어선</td>\n",
       "      <td>December</td>\n",
       "    </tr>\n",
       "    <tr>\n",
       "      <th>2</th>\n",
       "      <td>2019-12-31 15:13</td>\n",
       "      <td>포항</td>\n",
       "      <td>영해</td>\n",
       "      <td>양호</td>\n",
       "      <td>운항부주의</td>\n",
       "      <td>충돌</td>\n",
       "      <td>화물선</td>\n",
       "      <td>December</td>\n",
       "    </tr>\n",
       "    <tr>\n",
       "      <th>3</th>\n",
       "      <td>2019-12-31 9:33</td>\n",
       "      <td>통영</td>\n",
       "      <td>협수로</td>\n",
       "      <td>양호</td>\n",
       "      <td>운항부주의</td>\n",
       "      <td>부유물감김</td>\n",
       "      <td>어선</td>\n",
       "      <td>December</td>\n",
       "    </tr>\n",
       "    <tr>\n",
       "      <th>4</th>\n",
       "      <td>2019-12-31 8:38</td>\n",
       "      <td>군산</td>\n",
       "      <td>항계 내</td>\n",
       "      <td>양호</td>\n",
       "      <td>관리소홀</td>\n",
       "      <td>침수</td>\n",
       "      <td>어선</td>\n",
       "      <td>December</td>\n",
       "    </tr>\n",
       "    <tr>\n",
       "      <th>...</th>\n",
       "      <td>...</td>\n",
       "      <td>...</td>\n",
       "      <td>...</td>\n",
       "      <td>...</td>\n",
       "      <td>...</td>\n",
       "      <td>...</td>\n",
       "      <td>...</td>\n",
       "      <td>...</td>\n",
       "    </tr>\n",
       "    <tr>\n",
       "      <th>3815</th>\n",
       "      <td>2019-01-01 14:08</td>\n",
       "      <td>인천</td>\n",
       "      <td>영해</td>\n",
       "      <td>양호</td>\n",
       "      <td>운항부주의</td>\n",
       "      <td>부유물감김</td>\n",
       "      <td>모터보트</td>\n",
       "      <td>January</td>\n",
       "    </tr>\n",
       "    <tr>\n",
       "      <th>3816</th>\n",
       "      <td>2019-01-01 9:14</td>\n",
       "      <td>인천</td>\n",
       "      <td>협수로</td>\n",
       "      <td>양호</td>\n",
       "      <td>운항부주의</td>\n",
       "      <td>침수</td>\n",
       "      <td>어선</td>\n",
       "      <td>January</td>\n",
       "    </tr>\n",
       "    <tr>\n",
       "      <th>3817</th>\n",
       "      <td>2019-01-01 7:59</td>\n",
       "      <td>완도</td>\n",
       "      <td>항계 내</td>\n",
       "      <td>양호</td>\n",
       "      <td>운항부주의</td>\n",
       "      <td>좌초/좌주</td>\n",
       "      <td>모터보트</td>\n",
       "      <td>January</td>\n",
       "    </tr>\n",
       "    <tr>\n",
       "      <th>3818</th>\n",
       "      <td>2019-01-01 3:31</td>\n",
       "      <td>태안</td>\n",
       "      <td>영해</td>\n",
       "      <td>양호</td>\n",
       "      <td>운항부주의</td>\n",
       "      <td>침몰</td>\n",
       "      <td>기타</td>\n",
       "      <td>January</td>\n",
       "    </tr>\n",
       "    <tr>\n",
       "      <th>3819</th>\n",
       "      <td>2019-01-01 0:10</td>\n",
       "      <td>서귀포</td>\n",
       "      <td>영해-EEZ</td>\n",
       "      <td>양호</td>\n",
       "      <td>정비불량</td>\n",
       "      <td>기관손상</td>\n",
       "      <td>어선</td>\n",
       "      <td>January</td>\n",
       "    </tr>\n",
       "  </tbody>\n",
       "</table>\n",
       "<p>3633 rows × 8 columns</p>\n",
       "</div>"
      ],
      "text/plain": [
       "                  발생일시 관할해경서    발생해역 기상상태   발생원인   발생유형    선종       사고월\n",
       "0     2019-12-31 22:04    포항      영해   양호   관리소홀     기타  모터보트  December\n",
       "1     2019-12-31 15:13    포항      영해   양호  운항부주의     충돌    어선  December\n",
       "2     2019-12-31 15:13    포항      영해   양호  운항부주의     충돌   화물선  December\n",
       "3      2019-12-31 9:33    통영     협수로   양호  운항부주의  부유물감김    어선  December\n",
       "4      2019-12-31 8:38    군산    항계 내   양호   관리소홀     침수    어선  December\n",
       "...                ...   ...     ...  ...    ...    ...   ...       ...\n",
       "3815  2019-01-01 14:08    인천      영해   양호  운항부주의  부유물감김  모터보트   January\n",
       "3816   2019-01-01 9:14    인천     협수로   양호  운항부주의     침수    어선   January\n",
       "3817   2019-01-01 7:59    완도    항계 내   양호  운항부주의  좌초/좌주  모터보트   January\n",
       "3818   2019-01-01 3:31    태안      영해   양호  운항부주의     침몰    기타   January\n",
       "3819   2019-01-01 0:10   서귀포  영해-EEZ   양호   정비불량   기관손상    어선   January\n",
       "\n",
       "[3633 rows x 8 columns]"
      ]
     },
     "execution_count": 4,
     "metadata": {},
     "output_type": "execute_result"
    }
   ],
   "source": [
    "df"
   ]
  },
  {
   "cell_type": "code",
   "execution_count": null,
   "metadata": {},
   "outputs": [],
   "source": []
  },
  {
   "cell_type": "code",
   "execution_count": null,
   "metadata": {},
   "outputs": [],
   "source": []
  },
  {
   "cell_type": "markdown",
   "metadata": {},
   "source": [
    "#### 확률계산"
   ]
  },
  {
   "cell_type": "code",
   "execution_count": 5,
   "metadata": {
    "ExecuteTime": {
     "end_time": "2021-07-16T01:24:13.316466Z",
     "start_time": "2021-07-16T01:24:12.918181Z"
    },
    "scrolled": true
   },
   "outputs": [],
   "source": [
    "#train set 데이터로 확률 및 조건부확률 계산\n",
    "\n",
    "weather_p = get_conditional_prob(train_set,'기상상태')\n",
    "weather_p_dic = {}\n",
    "for i in weather_p:\n",
    "    weather_p_dic[i[0]]=i[-1]\n",
    "\n",
    "month_p = get_conditional_prob(train_set,'사고월', parent1='기상상태')\n",
    "ocean_p = get_conditional_prob(train_set,'발생해역', parent1='기상상태')\n",
    "jurisdiction_p = get_conditional_prob(train_set,'관할해경서', parent1='발생해역')\n",
    "vessel_type_p = get_conditional_prob(train_set,'선종', parent1='발생해역')\n",
    "cause_p = get_conditional_prob(train_set,'발생원인', parent1='발생해역')\n",
    "accident_type_p = get_conditional_prob(train_set,'발생유형', parent1='발생원인')\n"
   ]
  },
  {
   "cell_type": "code",
   "execution_count": 6,
   "metadata": {
    "ExecuteTime": {
     "end_time": "2021-07-16T01:25:13.635118Z",
     "start_time": "2021-07-16T01:25:13.627882Z"
    }
   },
   "outputs": [
    {
     "data": {
      "text/plain": [
       "[['양호', 0.8964211975223675],\n",
       " ['저시정', 0.02752924982794219],\n",
       " ['풍랑주의보', 0.02339986235375086],\n",
       " ['태풍경보', 0.015829318651066758],\n",
       " ['황천5급', 0.015485203028217482],\n",
       " ['황천6급', 0.011011699931176875],\n",
       " ['황천4급', 0.0055058499655884375],\n",
       " ['풍랑경보', 0.0027529249827942187],\n",
       " ['태풍주의보', 0.0020646937370956643]]"
      ]
     },
     "execution_count": 6,
     "metadata": {},
     "output_type": "execute_result"
    }
   ],
   "source": [
    "weather_p"
   ]
  },
  {
   "cell_type": "code",
   "execution_count": 7,
   "metadata": {
    "ExecuteTime": {
     "end_time": "2021-07-16T01:25:14.336429Z",
     "start_time": "2021-07-16T01:25:14.330471Z"
    }
   },
   "outputs": [
    {
     "name": "stdout",
     "output_type": "stream",
     "text": [
      "0.9999999999999999\n"
     ]
    }
   ],
   "source": [
    "print(sum([i[1] for i in weather_p]))"
   ]
  },
  {
   "cell_type": "code",
   "execution_count": 62,
   "metadata": {
    "ExecuteTime": {
     "end_time": "2021-07-16T01:25:27.136652Z",
     "start_time": "2021-07-16T01:25:27.112305Z"
    }
   },
   "outputs": [
    {
     "data": {
      "text/plain": [
       "[['양호', 'August', 0.11170825335892515],\n",
       " ['양호', 'September', 0.10748560460652591],\n",
       " ['양호', 'October', 0.10556621880998081],\n",
       " ['양호', 'July', 0.09443378119001919],\n",
       " ['양호', 'June', 0.08944337811900192],\n",
       " ['양호', 'May', 0.08790786948176584],\n",
       " ['양호', 'November', 0.0817658349328215],\n",
       " ['양호', 'April', 0.07562380038387716],\n",
       " ['양호', 'January', 0.06948176583493282],\n",
       " ['양호', 'March', 0.06833013435700576],\n",
       " ['양호', 'December', 0.06410748560460652],\n",
       " ['양호', 'February', 0.044145873320537425],\n",
       " ['저시정', 'July', 0.3625],\n",
       " ['저시정', 'March', 0.1375],\n",
       " ['저시정', 'August', 0.1125],\n",
       " ['저시정', 'April', 0.0875],\n",
       " ['저시정', 'June', 0.075],\n",
       " ['저시정', 'October', 0.0625],\n",
       " ['저시정', 'September', 0.05],\n",
       " ['저시정', 'May', 0.05],\n",
       " ['저시정', 'January', 0.0375],\n",
       " ['저시정', 'February', 0.0125],\n",
       " ['저시정', 'November', 0.0125],\n",
       " ['저시정', 'December', 0],\n",
       " ['황천6급', 'October', 0.25],\n",
       " ['황천6급', 'February', 0.15625],\n",
       " ['황천6급', 'May', 0.125],\n",
       " ['황천6급', 'December', 0.09375],\n",
       " ['황천6급', 'March', 0.09375],\n",
       " ['황천6급', 'November', 0.09375],\n",
       " ['황천6급', 'June', 0.0625],\n",
       " ['황천6급', 'August', 0.03125],\n",
       " ['황천6급', 'January', 0.03125],\n",
       " ['황천6급', 'July', 0.03125],\n",
       " ['황천6급', 'September', 0.03125],\n",
       " ['황천6급', 'April', 0],\n",
       " ['풍랑주의보', 'November', 0.20588235294117646],\n",
       " ['풍랑주의보', 'October', 0.10294117647058823],\n",
       " ['풍랑주의보', 'February', 0.10294117647058823],\n",
       " ['풍랑주의보', 'April', 0.10294117647058823],\n",
       " ['풍랑주의보', 'May', 0.08823529411764706],\n",
       " ['풍랑주의보', 'March', 0.08823529411764706],\n",
       " ['풍랑주의보', 'January', 0.07352941176470588],\n",
       " ['풍랑주의보', 'August', 0.058823529411764705],\n",
       " ['풍랑주의보', 'December', 0.058823529411764705],\n",
       " ['풍랑주의보', 'July', 0.04411764705882353],\n",
       " ['풍랑주의보', 'September', 0.04411764705882353],\n",
       " ['풍랑주의보', 'June', 0.029411764705882353],\n",
       " ['태풍경보', 'September', 0.8695652173913043],\n",
       " ['태풍경보', 'July', 0.08695652173913043],\n",
       " ['태풍경보', 'October', 0.043478260869565216],\n",
       " ['태풍경보', 'February', 0],\n",
       " ['태풍경보', 'March', 0],\n",
       " ['태풍경보', 'June', 0],\n",
       " ['태풍경보', 'January', 0],\n",
       " ['태풍경보', 'August', 0],\n",
       " ['태풍경보', 'November', 0],\n",
       " ['태풍경보', 'December', 0],\n",
       " ['태풍경보', 'May', 0],\n",
       " ['태풍경보', 'April', 0],\n",
       " ['황천4급', 'January', 0.3125],\n",
       " ['황천4급', 'February', 0.1875],\n",
       " ['황천4급', 'October', 0.125],\n",
       " ['황천4급', 'April', 0.125],\n",
       " ['황천4급', 'July', 0.125],\n",
       " ['황천4급', 'May', 0.0625],\n",
       " ['황천4급', 'November', 0.0625],\n",
       " ['황천4급', 'March', 0],\n",
       " ['황천4급', 'September', 0],\n",
       " ['황천4급', 'June', 0],\n",
       " ['황천4급', 'August', 0],\n",
       " ['황천4급', 'December', 0],\n",
       " ['황천5급', 'February', 0.2222222222222222],\n",
       " ['황천5급', 'April', 0.2],\n",
       " ['황천5급', 'January', 0.13333333333333333],\n",
       " ['황천5급', 'August', 0.1111111111111111],\n",
       " ['황천5급', 'October', 0.1111111111111111],\n",
       " ['황천5급', 'November', 0.06666666666666667],\n",
       " ['황천5급', 'September', 0.044444444444444446],\n",
       " ['황천5급', 'May', 0.044444444444444446],\n",
       " ['황천5급', 'March', 0.044444444444444446],\n",
       " ['황천5급', 'June', 0.022222222222222223],\n",
       " ['황천5급', 'July', 0],\n",
       " ['황천5급', 'December', 0],\n",
       " ['풍랑경보', 'September', 0.5],\n",
       " ['풍랑경보', 'November', 0.25],\n",
       " ['풍랑경보', 'October', 0.25],\n",
       " ['풍랑경보', 'February', 0],\n",
       " ['풍랑경보', 'March', 0],\n",
       " ['풍랑경보', 'July', 0],\n",
       " ['풍랑경보', 'June', 0],\n",
       " ['풍랑경보', 'January', 0],\n",
       " ['풍랑경보', 'August', 0],\n",
       " ['풍랑경보', 'December', 0],\n",
       " ['풍랑경보', 'May', 0],\n",
       " ['풍랑경보', 'April', 0],\n",
       " ['태풍주의보', 'October', 0.6666666666666666],\n",
       " ['태풍주의보', 'September', 0.3333333333333333],\n",
       " ['태풍주의보', 'February', 0],\n",
       " ['태풍주의보', 'March', 0],\n",
       " ['태풍주의보', 'July', 0],\n",
       " ['태풍주의보', 'June', 0],\n",
       " ['태풍주의보', 'January', 0],\n",
       " ['태풍주의보', 'August', 0],\n",
       " ['태풍주의보', 'November', 0],\n",
       " ['태풍주의보', 'December', 0],\n",
       " ['태풍주의보', 'May', 0],\n",
       " ['태풍주의보', 'April', 0]]"
      ]
     },
     "execution_count": 62,
     "metadata": {},
     "output_type": "execute_result"
    }
   ],
   "source": [
    "month_p"
   ]
  },
  {
   "cell_type": "code",
   "execution_count": 8,
   "metadata": {
    "ExecuteTime": {
     "end_time": "2021-07-16T01:26:46.620725Z",
     "start_time": "2021-07-16T01:26:46.612913Z"
    }
   },
   "outputs": [
    {
     "name": "stdout",
     "output_type": "stream",
     "text": [
      "1.0\n",
      "1.0\n"
     ]
    }
   ],
   "source": [
    "print(sum([i[2] for i in month_p if i[0]=='양호']))\n",
    "print(sum([i[2] for i in month_p if i[0]=='저시정']))"
   ]
  },
  {
   "cell_type": "code",
   "execution_count": null,
   "metadata": {},
   "outputs": [],
   "source": []
  },
  {
   "cell_type": "code",
   "execution_count": null,
   "metadata": {},
   "outputs": [],
   "source": []
  },
  {
   "cell_type": "markdown",
   "metadata": {},
   "source": [
    "#### 노드, 엣지 생성"
   ]
  },
  {
   "cell_type": "code",
   "execution_count": 17,
   "metadata": {
    "ExecuteTime": {
     "end_time": "2021-07-15T02:22:57.397707Z",
     "start_time": "2021-07-15T02:22:57.371611Z"
    }
   },
   "outputs": [],
   "source": [
    "# 모델링에 기반하여 모델 생성\n",
    "\n",
    "# 노드 정의\n",
    "weather = Node(\n",
    "    DiscreteDistribution(weather_p_dic),\n",
    "    name='weather'\n",
    "              )\n",
    "\n",
    "month = Node(\n",
    "    ConditionalProbabilityTable(\n",
    "        month_p, \n",
    "        [weather.distribution]\n",
    "    )\n",
    "    , name='month'\n",
    ")\n",
    "\n",
    "ocean = Node(\n",
    "    ConditionalProbabilityTable(\n",
    "        ocean_p, \n",
    "        [weather.distribution]\n",
    "    )\n",
    "    , name='ocean'\n",
    ")\n",
    "\n",
    "jurisdiction = Node(\n",
    "    ConditionalProbabilityTable(\n",
    "        jurisdiction_p,\n",
    "        [ocean.distribution]\n",
    "    )\n",
    "    , name='jurisdiction'\n",
    ")\n",
    "\n",
    "vessel_type = Node(\n",
    "    ConditionalProbabilityTable(\n",
    "        vessel_type_p,\n",
    "        [ocean.distribution]\n",
    "    )\n",
    "    , name='vessel_type'\n",
    ")\n",
    "\n",
    "cause = Node(\n",
    "    ConditionalProbabilityTable(\n",
    "        cause_p,\n",
    "        [ocean.distribution]\n",
    "    )\n",
    "    , name='cause'\n",
    ")\n",
    "\n",
    "accident_type = Node(\n",
    "    ConditionalProbabilityTable(\n",
    "        accident_type_p,\n",
    "        [cause.distribution]\n",
    "    )\n",
    "    , name='accident_type'\n",
    ")\n",
    "\n",
    "\n",
    "## 모델 생성\n",
    "model = BayesianNetwork()\n",
    "# 노드 추가 (한 개씩 추가해도 결과 같음)\n",
    "model.add_states(weather, month, ocean, jurisdiction, cause, vessel_type, accident_type)\n",
    "\n",
    "# 엣지 추가 (parent, child)\n",
    "model.add_edge(weather, month)\n",
    "model.add_edge(weather, ocean)\n",
    "model.add_edge(ocean, jurisdiction)\n",
    "model.add_edge(ocean, vessel_type)\n",
    "model.add_edge(ocean, cause)\n",
    "model.add_edge(cause, accident_type)\n",
    "\n",
    "\n",
    "\n",
    "# Finalize the topology of the model.\n",
    "# Assign a numerical index to every state and create the underlying arrays corresponding to the states and edges between the states. \n",
    "#This method must be called before any of the probability-calculating methods. This includes converting conditional probability tables into joint probability tables \n",
    "#and creating a list of both marginal and table nodes.\n",
    "model.bake()\n",
    "\n",
    "\n",
    "\n",
    "\n"
   ]
  },
  {
   "cell_type": "code",
   "execution_count": 32,
   "metadata": {},
   "outputs": [
    {
     "data": {
      "text/plain": [
       "{\n",
       "    \"class\" : \"BayesianNetwork\",\n",
       "    \"name\" : \"2488929973584\",\n",
       "    \"structure\" : [\n",
       "        [],\n",
       "        [\n",
       "            0\n",
       "        ]\n",
       "    ],\n",
       "    \"states\" : [\n",
       "        {\n",
       "            \"class\" : \"State\",\n",
       "            \"distribution\" : {\n",
       "                \"class\" : \"Distribution\",\n",
       "                \"dtype\" : \"str\",\n",
       "                \"name\" : \"DiscreteDistribution\",\n",
       "                \"parameters\" : [\n",
       "                    {\n",
       "                        \"\\uc591\\ud638\" : 0.8964211975223675,\n",
       "                        \"\\uc800\\uc2dc\\uc815\" : 0.02752924982794219,\n",
       "                        \"\\ud48d\\ub791\\uc8fc\\uc758\\ubcf4\" : 0.02339986235375086,\n",
       "                        \"\\ud0dc\\ud48d\\uacbd\\ubcf4\" : 0.015829318651066758,\n",
       "                        \"\\ud669\\ucc9c5\\uae09\" : 0.015485203028217482,\n",
       "                        \"\\ud669\\ucc9c6\\uae09\" : 0.011011699931176875,\n",
       "                        \"\\ud669\\ucc9c4\\uae09\" : 0.0055058499655884375,\n",
       "                        \"\\ud48d\\ub791\\uacbd\\ubcf4\" : 0.0027529249827942187,\n",
       "                        \"\\ud0dc\\ud48d\\uc8fc\\uc758\\ubcf4\" : 0.0020646937370956643\n",
       "                    }\n",
       "                ],\n",
       "                \"frozen\" : false\n",
       "            },\n",
       "            \"name\" : \"weather\",\n",
       "            \"weight\" : 1.0\n",
       "        },\n",
       "        {\n",
       "            \"class\" : \"State\",\n",
       "            \"distribution\" : {\n",
       "                \"class\" : \"Distribution\",\n",
       "                \"name\" : \"ConditionalProbabilityTable\",\n",
       "                \"table\" : [\n",
       "                    [\n",
       "                        \"\\uc591\\ud638\",\n",
       "                        \"August\",\n",
       "                        \"0.11170825335892516\"\n",
       "                    ],\n",
       "                    [\n",
       "                        \"\\uc591\\ud638\",\n",
       "                        \"September\",\n",
       "                        \"0.10748560460652591\"\n",
       "                    ],\n",
       "                    [\n",
       "                        \"\\uc591\\ud638\",\n",
       "                        \"October\",\n",
       "                        \"0.1055662188099808\"\n",
       "                    ],\n",
       "                    [\n",
       "                        \"\\uc591\\ud638\",\n",
       "                        \"July\",\n",
       "                        \"0.09443378119001919\"\n",
       "                    ],\n",
       "                    [\n",
       "                        \"\\uc591\\ud638\",\n",
       "                        \"June\",\n",
       "                        \"0.08944337811900191\"\n",
       "                    ],\n",
       "                    [\n",
       "                        \"\\uc591\\ud638\",\n",
       "                        \"May\",\n",
       "                        \"0.08790786948176585\"\n",
       "                    ],\n",
       "                    [\n",
       "                        \"\\uc591\\ud638\",\n",
       "                        \"November\",\n",
       "                        \"0.08176583493282148\"\n",
       "                    ],\n",
       "                    [\n",
       "                        \"\\uc591\\ud638\",\n",
       "                        \"April\",\n",
       "                        \"0.07562380038387714\"\n",
       "                    ],\n",
       "                    [\n",
       "                        \"\\uc591\\ud638\",\n",
       "                        \"January\",\n",
       "                        \"0.0694817658349328\"\n",
       "                    ],\n",
       "                    [\n",
       "                        \"\\uc591\\ud638\",\n",
       "                        \"March\",\n",
       "                        \"0.06833013435700577\"\n",
       "                    ],\n",
       "                    [\n",
       "                        \"\\uc591\\ud638\",\n",
       "                        \"December\",\n",
       "                        \"0.06410748560460651\"\n",
       "                    ],\n",
       "                    [\n",
       "                        \"\\uc591\\ud638\",\n",
       "                        \"February\",\n",
       "                        \"0.044145873320537425\"\n",
       "                    ],\n",
       "                    [\n",
       "                        \"\\uc800\\uc2dc\\uc815\",\n",
       "                        \"July\",\n",
       "                        \"0.36250000000000004\"\n",
       "                    ],\n",
       "                    [\n",
       "                        \"\\uc800\\uc2dc\\uc815\",\n",
       "                        \"March\",\n",
       "                        \"0.1375\"\n",
       "                    ],\n",
       "                    [\n",
       "                        \"\\uc800\\uc2dc\\uc815\",\n",
       "                        \"August\",\n",
       "                        \"0.11250000000000002\"\n",
       "                    ],\n",
       "                    [\n",
       "                        \"\\uc800\\uc2dc\\uc815\",\n",
       "                        \"April\",\n",
       "                        \"0.08750000000000001\"\n",
       "                    ],\n",
       "                    [\n",
       "                        \"\\uc800\\uc2dc\\uc815\",\n",
       "                        \"June\",\n",
       "                        \"0.075\"\n",
       "                    ],\n",
       "                    [\n",
       "                        \"\\uc800\\uc2dc\\uc815\",\n",
       "                        \"October\",\n",
       "                        \"0.0625\"\n",
       "                    ],\n",
       "                    [\n",
       "                        \"\\uc800\\uc2dc\\uc815\",\n",
       "                        \"September\",\n",
       "                        \"0.05000000000000001\"\n",
       "                    ],\n",
       "                    [\n",
       "                        \"\\uc800\\uc2dc\\uc815\",\n",
       "                        \"May\",\n",
       "                        \"0.05000000000000001\"\n",
       "                    ],\n",
       "                    [\n",
       "                        \"\\uc800\\uc2dc\\uc815\",\n",
       "                        \"January\",\n",
       "                        \"0.03749999999999999\"\n",
       "                    ],\n",
       "                    [\n",
       "                        \"\\uc800\\uc2dc\\uc815\",\n",
       "                        \"November\",\n",
       "                        \"0.012500000000000006\"\n",
       "                    ],\n",
       "                    [\n",
       "                        \"\\uc800\\uc2dc\\uc815\",\n",
       "                        \"February\",\n",
       "                        \"0.012500000000000006\"\n",
       "                    ],\n",
       "                    [\n",
       "                        \"\\uc800\\uc2dc\\uc815\",\n",
       "                        \"December\",\n",
       "                        \"0.0\"\n",
       "                    ],\n",
       "                    [\n",
       "                        \"\\ud669\\ucc9c6\\uae09\",\n",
       "                        \"October\",\n",
       "                        \"0.25\"\n",
       "                    ],\n",
       "                    [\n",
       "                        \"\\ud669\\ucc9c6\\uae09\",\n",
       "                        \"February\",\n",
       "                        \"0.15625\"\n",
       "                    ],\n",
       "                    [\n",
       "                        \"\\ud669\\ucc9c6\\uae09\",\n",
       "                        \"May\",\n",
       "                        \"0.12500000000000003\"\n",
       "                    ],\n",
       "                    [\n",
       "                        \"\\ud669\\ucc9c6\\uae09\",\n",
       "                        \"November\",\n",
       "                        \"0.09374999999999999\"\n",
       "                    ],\n",
       "                    [\n",
       "                        \"\\ud669\\ucc9c6\\uae09\",\n",
       "                        \"March\",\n",
       "                        \"0.09374999999999999\"\n",
       "                    ],\n",
       "                    [\n",
       "                        \"\\ud669\\ucc9c6\\uae09\",\n",
       "                        \"December\",\n",
       "                        \"0.09374999999999999\"\n",
       "                    ],\n",
       "                    [\n",
       "                        \"\\ud669\\ucc9c6\\uae09\",\n",
       "                        \"June\",\n",
       "                        \"0.0625\"\n",
       "                    ],\n",
       "                    [\n",
       "                        \"\\ud669\\ucc9c6\\uae09\",\n",
       "                        \"July\",\n",
       "                        \"0.03125\"\n",
       "                    ],\n",
       "                    [\n",
       "                        \"\\ud669\\ucc9c6\\uae09\",\n",
       "                        \"January\",\n",
       "                        \"0.03125\"\n",
       "                    ],\n",
       "                    [\n",
       "                        \"\\ud669\\ucc9c6\\uae09\",\n",
       "                        \"September\",\n",
       "                        \"0.03125\"\n",
       "                    ],\n",
       "                    [\n",
       "                        \"\\ud669\\ucc9c6\\uae09\",\n",
       "                        \"August\",\n",
       "                        \"0.03125\"\n",
       "                    ],\n",
       "                    [\n",
       "                        \"\\ud669\\ucc9c6\\uae09\",\n",
       "                        \"April\",\n",
       "                        \"0.0\"\n",
       "                    ],\n",
       "                    [\n",
       "                        \"\\ud48d\\ub791\\uc8fc\\uc758\\ubcf4\",\n",
       "                        \"November\",\n",
       "                        \"0.20588235294117646\"\n",
       "                    ],\n",
       "                    [\n",
       "                        \"\\ud48d\\ub791\\uc8fc\\uc758\\ubcf4\",\n",
       "                        \"February\",\n",
       "                        \"0.10294117647058823\"\n",
       "                    ],\n",
       "                    [\n",
       "                        \"\\ud48d\\ub791\\uc8fc\\uc758\\ubcf4\",\n",
       "                        \"April\",\n",
       "                        \"0.10294117647058823\"\n",
       "                    ],\n",
       "                    [\n",
       "                        \"\\ud48d\\ub791\\uc8fc\\uc758\\ubcf4\",\n",
       "                        \"October\",\n",
       "                        \"0.10294117647058823\"\n",
       "                    ],\n",
       "                    [\n",
       "                        \"\\ud48d\\ub791\\uc8fc\\uc758\\ubcf4\",\n",
       "                        \"March\",\n",
       "                        \"0.08823529411764706\"\n",
       "                    ],\n",
       "                    [\n",
       "                        \"\\ud48d\\ub791\\uc8fc\\uc758\\ubcf4\",\n",
       "                        \"May\",\n",
       "                        \"0.08823529411764706\"\n",
       "                    ],\n",
       "                    [\n",
       "                        \"\\ud48d\\ub791\\uc8fc\\uc758\\ubcf4\",\n",
       "                        \"January\",\n",
       "                        \"0.07352941176470587\"\n",
       "                    ],\n",
       "                    [\n",
       "                        \"\\ud48d\\ub791\\uc8fc\\uc758\\ubcf4\",\n",
       "                        \"August\",\n",
       "                        \"0.0588235294117647\"\n",
       "                    ],\n",
       "                    [\n",
       "                        \"\\ud48d\\ub791\\uc8fc\\uc758\\ubcf4\",\n",
       "                        \"December\",\n",
       "                        \"0.0588235294117647\"\n",
       "                    ],\n",
       "                    [\n",
       "                        \"\\ud48d\\ub791\\uc8fc\\uc758\\ubcf4\",\n",
       "                        \"July\",\n",
       "                        \"0.04411764705882353\"\n",
       "                    ],\n",
       "                    [\n",
       "                        \"\\ud48d\\ub791\\uc8fc\\uc758\\ubcf4\",\n",
       "                        \"September\",\n",
       "                        \"0.04411764705882353\"\n",
       "                    ],\n",
       "                    [\n",
       "                        \"\\ud48d\\ub791\\uc8fc\\uc758\\ubcf4\",\n",
       "                        \"June\",\n",
       "                        \"0.02941176470588235\"\n",
       "                    ],\n",
       "                    [\n",
       "                        \"\\ud0dc\\ud48d\\uacbd\\ubcf4\",\n",
       "                        \"September\",\n",
       "                        \"0.8695652173913043\"\n",
       "                    ],\n",
       "                    [\n",
       "                        \"\\ud0dc\\ud48d\\uacbd\\ubcf4\",\n",
       "                        \"July\",\n",
       "                        \"0.08695652173913045\"\n",
       "                    ],\n",
       "                    [\n",
       "                        \"\\ud0dc\\ud48d\\uacbd\\ubcf4\",\n",
       "                        \"October\",\n",
       "                        \"0.043478260869565216\"\n",
       "                    ],\n",
       "                    [\n",
       "                        \"\\ud0dc\\ud48d\\uacbd\\ubcf4\",\n",
       "                        \"February\",\n",
       "                        \"0.0\"\n",
       "                    ],\n",
       "                    [\n",
       "                        \"\\ud0dc\\ud48d\\uacbd\\ubcf4\",\n",
       "                        \"March\",\n",
       "                        \"0.0\"\n",
       "                    ],\n",
       "                    [\n",
       "                        \"\\ud0dc\\ud48d\\uacbd\\ubcf4\",\n",
       "                        \"June\",\n",
       "                        \"0.0\"\n",
       "                    ],\n",
       "                    [\n",
       "                        \"\\ud0dc\\ud48d\\uacbd\\ubcf4\",\n",
       "                        \"January\",\n",
       "                        \"0.0\"\n",
       "                    ],\n",
       "                    [\n",
       "                        \"\\ud0dc\\ud48d\\uacbd\\ubcf4\",\n",
       "                        \"August\",\n",
       "                        \"0.0\"\n",
       "                    ],\n",
       "                    [\n",
       "                        \"\\ud0dc\\ud48d\\uacbd\\ubcf4\",\n",
       "                        \"November\",\n",
       "                        \"0.0\"\n",
       "                    ],\n",
       "                    [\n",
       "                        \"\\ud0dc\\ud48d\\uacbd\\ubcf4\",\n",
       "                        \"December\",\n",
       "                        \"0.0\"\n",
       "                    ],\n",
       "                    [\n",
       "                        \"\\ud0dc\\ud48d\\uacbd\\ubcf4\",\n",
       "                        \"May\",\n",
       "                        \"0.0\"\n",
       "                    ],\n",
       "                    [\n",
       "                        \"\\ud0dc\\ud48d\\uacbd\\ubcf4\",\n",
       "                        \"April\",\n",
       "                        \"0.0\"\n",
       "                    ],\n",
       "                    [\n",
       "                        \"\\ud669\\ucc9c4\\uae09\",\n",
       "                        \"January\",\n",
       "                        \"0.3125\"\n",
       "                    ],\n",
       "                    [\n",
       "                        \"\\ud669\\ucc9c4\\uae09\",\n",
       "                        \"February\",\n",
       "                        \"0.1875\"\n",
       "                    ],\n",
       "                    [\n",
       "                        \"\\ud669\\ucc9c4\\uae09\",\n",
       "                        \"July\",\n",
       "                        \"0.12500000000000003\"\n",
       "                    ],\n",
       "                    [\n",
       "                        \"\\ud669\\ucc9c4\\uae09\",\n",
       "                        \"April\",\n",
       "                        \"0.12500000000000003\"\n",
       "                    ],\n",
       "                    [\n",
       "                        \"\\ud669\\ucc9c4\\uae09\",\n",
       "                        \"October\",\n",
       "                        \"0.12500000000000003\"\n",
       "                    ],\n",
       "                    [\n",
       "                        \"\\ud669\\ucc9c4\\uae09\",\n",
       "                        \"November\",\n",
       "                        \"0.0625\"\n",
       "                    ],\n",
       "                    [\n",
       "                        \"\\ud669\\ucc9c4\\uae09\",\n",
       "                        \"May\",\n",
       "                        \"0.0625\"\n",
       "                    ],\n",
       "                    [\n",
       "                        \"\\ud669\\ucc9c4\\uae09\",\n",
       "                        \"March\",\n",
       "                        \"0.0\"\n",
       "                    ],\n",
       "                    [\n",
       "                        \"\\ud669\\ucc9c4\\uae09\",\n",
       "                        \"September\",\n",
       "                        \"0.0\"\n",
       "                    ],\n",
       "                    [\n",
       "                        \"\\ud669\\ucc9c4\\uae09\",\n",
       "                        \"June\",\n",
       "                        \"0.0\"\n",
       "                    ],\n",
       "                    [\n",
       "                        \"\\ud669\\ucc9c4\\uae09\",\n",
       "                        \"August\",\n",
       "                        \"0.0\"\n",
       "                    ],\n",
       "                    [\n",
       "                        \"\\ud669\\ucc9c4\\uae09\",\n",
       "                        \"December\",\n",
       "                        \"0.0\"\n",
       "                    ],\n",
       "                    [\n",
       "                        \"\\ud669\\ucc9c5\\uae09\",\n",
       "                        \"February\",\n",
       "                        \"0.2222222222222222\"\n",
       "                    ],\n",
       "                    [\n",
       "                        \"\\ud669\\ucc9c5\\uae09\",\n",
       "                        \"April\",\n",
       "                        \"0.2\"\n",
       "                    ],\n",
       "                    [\n",
       "                        \"\\ud669\\ucc9c5\\uae09\",\n",
       "                        \"January\",\n",
       "                        \"0.13333333333333333\"\n",
       "                    ],\n",
       "                    [\n",
       "                        \"\\ud669\\ucc9c5\\uae09\",\n",
       "                        \"August\",\n",
       "                        \"0.11111111111111109\"\n",
       "                    ],\n",
       "                    [\n",
       "                        \"\\ud669\\ucc9c5\\uae09\",\n",
       "                        \"October\",\n",
       "                        \"0.11111111111111109\"\n",
       "                    ],\n",
       "                    [\n",
       "                        \"\\ud669\\ucc9c5\\uae09\",\n",
       "                        \"November\",\n",
       "                        \"0.06666666666666667\"\n",
       "                    ],\n",
       "                    [\n",
       "                        \"\\ud669\\ucc9c5\\uae09\",\n",
       "                        \"March\",\n",
       "                        \"0.04444444444444445\"\n",
       "                    ],\n",
       "                    [\n",
       "                        \"\\ud669\\ucc9c5\\uae09\",\n",
       "                        \"September\",\n",
       "                        \"0.04444444444444445\"\n",
       "                    ],\n",
       "                    [\n",
       "                        \"\\ud669\\ucc9c5\\uae09\",\n",
       "                        \"May\",\n",
       "                        \"0.04444444444444445\"\n",
       "                    ],\n",
       "                    [\n",
       "                        \"\\ud669\\ucc9c5\\uae09\",\n",
       "                        \"June\",\n",
       "                        \"0.022222222222222227\"\n",
       "                    ],\n",
       "                    [\n",
       "                        \"\\ud669\\ucc9c5\\uae09\",\n",
       "                        \"July\",\n",
       "                        \"0.0\"\n",
       "                    ],\n",
       "                    [\n",
       "                        \"\\ud669\\ucc9c5\\uae09\",\n",
       "                        \"December\",\n",
       "                        \"0.0\"\n",
       "                    ],\n",
       "                    [\n",
       "                        \"\\ud48d\\ub791\\uacbd\\ubcf4\",\n",
       "                        \"September\",\n",
       "                        \"0.5\"\n",
       "                    ],\n",
       "                    [\n",
       "                        \"\\ud48d\\ub791\\uacbd\\ubcf4\",\n",
       "                        \"October\",\n",
       "                        \"0.25\"\n",
       "                    ],\n",
       "                    [\n",
       "                        \"\\ud48d\\ub791\\uacbd\\ubcf4\",\n",
       "                        \"November\",\n",
       "                        \"0.25\"\n",
       "                    ],\n",
       "                    [\n",
       "                        \"\\ud48d\\ub791\\uacbd\\ubcf4\",\n",
       "                        \"February\",\n",
       "                        \"0.0\"\n",
       "                    ],\n",
       "                    [\n",
       "                        \"\\ud48d\\ub791\\uacbd\\ubcf4\",\n",
       "                        \"March\",\n",
       "                        \"0.0\"\n",
       "                    ],\n",
       "                    [\n",
       "                        \"\\ud48d\\ub791\\uacbd\\ubcf4\",\n",
       "                        \"July\",\n",
       "                        \"0.0\"\n",
       "                    ],\n",
       "                    [\n",
       "                        \"\\ud48d\\ub791\\uacbd\\ubcf4\",\n",
       "                        \"June\",\n",
       "                        \"0.0\"\n",
       "                    ],\n",
       "                    [\n",
       "                        \"\\ud48d\\ub791\\uacbd\\ubcf4\",\n",
       "                        \"January\",\n",
       "                        \"0.0\"\n",
       "                    ],\n",
       "                    [\n",
       "                        \"\\ud48d\\ub791\\uacbd\\ubcf4\",\n",
       "                        \"August\",\n",
       "                        \"0.0\"\n",
       "                    ],\n",
       "                    [\n",
       "                        \"\\ud48d\\ub791\\uacbd\\ubcf4\",\n",
       "                        \"December\",\n",
       "                        \"0.0\"\n",
       "                    ],\n",
       "                    [\n",
       "                        \"\\ud48d\\ub791\\uacbd\\ubcf4\",\n",
       "                        \"May\",\n",
       "                        \"0.0\"\n",
       "                    ],\n",
       "                    [\n",
       "                        \"\\ud48d\\ub791\\uacbd\\ubcf4\",\n",
       "                        \"April\",\n",
       "                        \"0.0\"\n",
       "                    ],\n",
       "                    [\n",
       "                        \"\\ud0dc\\ud48d\\uc8fc\\uc758\\ubcf4\",\n",
       "                        \"October\",\n",
       "                        \"0.6666666666666666\"\n",
       "                    ],\n",
       "                    [\n",
       "                        \"\\ud0dc\\ud48d\\uc8fc\\uc758\\ubcf4\",\n",
       "                        \"September\",\n",
       "                        \"0.3333333333333333\"\n",
       "                    ],\n",
       "                    [\n",
       "                        \"\\ud0dc\\ud48d\\uc8fc\\uc758\\ubcf4\",\n",
       "                        \"February\",\n",
       "                        \"0.0\"\n",
       "                    ],\n",
       "                    [\n",
       "                        \"\\ud0dc\\ud48d\\uc8fc\\uc758\\ubcf4\",\n",
       "                        \"March\",\n",
       "                        \"0.0\"\n",
       "                    ],\n",
       "                    [\n",
       "                        \"\\ud0dc\\ud48d\\uc8fc\\uc758\\ubcf4\",\n",
       "                        \"July\",\n",
       "                        \"0.0\"\n",
       "                    ],\n",
       "                    [\n",
       "                        \"\\ud0dc\\ud48d\\uc8fc\\uc758\\ubcf4\",\n",
       "                        \"June\",\n",
       "                        \"0.0\"\n",
       "                    ],\n",
       "                    [\n",
       "                        \"\\ud0dc\\ud48d\\uc8fc\\uc758\\ubcf4\",\n",
       "                        \"January\",\n",
       "                        \"0.0\"\n",
       "                    ],\n",
       "                    [\n",
       "                        \"\\ud0dc\\ud48d\\uc8fc\\uc758\\ubcf4\",\n",
       "                        \"August\",\n",
       "                        \"0.0\"\n",
       "                    ],\n",
       "                    [\n",
       "                        \"\\ud0dc\\ud48d\\uc8fc\\uc758\\ubcf4\",\n",
       "                        \"November\",\n",
       "                        \"0.0\"\n",
       "                    ],\n",
       "                    [\n",
       "                        \"\\ud0dc\\ud48d\\uc8fc\\uc758\\ubcf4\",\n",
       "                        \"December\",\n",
       "                        \"0.0\"\n",
       "                    ],\n",
       "                    [\n",
       "                        \"\\ud0dc\\ud48d\\uc8fc\\uc758\\ubcf4\",\n",
       "                        \"May\",\n",
       "                        \"0.0\"\n",
       "                    ],\n",
       "                    [\n",
       "                        \"\\ud0dc\\ud48d\\uc8fc\\uc758\\ubcf4\",\n",
       "                        \"April\",\n",
       "                        \"0.0\"\n",
       "                    ]\n",
       "                ],\n",
       "                \"dtypes\" : [\n",
       "                    \"str\",\n",
       "                    \"str\",\n",
       "                    \"numpy.float64\"\n",
       "                ],\n",
       "                \"parents\" : [\n",
       "                    {\n",
       "                        \"class\" : \"Distribution\",\n",
       "                        \"dtype\" : \"str\",\n",
       "                        \"name\" : \"DiscreteDistribution\",\n",
       "                        \"parameters\" : [\n",
       "                            {\n",
       "                                \"\\uc591\\ud638\" : 0.8964211975223675,\n",
       "                                \"\\uc800\\uc2dc\\uc815\" : 0.02752924982794219,\n",
       "                                \"\\ud48d\\ub791\\uc8fc\\uc758\\ubcf4\" : 0.02339986235375086,\n",
       "                                \"\\ud0dc\\ud48d\\uacbd\\ubcf4\" : 0.015829318651066758,\n",
       "                                \"\\ud669\\ucc9c5\\uae09\" : 0.015485203028217482,\n",
       "                                \"\\ud669\\ucc9c6\\uae09\" : 0.011011699931176875,\n",
       "                                \"\\ud669\\ucc9c4\\uae09\" : 0.0055058499655884375,\n",
       "                                \"\\ud48d\\ub791\\uacbd\\ubcf4\" : 0.0027529249827942187,\n",
       "                                \"\\ud0dc\\ud48d\\uc8fc\\uc758\\ubcf4\" : 0.0020646937370956643\n",
       "                            }\n",
       "                        ],\n",
       "                        \"frozen\" : false\n",
       "                    }\n",
       "                ]\n",
       "            },\n",
       "            \"name\" : \"month\",\n",
       "            \"weight\" : 1.0\n",
       "        }\n",
       "    ]\n",
       "}"
      ]
     },
     "execution_count": 32,
     "metadata": {},
     "output_type": "execute_result"
    }
   ],
   "source": [
    "model"
   ]
  },
  {
   "cell_type": "code",
   "execution_count": null,
   "metadata": {},
   "outputs": [],
   "source": []
  },
  {
   "cell_type": "code",
   "execution_count": null,
   "metadata": {},
   "outputs": [],
   "source": []
  },
  {
   "cell_type": "markdown",
   "metadata": {},
   "source": [
    "#### 추론"
   ]
  },
  {
   "cell_type": "markdown",
   "metadata": {},
   "source": [
    "Probability"
   ]
  },
  {
   "cell_type": "markdown",
   "metadata": {},
   "source": [
    "예시"
   ]
  },
  {
   "cell_type": "code",
   "execution_count": 47,
   "metadata": {
    "ExecuteTime": {
     "end_time": "2021-07-16T00:46:17.637809Z",
     "start_time": "2021-07-16T00:46:17.617916Z"
    }
   },
   "outputs": [
    {
     "data": {
      "text/plain": [
       "[('정비불량', 0.0001918155530334854),\n",
       " ('운항부주의', 8.088376712418298e-06),\n",
       " ('관리소홀', 1.934244268188903e-06),\n",
       " ('연료고갈', 2.6954493195451265e-07),\n",
       " ('화기취급부주의', 9.795492514637682e-08),\n",
       " ('안전부주의', 0.0),\n",
       " ('기타 ', 0.0),\n",
       " ('기상악화', 0.0),\n",
       " ('기상악화(인명은 기타)', 0.0),\n",
       " ('적재불량', 0.0),\n",
       " ('재질불량', 0.0)]"
      ]
     },
     "execution_count": 47,
     "metadata": {},
     "output_type": "execute_result"
    }
   ],
   "source": [
    "cause_list = df.발생원인.unique().tolist()\n",
    "cause_dic = {}\n",
    "for i in cause_list:\n",
    "    probability = model.probability([['양호', 'December', '영해', '여수', i, '어선', '기관손상']])\n",
    "    cause_dic[i]=probability\n",
    "\n",
    "cause_dic = sorted(cause_dic.items(), key=lambda x:x[1], reverse=True)    \n",
    "cause_dic   "
   ]
  },
  {
   "cell_type": "markdown",
   "metadata": {},
   "source": [
    "학습"
   ]
  },
  {
   "cell_type": "code",
   "execution_count": 48,
   "metadata": {
    "ExecuteTime": {
     "end_time": "2021-07-16T00:53:55.382093Z",
     "start_time": "2021-07-16T00:53:52.405615Z"
    },
    "scrolled": true
   },
   "outputs": [
    {
     "name": "stdout",
     "output_type": "stream",
     "text": [
      "정확도: 0.7922971114167813\n"
     ]
    }
   ],
   "source": [
    "# 확률 계산\n",
    "\n",
    "cause_list = df.발생원인.unique().tolist()\n",
    "\n",
    "n=0\n",
    "probability_list = []\n",
    "for i in test_set.index:\n",
    "    data = test_set.loc[i]\n",
    "    기상상태 = data['기상상태']\n",
    "    사고월 = data['사고월']\n",
    "    발생해역 = data['발생해역']\n",
    "    관할해경서 = data['관할해경서']\n",
    "    선종 = data['선종']\n",
    "    발생유형 = data['발생유형']\n",
    "    \n",
    "    발생원인 = data['발생원인']\n",
    "    \n",
    "    \n",
    "    cause_dic = {}\n",
    "    for i in cause_list:\n",
    "        probability = model.probability([[기상상태, 사고월, 발생해역, 관할해경서, i, 선종, 발생유형]])\n",
    "        cause_dic[i]=probability\n",
    "    \n",
    "    cause_dic = sorted(cause_dic.items(), key=lambda x:x[1], reverse=True)\n",
    "    \n",
    "    aa = cause_dic[0][0], 발생원인\n",
    "    probability_list.append(aa)\n",
    "    \n",
    "    if cause_dic[0][0]==발생원인:\n",
    "        n+=1\n",
    "\n",
    "        \n",
    "print('정확도:', n/len(test_set))"
   ]
  },
  {
   "cell_type": "code",
   "execution_count": null,
   "metadata": {},
   "outputs": [],
   "source": []
  },
  {
   "cell_type": "markdown",
   "metadata": {},
   "source": [
    "Prediction"
   ]
  },
  {
   "cell_type": "markdown",
   "metadata": {},
   "source": [
    "예시"
   ]
  },
  {
   "cell_type": "code",
   "execution_count": 49,
   "metadata": {
    "ExecuteTime": {
     "end_time": "2021-07-16T01:05:16.146391Z",
     "start_time": "2021-07-16T01:05:15.805202Z"
    }
   },
   "outputs": [
    {
     "name": "stdout",
     "output_type": "stream",
     "text": [
      "[array(['양호', 'December', '영해', '여수', '정비불량', '어선', '기관손상'], dtype=object)]\n"
     ]
    }
   ],
   "source": [
    "# 예측 변수가 1개일 때\n",
    "\n",
    "probability = model.predict([['양호', 'December', '영해', '여수', None, '어선', '기관손상']])\n",
    "print(probability)"
   ]
  },
  {
   "cell_type": "code",
   "execution_count": 50,
   "metadata": {
    "ExecuteTime": {
     "end_time": "2021-07-16T01:05:35.979922Z",
     "start_time": "2021-07-16T01:05:35.958563Z"
    }
   },
   "outputs": [
    {
     "name": "stdout",
     "output_type": "stream",
     "text": [
      "[array(['양호', 'December', '영해', '여수', '정비불량', '어선', '기관손상'], dtype=object)]\n"
     ]
    }
   ],
   "source": [
    "# 예측 변수가 2개일 때\n",
    "\n",
    "probability = model.predict([['양호', 'December', '영해', '여수', None, '어선', None]])\n",
    "print(probability)"
   ]
  },
  {
   "cell_type": "code",
   "execution_count": null,
   "metadata": {},
   "outputs": [],
   "source": []
  },
  {
   "cell_type": "markdown",
   "metadata": {},
   "source": [
    "학습"
   ]
  },
  {
   "cell_type": "code",
   "execution_count": 51,
   "metadata": {
    "ExecuteTime": {
     "end_time": "2021-07-16T01:06:30.402148Z",
     "start_time": "2021-07-16T01:06:23.741209Z"
    }
   },
   "outputs": [
    {
     "name": "stdout",
     "output_type": "stream",
     "text": [
      "정확도: 0.796423658872077\n"
     ]
    }
   ],
   "source": [
    "# 예측 (예측변수가 1개일 때)\n",
    "\n",
    "cause_list = df.발생원인.unique().tolist()\n",
    "\n",
    "n=0\n",
    "prediction_list = []\n",
    "for i in test_set.index:\n",
    "    data = test_set.loc[i]\n",
    "    기상상태 = data['기상상태']\n",
    "    사고월 = data['사고월']\n",
    "    발생해역 = data['발생해역']\n",
    "    관할해경서 = data['관할해경서']\n",
    "    선종 = data['선종']\n",
    "    발생유형 = data['발생유형']\n",
    "    \n",
    "    발생원인 = data['발생원인']\n",
    "\n",
    "    \n",
    "    #cause_dic = {}\n",
    "\n",
    "    predict_value = model.predict([[기상상태, 사고월, 발생해역, 관할해경서, None, 선종, 발생유형]])[0][4]\n",
    "    aa = predict_value, 발생원인\n",
    "    \n",
    "    prediction_list.append(aa)\n",
    "    if predict_value == 발생원인:\n",
    "        n+=1\n",
    "            \n",
    "\n",
    "print('정확도:', n/len(test_set))"
   ]
  },
  {
   "cell_type": "code",
   "execution_count": null,
   "metadata": {},
   "outputs": [],
   "source": []
  },
  {
   "cell_type": "code",
   "execution_count": null,
   "metadata": {},
   "outputs": [],
   "source": []
  },
  {
   "cell_type": "code",
   "execution_count": null,
   "metadata": {},
   "outputs": [],
   "source": []
  },
  {
   "cell_type": "code",
   "execution_count": null,
   "metadata": {},
   "outputs": [],
   "source": []
  },
  {
   "cell_type": "markdown",
   "metadata": {},
   "source": [
    "probability와 prediction 결과값이 차이나는 경우 왜지.."
   ]
  },
  {
   "cell_type": "code",
   "execution_count": 74,
   "metadata": {
    "ExecuteTime": {
     "end_time": "2021-07-16T01:50:00.732505Z",
     "start_time": "2021-07-16T01:50:00.723131Z"
    }
   },
   "outputs": [
    {
     "name": "stdout",
     "output_type": "stream",
     "text": [
      "522\n",
      "('관리소홀', '정비불량') ('정비불량', '정비불량')\n",
      "695\n",
      "('관리소홀', '정비불량') ('정비불량', '정비불량')\n",
      "701\n",
      "('관리소홀', '정비불량') ('정비불량', '정비불량')\n"
     ]
    }
   ],
   "source": [
    "for i in range(len(probability_list)):\n",
    "    if probability_list[i] != prediction_list[i]:\n",
    "        print(i)\n",
    "        print(probability_list[i], prediction_list[i])"
   ]
  },
  {
   "cell_type": "code",
   "execution_count": 83,
   "metadata": {
    "ExecuteTime": {
     "end_time": "2021-07-16T01:53:30.602267Z",
     "start_time": "2021-07-16T01:53:30.298509Z"
    }
   },
   "outputs": [
    {
     "data": {
      "text/plain": [
       "[('관리소홀', 0.0),\n",
       " ('운항부주의', 0.0),\n",
       " ('정비불량', 0.0),\n",
       " ('안전부주의', 0.0),\n",
       " ('화기취급부주의', 0.0),\n",
       " ('연료고갈', 0.0),\n",
       " ('기타 ', 0.0),\n",
       " ('기상악화', 0.0),\n",
       " ('기상악화(인명은 기타)', 0.0),\n",
       " ('적재불량', 0.0),\n",
       " ('재질불량', 0.0)]"
      ]
     },
     "execution_count": 83,
     "metadata": {},
     "output_type": "execute_result"
    }
   ],
   "source": [
    "i=test_set.index[701]\n",
    "\n",
    "data = test_set.loc[i]\n",
    "기상상태 = data['기상상태']\n",
    "사고월 = data['사고월']\n",
    "발생해역 = data['발생해역']\n",
    "관할해경서 = data['관할해경서']\n",
    "선종 = data['선종']\n",
    "발생유형 = data['발생유형']\n",
    "\n",
    "발생원인 = data['발생원인']\n",
    "\n",
    "\n",
    "cause_dic = {}\n",
    "for i in cause_list:\n",
    "    probability = model.probability([[기상상태, 사고월, 발생해역, 관할해경서, i, 선종, 발생유형]])\n",
    "    cause_dic[i]=probability\n",
    "\n",
    "cause_dic = sorted(cause_dic.items(), key=lambda x:x[1], reverse=True)\n",
    "cause_dic"
   ]
  },
  {
   "cell_type": "code",
   "execution_count": null,
   "metadata": {},
   "outputs": [],
   "source": []
  },
  {
   "cell_type": "code",
   "execution_count": null,
   "metadata": {},
   "outputs": [],
   "source": []
  },
  {
   "cell_type": "code",
   "execution_count": null,
   "metadata": {},
   "outputs": [],
   "source": []
  },
  {
   "cell_type": "code",
   "execution_count": null,
   "metadata": {},
   "outputs": [],
   "source": []
  },
  {
   "cell_type": "markdown",
   "metadata": {},
   "source": [
    "### 모델2"
   ]
  },
  {
   "cell_type": "markdown",
   "metadata": {},
   "source": [
    "모델링이 다를 때 성능 차이 측정"
   ]
  },
  {
   "cell_type": "code",
   "execution_count": 84,
   "metadata": {
    "ExecuteTime": {
     "end_time": "2021-07-16T04:04:51.060928Z",
     "start_time": "2021-07-16T04:04:48.240813Z"
    }
   },
   "outputs": [],
   "source": [
    "#train set 데이터로 확률 및 조건부확률 계산\n",
    "\n",
    "month_p = get_conditional_prob(train_set,'사고월')\n",
    "month_p_dic = {}\n",
    "for i in month_p:\n",
    "    month_p_dic[i[0]]=i[-1]\n",
    "weather_p = get_conditional_prob(train_set,'기상상태', parent1='사고월')\n",
    "cause_p = get_conditional_prob(train_set,'발생원인', parent1='기상상태')\n",
    "accident_type_p = get_conditional_prob(train_set,'발생유형', parent1='발생원인')\n",
    "ocean_p = get_conditional_prob(train_set,'발생해역', parent1='발생유형')\n",
    "vessel_type_p = get_conditional_prob(train_set,'선종', parent1='발생유형')\n",
    "jurisdiction_p = get_conditional_prob(train_set,'관할해경서', parent1='발생해역')"
   ]
  },
  {
   "cell_type": "code",
   "execution_count": 87,
   "metadata": {
    "ExecuteTime": {
     "end_time": "2021-07-16T04:11:13.863433Z",
     "start_time": "2021-07-16T04:11:13.835513Z"
    }
   },
   "outputs": [],
   "source": [
    "# 모델링에 기반하여 모델 생성\n",
    "\n",
    "# 노드 정의\n",
    "month = Node(\n",
    "    DiscreteDistribution(month_p_dic),\n",
    "    name='month'\n",
    "              )\n",
    "\n",
    "weather = Node(\n",
    "    ConditionalProbabilityTable(\n",
    "        weather_p, \n",
    "        [month.distribution]\n",
    "    )\n",
    "    , name='weather'\n",
    ")\n",
    "\n",
    "cause = Node(\n",
    "    ConditionalProbabilityTable(\n",
    "        cause_p, \n",
    "        [weather.distribution]\n",
    "    )\n",
    "    , name='cause'\n",
    ")\n",
    "\n",
    "accident_type = Node(\n",
    "    ConditionalProbabilityTable(\n",
    "        accident_type_p,\n",
    "        [cause.distribution]\n",
    "    )\n",
    "    , name='accident_type'\n",
    ")\n",
    "\n",
    "vessel_type = Node(\n",
    "    ConditionalProbabilityTable(\n",
    "        vessel_type_p,\n",
    "        [accident_type.distribution]\n",
    "    )\n",
    "    , name='vessel_type'\n",
    ")\n",
    "\n",
    "ocean = Node(\n",
    "    ConditionalProbabilityTable(\n",
    "        ocean_p,\n",
    "        [accident_type.distribution]\n",
    "    )\n",
    "    , name='ocean'\n",
    ")\n",
    "\n",
    "\n",
    "jurisdiction = Node(\n",
    "    ConditionalProbabilityTable(\n",
    "        jurisdiction_p,\n",
    "        [ocean.distribution]\n",
    "    )\n",
    "    , name='jurisdiction'\n",
    ")\n",
    "\n",
    "\n",
    "## 모델 생성\n",
    "model = BayesianNetwork()\n",
    "model.add_states(month, weather, cause, accident_type, ocean, vessel_type, jurisdiction)\n",
    "\n",
    "model.add_edge(month, weather)\n",
    "model.add_edge(weather, cause)\n",
    "model.add_edge(cause, accident_type)\n",
    "model.add_edge(accident_type, ocean)\n",
    "model.add_edge(accident_type, vessel_type)\n",
    "model.add_edge(ocean, jurisdiction)\n",
    "\n",
    "\n",
    "\n",
    "# Finalize the topology of the model.\n",
    "# Assign a numerical index to every state and create the underlying arrays corresponding to the states and edges between the states. \n",
    "#This method must be called before any of the probability-calculating methods. This includes converting conditional probability tables into joint probability tables \n",
    "#and creating a list of both marginal and table nodes.\n",
    "model.bake()\n",
    "\n",
    "\n",
    "\n",
    "\n"
   ]
  },
  {
   "cell_type": "code",
   "execution_count": 88,
   "metadata": {
    "ExecuteTime": {
     "end_time": "2021-07-16T04:12:12.337108Z",
     "start_time": "2021-07-16T04:12:09.190070Z"
    }
   },
   "outputs": [
    {
     "name": "stdout",
     "output_type": "stream",
     "text": [
      "정확도: 0.797799174690509\n"
     ]
    }
   ],
   "source": [
    "# 확률 계산\n",
    "\n",
    "cause_list = df.발생원인.unique().tolist()\n",
    "\n",
    "n=0\n",
    "probability_list = []\n",
    "for i in test_set.index:\n",
    "    data = test_set.loc[i]\n",
    "    기상상태 = data['기상상태']\n",
    "    사고월 = data['사고월']\n",
    "    발생해역 = data['발생해역']\n",
    "    관할해경서 = data['관할해경서']\n",
    "    선종 = data['선종']\n",
    "    발생유형 = data['발생유형']\n",
    "    \n",
    "    발생원인 = data['발생원인']\n",
    "    \n",
    "    \n",
    "    cause_dic = {}\n",
    "    for i in cause_list:\n",
    "        probability = model.probability([[사고월, 기상상태, i, 발생유형, 발생해역, 선종, 관할해경서]])\n",
    "        cause_dic[i]=probability\n",
    "    \n",
    "    cause_dic = sorted(cause_dic.items(), key=lambda x:x[1], reverse=True)\n",
    "    \n",
    "    aa = cause_dic[0][0], 발생원인\n",
    "    probability_list.append(aa)\n",
    "    \n",
    "    if cause_dic[0][0]==발생원인:\n",
    "        n+=1\n",
    "\n",
    "        \n",
    "print('정확도:', n/len(test_set))"
   ]
  },
  {
   "cell_type": "code",
   "execution_count": 89,
   "metadata": {
    "ExecuteTime": {
     "end_time": "2021-07-16T04:14:03.680282Z",
     "start_time": "2021-07-16T04:13:56.307412Z"
    }
   },
   "outputs": [
    {
     "name": "stdout",
     "output_type": "stream",
     "text": [
      "정확도: 0.8033012379642366\n"
     ]
    }
   ],
   "source": [
    "# 예측 (예측변수가 1개일 때)\n",
    "\n",
    "cause_list = df.발생원인.unique().tolist()\n",
    "\n",
    "n=0\n",
    "prediction_list = []\n",
    "for i in test_set.index:\n",
    "    data = test_set.loc[i]\n",
    "    기상상태 = data['기상상태']\n",
    "    사고월 = data['사고월']\n",
    "    발생해역 = data['발생해역']\n",
    "    관할해경서 = data['관할해경서']\n",
    "    선종 = data['선종']\n",
    "    발생유형 = data['발생유형']\n",
    "    \n",
    "    발생원인 = data['발생원인']\n",
    "\n",
    "    \n",
    "    #cause_dic = {}\n",
    "\n",
    "    predict_value = model.predict([[사고월, 기상상태, None, 발생유형, 발생해역, 선종, 관할해경서]])[0][2]\n",
    "    aa = predict_value, 발생원인\n",
    "    \n",
    "    prediction_list.append(aa)\n",
    "    if predict_value == 발생원인:\n",
    "        n+=1\n",
    "            \n",
    "\n",
    "print('정확도:', n/len(test_set))"
   ]
  },
  {
   "cell_type": "code",
   "execution_count": 90,
   "metadata": {
    "ExecuteTime": {
     "end_time": "2021-07-16T04:14:35.262939Z",
     "start_time": "2021-07-16T04:14:35.249863Z"
    }
   },
   "outputs": [
    {
     "name": "stdout",
     "output_type": "stream",
     "text": [
      "62\n",
      "('관리소홀', '정비불량') ('정비불량', '정비불량')\n",
      "96\n",
      "('관리소홀', '관리소홀') ('정비불량', '관리소홀')\n",
      "322\n",
      "('관리소홀', '기상악화') ('기상악화', '기상악화')\n",
      "437\n",
      "('관리소홀', '기상악화') ('운항부주의', '기상악화')\n",
      "522\n",
      "('관리소홀', '정비불량') ('정비불량', '정비불량')\n",
      "541\n",
      "('관리소홀', '적재불량') ('운항부주의', '적재불량')\n",
      "565\n",
      "('관리소홀', '운항부주의') ('운항부주의', '운항부주의')\n",
      "695\n",
      "('관리소홀', '정비불량') ('정비불량', '정비불량')\n",
      "700\n",
      "('관리소홀', '운항부주의') ('정비불량', '운항부주의')\n",
      "724\n",
      "('관리소홀', '정비불량') ('화기취급부주의', '정비불량')\n"
     ]
    }
   ],
   "source": [
    "for i in range(len(probability_list)):\n",
    "    if probability_list[i] != prediction_list[i]:\n",
    "        print(i)\n",
    "        print(probability_list[i], prediction_list[i])"
   ]
  },
  {
   "cell_type": "code",
   "execution_count": 97,
   "metadata": {
    "ExecuteTime": {
     "end_time": "2021-07-16T04:22:56.654568Z",
     "start_time": "2021-07-16T04:22:56.628705Z"
    }
   },
   "outputs": [
    {
     "data": {
      "text/plain": [
       "[('관리소홀', 0.0),\n",
       " ('운항부주의', 0.0),\n",
       " ('정비불량', 0.0),\n",
       " ('안전부주의', 0.0),\n",
       " ('화기취급부주의', 0.0),\n",
       " ('연료고갈', 0.0),\n",
       " ('기타 ', 0.0),\n",
       " ('기상악화', 0.0),\n",
       " ('기상악화(인명은 기타)', 0.0),\n",
       " ('적재불량', 0.0),\n",
       " ('재질불량', 0.0)]"
      ]
     },
     "execution_count": 97,
     "metadata": {},
     "output_type": "execute_result"
    }
   ],
   "source": [
    "i=test_set.index[522]\n",
    "\n",
    "data = test_set.loc[i]\n",
    "기상상태 = data['기상상태']\n",
    "사고월 = data['사고월']\n",
    "발생해역 = data['발생해역']\n",
    "관할해경서 = data['관할해경서']\n",
    "선종 = data['선종']\n",
    "발생유형 = data['발생유형']\n",
    "\n",
    "발생원인 = data['발생원인']\n",
    "\n",
    "\n",
    "cause_dic = {}\n",
    "for i in cause_list:\n",
    "    probability = model.probability([[사고월, 기상상태, i, 발생유형, 발생해역, 선종, 관할해경서]])\n",
    "    cause_dic[i]=probability\n",
    "\n",
    "cause_dic = sorted(cause_dic.items(), key=lambda x:x[1], reverse=True)\n",
    "cause_dic"
   ]
  },
  {
   "cell_type": "code",
   "execution_count": null,
   "metadata": {},
   "outputs": [],
   "source": []
  },
  {
   "cell_type": "code",
   "execution_count": null,
   "metadata": {},
   "outputs": [],
   "source": []
  },
  {
   "cell_type": "code",
   "execution_count": null,
   "metadata": {},
   "outputs": [],
   "source": []
  },
  {
   "cell_type": "code",
   "execution_count": null,
   "metadata": {},
   "outputs": [],
   "source": []
  },
  {
   "cell_type": "code",
   "execution_count": null,
   "metadata": {},
   "outputs": [],
   "source": []
  },
  {
   "cell_type": "code",
   "execution_count": null,
   "metadata": {},
   "outputs": [],
   "source": []
  },
  {
   "cell_type": "code",
   "execution_count": null,
   "metadata": {},
   "outputs": [],
   "source": []
  },
  {
   "cell_type": "markdown",
   "metadata": {},
   "source": [
    "참고(코드)"
   ]
  },
  {
   "cell_type": "code",
   "execution_count": 77,
   "metadata": {
    "ExecuteTime": {
     "end_time": "2021-07-15T05:25:27.204431Z",
     "start_time": "2021-07-15T05:25:27.175685Z"
    }
   },
   "outputs": [
    {
     "name": "stdout",
     "output_type": "stream",
     "text": [
      "**********************\n",
      "weather: 양호\n",
      "\n",
      "**********************\n",
      "month: March\n",
      "\n",
      "**********************\n",
      "ocean: 영해\n",
      "\n",
      "**********************\n",
      "jurisdiction: 여수\n",
      "\n",
      "-----------------------\n",
      "cause\n",
      "    연료고갈: 0.0267\n",
      "    안전부주의: 0.0407\n",
      "    관리소홀: 0.5100\n",
      "    운항부주의: 0.1411\n",
      "    재질불량: 0.0407\n",
      "    기상악화: 0.0973\n",
      "    기타 : 0.1177\n",
      "    정비불량: 0.0258\n",
      "    화기취급부주의: 0.0000\n",
      "    적재불량: 0.0000\n",
      "    기상악화(인명은 기타): 0.0000\n",
      "\n",
      "-----------------------\n",
      "vessel_type\n",
      "    유조선: 0.0083\n",
      "    화물선: 0.0249\n",
      "    요트: 0.0319\n",
      "    낚시어선: 0.1001\n",
      "    예부선: 0.0376\n",
      "    관공선: 0.0070\n",
      "    어선: 0.4828\n",
      "    유도선: 0.0070\n",
      "    고무보트: 0.0835\n",
      "    여객선: 0.0096\n",
      "    모터보트: 0.1811\n",
      "    기타(통선): 0.0000\n",
      "    기타: 0.0261\n",
      "\n",
      "**********************\n",
      "accident_type: 기타\n",
      "\n"
     ]
    }
   ],
   "source": [
    "#이게 진짜 marginal distribution으로의 예측값? \n",
    "\n",
    "predictions = model.predict_proba(X={\n",
    "    'weather':'양호',\n",
    "    'month':'March',\n",
    "    'ocean' : '영해', \n",
    "    'jurisdiction' : '여수', \n",
    "    #'vessel_type' : '모터보트', \n",
    "    'accident_type' : '기타'\n",
    "    #'cause':'기타'\n",
    "}, max_iterations=200)\n",
    "\n",
    "# Print predictions for each node\n",
    "for node, prediction in zip(model.states, predictions):\n",
    "    if isinstance(prediction, str):\n",
    "        print('**********************')\n",
    "        print(f\"{node.name}: {prediction}\")\n",
    "        print()\n",
    "        \n",
    "    else:\n",
    "        print('-----------------------')\n",
    "        print(f\"{node.name}\")\n",
    "        for value, probability in prediction.parameters[0].items():\n",
    "            print(f\"    {value}: {probability:.4f}\")\n",
    "        print()"
   ]
  },
  {
   "cell_type": "code",
   "execution_count": null,
   "metadata": {},
   "outputs": [],
   "source": []
  },
  {
   "cell_type": "code",
   "execution_count": null,
   "metadata": {},
   "outputs": [],
   "source": []
  },
  {
   "cell_type": "code",
   "execution_count": null,
   "metadata": {},
   "outputs": [],
   "source": []
  },
  {
   "cell_type": "code",
   "execution_count": null,
   "metadata": {},
   "outputs": [],
   "source": []
  },
  {
   "cell_type": "markdown",
   "metadata": {},
   "source": [
    "### 구조 학습"
   ]
  },
  {
   "cell_type": "markdown",
   "metadata": {},
   "source": [
    "#### 독립성검정 테스트"
   ]
  },
  {
   "cell_type": "code",
   "execution_count": 107,
   "metadata": {
    "ExecuteTime": {
     "end_time": "2021-07-19T04:41:55.896095Z",
     "start_time": "2021-07-19T04:41:55.871812Z"
    }
   },
   "outputs": [
    {
     "data": {
      "text/html": [
       "<div>\n",
       "<style scoped>\n",
       "    .dataframe tbody tr th:only-of-type {\n",
       "        vertical-align: middle;\n",
       "    }\n",
       "\n",
       "    .dataframe tbody tr th {\n",
       "        vertical-align: top;\n",
       "    }\n",
       "\n",
       "    .dataframe thead th {\n",
       "        text-align: right;\n",
       "    }\n",
       "</style>\n",
       "<table border=\"1\" class=\"dataframe\">\n",
       "  <thead>\n",
       "    <tr style=\"text-align: right;\">\n",
       "      <th></th>\n",
       "      <th>발생일시</th>\n",
       "      <th>관할해경서</th>\n",
       "      <th>발생해역</th>\n",
       "      <th>기상상태</th>\n",
       "      <th>발생원인</th>\n",
       "      <th>발생유형</th>\n",
       "      <th>선종</th>\n",
       "      <th>사고월</th>\n",
       "    </tr>\n",
       "  </thead>\n",
       "  <tbody>\n",
       "    <tr>\n",
       "      <th>0</th>\n",
       "      <td>2019-12-31 22:04</td>\n",
       "      <td>포항</td>\n",
       "      <td>영해</td>\n",
       "      <td>양호</td>\n",
       "      <td>관리소홀</td>\n",
       "      <td>기타</td>\n",
       "      <td>모터보트</td>\n",
       "      <td>December</td>\n",
       "    </tr>\n",
       "    <tr>\n",
       "      <th>1</th>\n",
       "      <td>2019-12-31 15:13</td>\n",
       "      <td>포항</td>\n",
       "      <td>영해</td>\n",
       "      <td>양호</td>\n",
       "      <td>운항부주의</td>\n",
       "      <td>충돌</td>\n",
       "      <td>어선</td>\n",
       "      <td>December</td>\n",
       "    </tr>\n",
       "    <tr>\n",
       "      <th>2</th>\n",
       "      <td>2019-12-31 15:13</td>\n",
       "      <td>포항</td>\n",
       "      <td>영해</td>\n",
       "      <td>양호</td>\n",
       "      <td>운항부주의</td>\n",
       "      <td>충돌</td>\n",
       "      <td>화물선</td>\n",
       "      <td>December</td>\n",
       "    </tr>\n",
       "    <tr>\n",
       "      <th>3</th>\n",
       "      <td>2019-12-31 9:33</td>\n",
       "      <td>통영</td>\n",
       "      <td>협수로</td>\n",
       "      <td>양호</td>\n",
       "      <td>운항부주의</td>\n",
       "      <td>부유물감김</td>\n",
       "      <td>어선</td>\n",
       "      <td>December</td>\n",
       "    </tr>\n",
       "    <tr>\n",
       "      <th>4</th>\n",
       "      <td>2019-12-31 8:38</td>\n",
       "      <td>군산</td>\n",
       "      <td>항계 내</td>\n",
       "      <td>양호</td>\n",
       "      <td>관리소홀</td>\n",
       "      <td>침수</td>\n",
       "      <td>어선</td>\n",
       "      <td>December</td>\n",
       "    </tr>\n",
       "  </tbody>\n",
       "</table>\n",
       "</div>"
      ],
      "text/plain": [
       "               발생일시 관할해경서  발생해역 기상상태   발생원인   발생유형    선종       사고월\n",
       "0  2019-12-31 22:04    포항    영해   양호   관리소홀     기타  모터보트  December\n",
       "1  2019-12-31 15:13    포항    영해   양호  운항부주의     충돌    어선  December\n",
       "2  2019-12-31 15:13    포항    영해   양호  운항부주의     충돌   화물선  December\n",
       "3   2019-12-31 9:33    통영   협수로   양호  운항부주의  부유물감김    어선  December\n",
       "4   2019-12-31 8:38    군산  항계 내   양호   관리소홀     침수    어선  December"
      ]
     },
     "execution_count": 107,
     "metadata": {},
     "output_type": "execute_result"
    }
   ],
   "source": [
    "df.head()"
   ]
  },
  {
   "cell_type": "code",
   "execution_count": 124,
   "metadata": {
    "ExecuteTime": {
     "end_time": "2021-07-19T05:28:07.029611Z",
     "start_time": "2021-07-19T05:28:06.702056Z"
    },
    "scrolled": true
   },
   "outputs": [
    {
     "data": {
      "text/html": [
       "<div>\n",
       "<style scoped>\n",
       "    .dataframe tbody tr th:only-of-type {\n",
       "        vertical-align: middle;\n",
       "    }\n",
       "\n",
       "    .dataframe tbody tr th {\n",
       "        vertical-align: top;\n",
       "    }\n",
       "\n",
       "    .dataframe thead th {\n",
       "        text-align: right;\n",
       "    }\n",
       "</style>\n",
       "<table border=\"1\" class=\"dataframe\">\n",
       "  <thead>\n",
       "    <tr style=\"text-align: right;\">\n",
       "      <th>선종</th>\n",
       "      <th>고무보트</th>\n",
       "      <th>관공선</th>\n",
       "      <th>기타</th>\n",
       "      <th>기타(통선)</th>\n",
       "      <th>낚시어선</th>\n",
       "      <th>모터보트</th>\n",
       "      <th>어선</th>\n",
       "      <th>여객선</th>\n",
       "      <th>예부선</th>\n",
       "      <th>요트</th>\n",
       "      <th>유도선</th>\n",
       "      <th>유조선</th>\n",
       "      <th>화물선</th>\n",
       "    </tr>\n",
       "    <tr>\n",
       "      <th>발생유형</th>\n",
       "      <th></th>\n",
       "      <th></th>\n",
       "      <th></th>\n",
       "      <th></th>\n",
       "      <th></th>\n",
       "      <th></th>\n",
       "      <th></th>\n",
       "      <th></th>\n",
       "      <th></th>\n",
       "      <th></th>\n",
       "      <th></th>\n",
       "      <th></th>\n",
       "      <th></th>\n",
       "    </tr>\n",
       "  </thead>\n",
       "  <tbody>\n",
       "    <tr>\n",
       "      <th>기관손상</th>\n",
       "      <td>44</td>\n",
       "      <td>8</td>\n",
       "      <td>22</td>\n",
       "      <td>1</td>\n",
       "      <td>97</td>\n",
       "      <td>195</td>\n",
       "      <td>512</td>\n",
       "      <td>11</td>\n",
       "      <td>32</td>\n",
       "      <td>23</td>\n",
       "      <td>10</td>\n",
       "      <td>21</td>\n",
       "      <td>23</td>\n",
       "    </tr>\n",
       "    <tr>\n",
       "      <th>기타</th>\n",
       "      <td>7</td>\n",
       "      <td>1</td>\n",
       "      <td>9</td>\n",
       "      <td>0</td>\n",
       "      <td>2</td>\n",
       "      <td>13</td>\n",
       "      <td>50</td>\n",
       "      <td>3</td>\n",
       "      <td>8</td>\n",
       "      <td>1</td>\n",
       "      <td>1</td>\n",
       "      <td>2</td>\n",
       "      <td>3</td>\n",
       "    </tr>\n",
       "    <tr>\n",
       "      <th>방향상실</th>\n",
       "      <td>9</td>\n",
       "      <td>1</td>\n",
       "      <td>1</td>\n",
       "      <td>0</td>\n",
       "      <td>1</td>\n",
       "      <td>7</td>\n",
       "      <td>13</td>\n",
       "      <td>1</td>\n",
       "      <td>1</td>\n",
       "      <td>0</td>\n",
       "      <td>0</td>\n",
       "      <td>1</td>\n",
       "      <td>0</td>\n",
       "    </tr>\n",
       "    <tr>\n",
       "      <th>부유물감김</th>\n",
       "      <td>5</td>\n",
       "      <td>7</td>\n",
       "      <td>12</td>\n",
       "      <td>0</td>\n",
       "      <td>62</td>\n",
       "      <td>34</td>\n",
       "      <td>319</td>\n",
       "      <td>10</td>\n",
       "      <td>15</td>\n",
       "      <td>28</td>\n",
       "      <td>5</td>\n",
       "      <td>2</td>\n",
       "      <td>4</td>\n",
       "    </tr>\n",
       "    <tr>\n",
       "      <th>속구손상</th>\n",
       "      <td>1</td>\n",
       "      <td>1</td>\n",
       "      <td>0</td>\n",
       "      <td>0</td>\n",
       "      <td>1</td>\n",
       "      <td>0</td>\n",
       "      <td>2</td>\n",
       "      <td>0</td>\n",
       "      <td>0</td>\n",
       "      <td>0</td>\n",
       "      <td>0</td>\n",
       "      <td>0</td>\n",
       "      <td>1</td>\n",
       "    </tr>\n",
       "    <tr>\n",
       "      <th>시설물손상</th>\n",
       "      <td>0</td>\n",
       "      <td>0</td>\n",
       "      <td>1</td>\n",
       "      <td>0</td>\n",
       "      <td>0</td>\n",
       "      <td>0</td>\n",
       "      <td>1</td>\n",
       "      <td>0</td>\n",
       "      <td>0</td>\n",
       "      <td>0</td>\n",
       "      <td>0</td>\n",
       "      <td>0</td>\n",
       "      <td>1</td>\n",
       "    </tr>\n",
       "    <tr>\n",
       "      <th>운항저해</th>\n",
       "      <td>33</td>\n",
       "      <td>0</td>\n",
       "      <td>9</td>\n",
       "      <td>0</td>\n",
       "      <td>20</td>\n",
       "      <td>112</td>\n",
       "      <td>95</td>\n",
       "      <td>4</td>\n",
       "      <td>11</td>\n",
       "      <td>9</td>\n",
       "      <td>1</td>\n",
       "      <td>1</td>\n",
       "      <td>3</td>\n",
       "    </tr>\n",
       "    <tr>\n",
       "      <th>작업 중 인명사상</th>\n",
       "      <td>0</td>\n",
       "      <td>0</td>\n",
       "      <td>2</td>\n",
       "      <td>0</td>\n",
       "      <td>1</td>\n",
       "      <td>0</td>\n",
       "      <td>123</td>\n",
       "      <td>0</td>\n",
       "      <td>9</td>\n",
       "      <td>0</td>\n",
       "      <td>0</td>\n",
       "      <td>5</td>\n",
       "      <td>8</td>\n",
       "    </tr>\n",
       "    <tr>\n",
       "      <th>전복</th>\n",
       "      <td>10</td>\n",
       "      <td>0</td>\n",
       "      <td>3</td>\n",
       "      <td>0</td>\n",
       "      <td>1</td>\n",
       "      <td>24</td>\n",
       "      <td>57</td>\n",
       "      <td>0</td>\n",
       "      <td>1</td>\n",
       "      <td>1</td>\n",
       "      <td>0</td>\n",
       "      <td>0</td>\n",
       "      <td>0</td>\n",
       "    </tr>\n",
       "    <tr>\n",
       "      <th>접촉</th>\n",
       "      <td>0</td>\n",
       "      <td>2</td>\n",
       "      <td>3</td>\n",
       "      <td>0</td>\n",
       "      <td>2</td>\n",
       "      <td>2</td>\n",
       "      <td>18</td>\n",
       "      <td>1</td>\n",
       "      <td>17</td>\n",
       "      <td>1</td>\n",
       "      <td>1</td>\n",
       "      <td>1</td>\n",
       "      <td>9</td>\n",
       "    </tr>\n",
       "    <tr>\n",
       "      <th>좌초/좌주</th>\n",
       "      <td>1</td>\n",
       "      <td>5</td>\n",
       "      <td>7</td>\n",
       "      <td>0</td>\n",
       "      <td>27</td>\n",
       "      <td>20</td>\n",
       "      <td>105</td>\n",
       "      <td>6</td>\n",
       "      <td>16</td>\n",
       "      <td>5</td>\n",
       "      <td>5</td>\n",
       "      <td>1</td>\n",
       "      <td>0</td>\n",
       "    </tr>\n",
       "    <tr>\n",
       "      <th>추진기손상</th>\n",
       "      <td>75</td>\n",
       "      <td>0</td>\n",
       "      <td>2</td>\n",
       "      <td>0</td>\n",
       "      <td>25</td>\n",
       "      <td>99</td>\n",
       "      <td>89</td>\n",
       "      <td>1</td>\n",
       "      <td>3</td>\n",
       "      <td>9</td>\n",
       "      <td>0</td>\n",
       "      <td>0</td>\n",
       "      <td>0</td>\n",
       "    </tr>\n",
       "    <tr>\n",
       "      <th>충돌</th>\n",
       "      <td>8</td>\n",
       "      <td>0</td>\n",
       "      <td>9</td>\n",
       "      <td>0</td>\n",
       "      <td>31</td>\n",
       "      <td>9</td>\n",
       "      <td>159</td>\n",
       "      <td>0</td>\n",
       "      <td>23</td>\n",
       "      <td>1</td>\n",
       "      <td>2</td>\n",
       "      <td>17</td>\n",
       "      <td>29</td>\n",
       "    </tr>\n",
       "    <tr>\n",
       "      <th>침몰</th>\n",
       "      <td>1</td>\n",
       "      <td>0</td>\n",
       "      <td>5</td>\n",
       "      <td>0</td>\n",
       "      <td>1</td>\n",
       "      <td>13</td>\n",
       "      <td>16</td>\n",
       "      <td>0</td>\n",
       "      <td>6</td>\n",
       "      <td>0</td>\n",
       "      <td>0</td>\n",
       "      <td>0</td>\n",
       "      <td>0</td>\n",
       "    </tr>\n",
       "    <tr>\n",
       "      <th>침수</th>\n",
       "      <td>3</td>\n",
       "      <td>0</td>\n",
       "      <td>17</td>\n",
       "      <td>0</td>\n",
       "      <td>11</td>\n",
       "      <td>52</td>\n",
       "      <td>128</td>\n",
       "      <td>2</td>\n",
       "      <td>9</td>\n",
       "      <td>6</td>\n",
       "      <td>0</td>\n",
       "      <td>3</td>\n",
       "      <td>2</td>\n",
       "    </tr>\n",
       "    <tr>\n",
       "      <th>침수(인명은기타)</th>\n",
       "      <td>0</td>\n",
       "      <td>0</td>\n",
       "      <td>0</td>\n",
       "      <td>0</td>\n",
       "      <td>0</td>\n",
       "      <td>0</td>\n",
       "      <td>1</td>\n",
       "      <td>0</td>\n",
       "      <td>0</td>\n",
       "      <td>0</td>\n",
       "      <td>0</td>\n",
       "      <td>0</td>\n",
       "      <td>0</td>\n",
       "    </tr>\n",
       "    <tr>\n",
       "      <th>키손상</th>\n",
       "      <td>0</td>\n",
       "      <td>1</td>\n",
       "      <td>1</td>\n",
       "      <td>0</td>\n",
       "      <td>10</td>\n",
       "      <td>11</td>\n",
       "      <td>68</td>\n",
       "      <td>3</td>\n",
       "      <td>3</td>\n",
       "      <td>1</td>\n",
       "      <td>0</td>\n",
       "      <td>2</td>\n",
       "      <td>7</td>\n",
       "    </tr>\n",
       "    <tr>\n",
       "      <th>폭발</th>\n",
       "      <td>0</td>\n",
       "      <td>0</td>\n",
       "      <td>0</td>\n",
       "      <td>0</td>\n",
       "      <td>0</td>\n",
       "      <td>0</td>\n",
       "      <td>1</td>\n",
       "      <td>0</td>\n",
       "      <td>0</td>\n",
       "      <td>0</td>\n",
       "      <td>1</td>\n",
       "      <td>1</td>\n",
       "      <td>0</td>\n",
       "    </tr>\n",
       "    <tr>\n",
       "      <th>해양오염</th>\n",
       "      <td>0</td>\n",
       "      <td>0</td>\n",
       "      <td>11</td>\n",
       "      <td>0</td>\n",
       "      <td>0</td>\n",
       "      <td>2</td>\n",
       "      <td>24</td>\n",
       "      <td>1</td>\n",
       "      <td>15</td>\n",
       "      <td>0</td>\n",
       "      <td>0</td>\n",
       "      <td>19</td>\n",
       "      <td>16</td>\n",
       "    </tr>\n",
       "    <tr>\n",
       "      <th>화재</th>\n",
       "      <td>0</td>\n",
       "      <td>1</td>\n",
       "      <td>11</td>\n",
       "      <td>0</td>\n",
       "      <td>10</td>\n",
       "      <td>3</td>\n",
       "      <td>77</td>\n",
       "      <td>2</td>\n",
       "      <td>12</td>\n",
       "      <td>0</td>\n",
       "      <td>0</td>\n",
       "      <td>5</td>\n",
       "      <td>3</td>\n",
       "    </tr>\n",
       "  </tbody>\n",
       "</table>\n",
       "</div>"
      ],
      "text/plain": [
       "선종         고무보트  관공선  기타  기타(통선)  낚시어선  모터보트   어선  여객선  예부선  요트  유도선  유조선  화물선\n",
       "발생유형                                                                          \n",
       "기관손상         44    8  22       1    97   195  512   11   32  23   10   21   23\n",
       "기타            7    1   9       0     2    13   50    3    8   1    1    2    3\n",
       "방향상실          9    1   1       0     1     7   13    1    1   0    0    1    0\n",
       "부유물감김         5    7  12       0    62    34  319   10   15  28    5    2    4\n",
       "속구손상          1    1   0       0     1     0    2    0    0   0    0    0    1\n",
       "시설물손상         0    0   1       0     0     0    1    0    0   0    0    0    1\n",
       "운항저해         33    0   9       0    20   112   95    4   11   9    1    1    3\n",
       "작업 중 인명사상     0    0   2       0     1     0  123    0    9   0    0    5    8\n",
       "전복           10    0   3       0     1    24   57    0    1   1    0    0    0\n",
       "접촉            0    2   3       0     2     2   18    1   17   1    1    1    9\n",
       "좌초/좌주         1    5   7       0    27    20  105    6   16   5    5    1    0\n",
       "추진기손상        75    0   2       0    25    99   89    1    3   9    0    0    0\n",
       "충돌            8    0   9       0    31     9  159    0   23   1    2   17   29\n",
       "침몰            1    0   5       0     1    13   16    0    6   0    0    0    0\n",
       "침수            3    0  17       0    11    52  128    2    9   6    0    3    2\n",
       "침수(인명은기타)     0    0   0       0     0     0    1    0    0   0    0    0    0\n",
       "키손상           0    1   1       0    10    11   68    3    3   1    0    2    7\n",
       "폭발            0    0   0       0     0     0    1    0    0   0    1    1    0\n",
       "해양오염          0    0  11       0     0     2   24    1   15   0    0   19   16\n",
       "화재            0    1  11       0    10     3   77    2   12   0    0    5    3"
      ]
     },
     "execution_count": 124,
     "metadata": {},
     "output_type": "execute_result"
    }
   ],
   "source": [
    "pd.crosstab(df['발생유형'],df['선종'])"
   ]
  },
  {
   "cell_type": "code",
   "execution_count": 118,
   "metadata": {
    "ExecuteTime": {
     "end_time": "2021-07-19T04:43:21.822465Z",
     "start_time": "2021-07-19T04:43:21.777708Z"
    }
   },
   "outputs": [
    {
     "name": "stdout",
     "output_type": "stream",
     "text": [
      "Chi2 Statistic: 1613.4198895108862, p-value: 6.703331339381882e-207\n"
     ]
    }
   ],
   "source": [
    "from scipy.stats import chi2_contingency\n",
    "\n",
    "chi_res  = chi2_contingency(pd.crosstab(df['발생유형'],df['선종']))\n",
    "print('Chi2 Statistic: {}, p-value: {}'.format(chi_res[0], chi_res[1]))"
   ]
  },
  {
   "cell_type": "code",
   "execution_count": 123,
   "metadata": {
    "ExecuteTime": {
     "end_time": "2021-07-19T04:45:53.043093Z",
     "start_time": "2021-07-19T04:45:53.006441Z"
    }
   },
   "outputs": [
    {
     "name": "stdout",
     "output_type": "stream",
     "text": [
      "Chi2 Statistic: 2709.8063208239246, p-value: 0.0\n"
     ]
    }
   ],
   "source": [
    "chi_res  = chi2_contingency(pd.crosstab(df['관할해경서'],df['발생해역']))\n",
    "print('Chi2 Statistic: {}, p-value: {}'.format(chi_res[0], chi_res[1]))"
   ]
  },
  {
   "cell_type": "code",
   "execution_count": null,
   "metadata": {},
   "outputs": [],
   "source": [
    "# 아무것도 독립이 아님.\n",
    "# 근데 그래프 구조는 어떻게 구함?? "
   ]
  },
  {
   "cell_type": "code",
   "execution_count": null,
   "metadata": {},
   "outputs": [],
   "source": [
    "#참고\n",
    "#Graph Structure Simulation\n",
    "#http://pgmlearning.herokuapp.com/k3LearningApp"
   ]
  },
  {
   "cell_type": "code",
   "execution_count": null,
   "metadata": {},
   "outputs": [],
   "source": [
    "import numpy as np\n",
    "import pandas as pd\n",
    "from xverse.feature_subset import FeatureSubset\n",
    "from xverse.transformer import MonotonicBinning\n",
    "from xverse.feature_subset import SplitXY\n",
    "\n",
    "fac_var = [ 'SEX','EDUCATION','MARRIAGE']\n",
    "target_var = ['default payment next month']\n",
    "\n",
    "df[fac_var] = df[fac_var].astype(\"category\")\n",
    "test[fac_var] = test[fac_var].astype(\"category\")\n",
    "\n",
    "clf = SplitXY(target_var) #Split the dataset into X and y\n",
    "X, y = clf.fit_transform(df) #returns features (X) dataset and target(Y) as a numpy array\n",
    "testX, testy = clf.transform(test)\n",
    "\n",
    "clf = MonotonicBinning()\n",
    "clf.fit(X, y)\n",
    "\n",
    "out_X = clf.transform(X)\n",
    "test_X = clf.transform(testX)\n",
    "\n",
    "for col in out_X.columns.tolist() :\n",
    "    out_X[col] = out_X[col].cat.add_categories(\"missing\").fillna(\"missing\")\n",
    "    test_X[col] = test_X[col].cat.add_categories(\"missing\").fillna(\"missing\")"
   ]
  },
  {
   "cell_type": "code",
   "execution_count": null,
   "metadata": {},
   "outputs": [],
   "source": []
  },
  {
   "cell_type": "code",
   "execution_count": null,
   "metadata": {},
   "outputs": [],
   "source": []
  },
  {
   "cell_type": "code",
   "execution_count": null,
   "metadata": {},
   "outputs": [],
   "source": []
  },
  {
   "cell_type": "code",
   "execution_count": null,
   "metadata": {},
   "outputs": [],
   "source": []
  },
  {
   "cell_type": "markdown",
   "metadata": {},
   "source": [
    "#### 튜토리얼"
   ]
  },
  {
   "cell_type": "code",
   "execution_count": 7,
   "metadata": {
    "ExecuteTime": {
     "end_time": "2021-07-22T03:53:27.479784Z",
     "start_time": "2021-07-22T03:52:58.794991Z"
    }
   },
   "outputs": [
    {
     "name": "stdout",
     "output_type": "stream",
     "text": [
      "Collecting memory_profiler\n",
      "  Downloading memory_profiler-0.58.0.tar.gz (36 kB)\n",
      "Requirement already satisfied: psutil in c:\\users\\jihyun\\anaconda3\\lib\\site-packages (from memory_profiler) (5.7.2)\n",
      "Building wheels for collected packages: memory-profiler\n",
      "  Building wheel for memory-profiler (setup.py): started\n",
      "  Building wheel for memory-profiler (setup.py): finished with status 'done'\n",
      "  Created wheel for memory-profiler: filename=memory_profiler-0.58.0-py3-none-any.whl size=30185 sha256=4f48439cd2489c7860950d9d859a63f3f3f2ef1b07ff9c9ca4cd5d11bfed47c8\n",
      "  Stored in directory: c:\\users\\jihyun\\appdata\\local\\pip\\cache\\wheels\\6a\\37\\3e\\d9e8ebaf73956a3ebd2ee41869444dbd2a702d7142bcf93c42\n",
      "Successfully built memory-profiler\n",
      "Installing collected packages: memory-profiler\n",
      "Successfully installed memory-profiler-0.58.0\n"
     ]
    }
   ],
   "source": [
    "!pip install memory_profiler"
   ]
  },
  {
   "cell_type": "code",
   "execution_count": 1,
   "metadata": {},
   "outputs": [
    {
     "name": "stdout",
     "output_type": "stream",
     "text": [
      "peak memory: 52.03 MiB, increment: 0.17 MiB\n"
     ]
    }
   ],
   "source": [
    "#Jupyter에서 외장 모듈을 불러온다\n",
    "%load_ext memory_profiler\n",
    "\n",
    "#Jupyter에서 메모리 사용량 확인\n",
    "%memit"
   ]
  },
  {
   "cell_type": "code",
   "execution_count": null,
   "metadata": {},
   "outputs": [],
   "source": []
  },
  {
   "cell_type": "code",
   "execution_count": 66,
   "metadata": {
    "ExecuteTime": {
     "end_time": "2021-07-22T03:51:55.280310Z",
     "start_time": "2021-07-22T03:51:55.195666Z"
    }
   },
   "outputs": [
    {
     "name": "stdout",
     "output_type": "stream",
     "text": [
      "Populating the interactive namespace from numpy and matplotlib\n",
      "The memory_profiler extension is already loaded. To reload it, use:\n",
      "  %reload_ext memory_profiler\n"
     ]
    }
   ],
   "source": [
    "%pylab inline\n",
    "%load_ext memory_profiler\n",
    "\n",
    "from pomegranate import BayesianNetwork\n",
    "import seaborn, time\n",
    "import matplotlib\n",
    "seaborn.set_style('whitegrid')\n",
    "\n",
    "X = numpy.random.randint(2, size=(2000, 7))\n",
    "X[:,3] = X[:,1]\n",
    "X[:,6] = X[:,1]\n",
    "\n",
    "X[:,0] = X[:,2]\n",
    "\n",
    "X[:,4] = X[:,5]\n",
    "\n",
    "# model = BayesianNetwork.from_samples(X, algorithm='exact-dp')\n",
    "# print(model.structure)\n",
    "#model.plot()"
   ]
  },
  {
   "cell_type": "code",
   "execution_count": 69,
   "metadata": {},
   "outputs": [
    {
     "name": "stdout",
     "output_type": "stream",
     "text": [
      "((), (), (0,), (1,), (), (4,), (3,))\n",
      "((), (), (0,), (1,), (), (4,), (3,))\n",
      "((), (2,), (0,), (1,), (0,), (4,), (1,))\n",
      "((), (), (0,), (1,), (), (4,), (1,))\n"
     ]
    }
   ],
   "source": [
    "model = BayesianNetwork.from_samples(X, algorithm='exact')\n",
    "print(model.structure)\n",
    "model = BayesianNetwork.from_samples(X, algorithm='exact-dp')\n",
    "print(model.structure)\n",
    "model = BayesianNetwork.from_samples(X, algorithm='chow-liu')\n",
    "print(model.structure)\n",
    "model = BayesianNetwork.from_samples(X, algorithm='greedy')\n",
    "print(model.structure)"
   ]
  },
  {
   "cell_type": "code",
   "execution_count": 29,
   "metadata": {},
   "outputs": [
    {
     "data": {
      "text/plain": [
       "((), (), (0,), (1,), (), (4,), (3,))"
      ]
     },
     "execution_count": 29,
     "metadata": {},
     "output_type": "execute_result"
    }
   ],
   "source": [
    "model.structure"
   ]
  },
  {
   "cell_type": "code",
   "execution_count": 20,
   "metadata": {},
   "outputs": [
    {
     "data": {
      "text/plain": [
       "array([[1, 0, 1, ..., 0, 0, 0],\n",
       "       [0, 0, 0, ..., 1, 1, 0],\n",
       "       [0, 0, 0, ..., 0, 0, 0],\n",
       "       ...,\n",
       "       [0, 0, 0, ..., 0, 0, 0],\n",
       "       [0, 1, 0, ..., 0, 0, 1],\n",
       "       [1, 0, 1, ..., 1, 1, 0]])"
      ]
     },
     "execution_count": 20,
     "metadata": {},
     "output_type": "execute_result"
    }
   ],
   "source": [
    "X"
   ]
  },
  {
   "cell_type": "code",
   "execution_count": 14,
   "metadata": {},
   "outputs": [],
   "source": [
    "import time"
   ]
  },
  {
   "cell_type": "code",
   "execution_count": 12,
   "metadata": {},
   "outputs": [
    {
     "name": "stderr",
     "output_type": "stream",
     "text": [
      "C:\\Users\\JIHYUN\\anaconda3\\lib\\site-packages\\sklearn\\utils\\validation.py:67: FutureWarning: Pass n_class=10, return_X_y=True as keyword args. From version 0.25 passing these as positional arguments will result in an error\n",
      "  warnings.warn(\"Pass {} as keyword args. From version 0.25 \"\n"
     ]
    },
    {
     "data": {
      "image/png": "[encoded data removed]",
      "text/plain": [
       "<Figure size 1008x288 with 3 Axes>"
      ]
     },
     "metadata": {
      "needs_background": "light"
     },
     "output_type": "display_data"
    }
   ],
   "source": [
    "from sklearn.datasets import load_digits\n",
    "import matplotlib.pyplot as plt\n",
    "\n",
    "X, y = load_digits(10, True)\n",
    "X = X > numpy.mean(X)\n",
    "\n",
    "plt.figure(figsize=(14, 4))\n",
    "plt.subplot(131)\n",
    "plt.imshow(X[0].reshape(8, 8), interpolation='nearest')\n",
    "plt.grid(True)\n",
    "\n",
    "plt.subplot(132)\n",
    "plt.imshow(X[1].reshape(8, 8), interpolation='nearest')\n",
    "plt.grid(True)\n",
    "\n",
    "plt.subplot(133)\n",
    "plt.imshow(X[2].reshape(8, 8), interpolation='nearest')\n",
    "plt.grid(True)"
   ]
  },
  {
   "cell_type": "code",
   "execution_count": 80,
   "metadata": {},
   "outputs": [
    {
     "name": "stdout",
     "output_type": "stream",
     "text": [
      "Shortest Path\n",
      "Time (s):  91.34069418907166\n",
      "P(D|M):  -8267.950447476833\n",
      "peak memory: 1995.34 MiB, increment: 1766.09 MiB\n",
      "\n",
      "A* Search\n",
      "Time (s):  61.00853371620178\n",
      "P(D|M):  -8267.950447476833\n",
      "peak memory: 720.02 MiB, increment: 489.35 MiB\n"
     ]
    }
   ],
   "source": [
    "X = X[:,:18]\n",
    "    \n",
    "tic = time.time()\n",
    "model1 = BayesianNetwork.from_samples(X, algorithm='exact-dp') # << BNSL done here!\n",
    "t1 = time.time() - tic\n",
    "p1 = model1.log_probability(X).sum()\n",
    "\n",
    "tic = time.time()\n",
    "model2 = BayesianNetwork.from_samples(X, algorithm='exact')\n",
    "t2 = time.time() - tic\n",
    "p2 = model2.log_probability(X).sum()\n",
    "\n",
    "\n",
    "print(\"Shortest Path\")\n",
    "print(\"Time (s): \", t1)\n",
    "print(\"P(D|M): \", p1)\n",
    "%memit BayesianNetwork.from_samples(X, algorithm='exact-dp')\n",
    "print()\n",
    "print(\"A* Search\")\n",
    "print(\"Time (s): \", t2)\n",
    "print(\"P(D|M): \", p2)\n",
    "%memit BayesianNetwork.from_samples(X, algorithm='exact')"
   ]
  },
  {
   "cell_type": "code",
   "execution_count": 81,
   "metadata": {},
   "outputs": [
    {
     "name": "stdout",
     "output_type": "stream",
     "text": [
      "Chow-Liu\n",
      "Time (s):  0.06877636909484863\n",
      "P(D|M):  -8752.32666094451\n",
      "peak memory: 240.11 MiB, increment: 0.00 MiB\n"
     ]
    }
   ],
   "source": [
    "tic = time.time()\n",
    "model3 = BayesianNetwork.from_samples(X, algorithm='chow-liu') # << Default BNSL setting\n",
    "t = time.time() - tic\n",
    "p = model3.log_probability(X).sum()\n",
    "\n",
    "print(\"Chow-Liu\")\n",
    "print(\"Time (s): \", t)\n",
    "print(\"P(D|M): \", p)\n",
    "%memit BayesianNetwork.from_samples(X, algorithm='chow-liu')"
   ]
  },
  {
   "cell_type": "code",
   "execution_count": null,
   "metadata": {},
   "outputs": [],
   "source": [
    "tic = time.time()\n",
    "model4 = BayesianNetwork.from_samples(X, algorithm='greedy') # << Default BNSL setting\n",
    "t = time.time() - tic\n",
    "p = model4.log_probability(X).sum()\n",
    "\n",
    "print(\"Greedy\")\n",
    "print(\"Time (s): \", t)\n",
    "print(\"P(D|M): \", p)\n",
    "%memit BayesianNetwork.from_samples(X, algorithm='greedy')"
   ]
  },
  {
   "cell_type": "code",
   "execution_count": 86,
   "metadata": {},
   "outputs": [
    {
     "name": "stdout",
     "output_type": "stream",
     "text": [
      "((), (9,), (0, 3, 8, 16), (0, 8, 16), (2, 5, 12, 13), (3, 13, 16), (5, 14, 16), (6, 15, 16), (0,), (2, 16, 17), (2, 3, 16), (0, 2, 3, 8, 16), (3, 11, 16), (8, 10, 11, 12, 16), (2, 5, 13, 16), (13, 14, 16), (0, 8), (5, 10, 12, 16))\n",
      "\n",
      "((), (9,), (0, 3, 8, 10), (0, 8), (2, 5, 12, 13), (3, 13), (5, 14), (6, 15), (0,), (2, 16, 17), (0, 3, 8), (2, 3), (3, 11), (8, 10, 11, 12), (2, 5, 13), (13, 14), (3, 4, 5, 8, 10, 11, 12, 13), (5, 10, 12, 16))\n",
      "\n",
      "((), (0,), (9,), (10,), (5,), (13,), (5,), (6,), (0,), (1,), (2,), (13,), (4,), (10,), (6,), (7,), (0,), (9,))\n",
      "\n",
      "((), (0, 8, 16), (0, 9, 10, 11), (0, 11), (0, 3), (0, 4, 6, 13, 14), (0, 4, 7), (0,), (0,), (0, 10, 11), (0, 3, 11, 14), (0,), (0, 3, 4), (0, 4, 10, 12, 14), (0, 6, 15), (0, 7), (0, 8), (0, 9, 10))\n"
     ]
    }
   ],
   "source": [
    "print(model1.structure)\n",
    "print()\n",
    "print(model2.structure)\n",
    "print()\n",
    "print(model3.structure)\n",
    "print()\n",
    "print(model4.structure)"
   ]
  },
  {
   "cell_type": "code",
   "execution_count": null,
   "metadata": {},
   "outputs": [],
   "source": []
  },
  {
   "cell_type": "markdown",
   "metadata": {},
   "source": [
    "#### Comparison"
   ]
  },
  {
   "cell_type": "code",
   "execution_count": 87,
   "metadata": {},
   "outputs": [],
   "source": [
    "X, _ = load_digits(10, True)\n",
    "X = X > numpy.mean(X)\n",
    "\n",
    "t1, t2, t3, t4 = [], [], [], []\n",
    "p1, p2, p3, p4 = [], [], [], []\n",
    "n_vars = range(8, 19)\n",
    "\n",
    "for i in n_vars:\n",
    "    X_ = X[:,:i]\n",
    "\n",
    "    tic = time.time()\n",
    "    model = BayesianNetwork.from_samples(X_, algorithm='exact-dp') # << BNSL done here!\n",
    "    t1.append(time.time() - tic)\n",
    "    p1.append(model.log_probability(X_).sum())\n",
    "\n",
    "    tic = time.time()\n",
    "    model = BayesianNetwork.from_samples(X_, algorithm='exact')\n",
    "    t2.append(time.time() - tic)\n",
    "    p2.append(model.log_probability(X_).sum())\n",
    "\n",
    "    tic = time.time()\n",
    "    model = BayesianNetwork.from_samples(X_, algorithm='greedy')\n",
    "    t3.append(time.time() - tic)\n",
    "    p3.append(model.log_probability(X_).sum())\n",
    "\n",
    "    tic = time.time()\n",
    "    model = BayesianNetwork.from_samples(X_, algorithm='chow-liu')\n",
    "    t4.append(time.time() - tic)\n",
    "    p4.append(model.log_probability(X_).sum())"
   ]
  },
  {
   "cell_type": "code",
   "execution_count": 88,
   "metadata": {},
   "outputs": [
    {
     "data": {
      "text/plain": [
       "<matplotlib.legend.Legend at 0x2bf7930acd0>"
      ]
     },
     "execution_count": 88,
     "metadata": {},
     "output_type": "execute_result"
    },
    {
     "data": {
      "image/png": "[encoded data removed]",
      "text/plain": [
       "<Figure size 1008x288 with 2 Axes>"
      ]
     },
     "metadata": {},
     "output_type": "display_data"
    }
   ],
   "source": [
    "plt.figure(figsize=(14, 4))\n",
    "plt.subplot(121)\n",
    "plt.title(\"Time to Learn Structure\", fontsize=14)\n",
    "plt.xticks(fontsize=14)\n",
    "plt.yticks(fontsize=14)\n",
    "plt.ylabel(\"Time (s)\", fontsize=14)\n",
    "plt.xlabel(\"Variables\", fontsize=14)\n",
    "plt.plot(n_vars, t1, c='c', label=\"Exact Shortest\")\n",
    "plt.plot(n_vars, t2, c='m', label=\"Exact A*\")\n",
    "plt.plot(n_vars, t3, c='g', label=\"Greedy\")\n",
    "plt.plot(n_vars, t4, c='r', label=\"Chow-Liu\")\n",
    "plt.legend(fontsize=14, loc=2)\n",
    "\n",
    "plt.subplot(122)\n",
    "plt.title(\"$P(D|M)$ with Resulting Model\", fontsize=14)\n",
    "plt.xlabel(\"Variables\", fontsize=14)\n",
    "plt.ylabel(\"logp\", fontsize=14)\n",
    "plt.plot(n_vars, p1, c='c', label=\"Exact Shortest\")\n",
    "plt.plot(n_vars, p2, c='m', label=\"Exact A*\")\n",
    "plt.plot(n_vars, p3, c='g', label=\"Greedy\")\n",
    "plt.plot(n_vars, p4, c='r', label=\"Chow-Liu\")\n",
    "plt.legend(fontsize=14)"
   ]
  },
  {
   "cell_type": "code",
   "execution_count": null,
   "metadata": {},
   "outputs": [],
   "source": []
  },
  {
   "cell_type": "code",
   "execution_count": null,
   "metadata": {},
   "outputs": [],
   "source": []
  },
  {
   "cell_type": "code",
   "execution_count": null,
   "metadata": {},
   "outputs": [],
   "source": []
  },
  {
   "cell_type": "code",
   "execution_count": null,
   "metadata": {},
   "outputs": [],
   "source": []
  },
  {
   "cell_type": "code",
   "execution_count": null,
   "metadata": {},
   "outputs": [],
   "source": []
  },
  {
   "cell_type": "code",
   "execution_count": null,
   "metadata": {},
   "outputs": [],
   "source": []
  },
  {
   "cell_type": "code",
   "execution_count": 76,
   "metadata": {},
   "outputs": [
    {
     "data": {
      "text/plain": [
       "4.884164579855314"
      ]
     },
     "execution_count": 76,
     "metadata": {},
     "output_type": "execute_result"
    }
   ],
   "source": [
    "X, y = load_digits(10, True)\n",
    "numpy.mean(X)"
   ]
  },
  {
   "cell_type": "code",
   "execution_count": 74,
   "metadata": {},
   "outputs": [
    {
     "name": "stdout",
     "output_type": "stream",
     "text": [
      "[False False False  True  True  True False False False False False  True\n",
      "  True  True False False False False False  True  True  True False False\n",
      " False  True  True  True  True False False False False False False  True\n",
      "  True False False False False False False  True  True  True False False\n",
      " False False False  True  True  True False False False False False  True\n",
      "  True  True False False]\n"
     ]
    },
    {
     "data": {
      "text/plain": [
       "array([[False, False,  True,  True,  True, False, False, False],\n",
       "       [False, False,  True,  True,  True,  True,  True, False],\n",
       "       [False, False,  True, False, False,  True,  True, False],\n",
       "       [False, False,  True, False, False,  True,  True, False],\n",
       "       [False,  True,  True, False, False,  True,  True, False],\n",
       "       [False, False,  True, False, False,  True,  True, False],\n",
       "       [False, False,  True,  True,  True,  True, False, False],\n",
       "       [False, False,  True,  True,  True, False, False, False]])"
      ]
     },
     "execution_count": 74,
     "metadata": {},
     "output_type": "execute_result"
    }
   ],
   "source": [
    "print(X[1])\n",
    "X[0].reshape(8, 8)"
   ]
  },
  {
   "cell_type": "code",
   "execution_count": 54,
   "metadata": {},
   "outputs": [
    {
     "name": "stdout",
     "output_type": "stream",
     "text": [
      "64\n"
     ]
    },
    {
     "data": {
      "text/plain": [
       "array([[ 0.,  0.,  5., ...,  0.,  0.,  0.],\n",
       "       [ 0.,  0.,  0., ..., 10.,  0.,  0.],\n",
       "       [ 0.,  0.,  0., ..., 16.,  9.,  0.],\n",
       "       ...,\n",
       "       [ 0.,  0.,  1., ...,  6.,  0.,  0.],\n",
       "       [ 0.,  0.,  2., ..., 12.,  0.,  0.],\n",
       "       [ 0.,  0., 10., ..., 12.,  1.,  0.]])"
      ]
     },
     "execution_count": 54,
     "metadata": {},
     "output_type": "execute_result"
    }
   ],
   "source": [
    "print(len(X[0]))\n",
    "X"
   ]
  },
  {
   "cell_type": "code",
   "execution_count": 45,
   "metadata": {},
   "outputs": [
    {
     "name": "stdout",
     "output_type": "stream",
     "text": [
      "1797\n"
     ]
    },
    {
     "data": {
      "text/plain": [
       "array([0, 1, 2, ..., 8, 9, 8])"
      ]
     },
     "execution_count": 45,
     "metadata": {},
     "output_type": "execute_result"
    }
   ],
   "source": [
    "print(len(y))\n",
    "y"
   ]
  },
  {
   "cell_type": "code",
   "execution_count": 77,
   "metadata": {},
   "outputs": [
    {
     "name": "stdout",
     "output_type": "stream",
     "text": [
      "[ 0.  0.  5. 13.  9.  1.  0.  0.  0.  0. 13. 15. 10. 15.  5.  0.  0.  3.\n",
      " 15.  2.  0. 11.  8.  0.  0.  4. 12.  0.  0.  8.  8.  0.  0.  5.  8.  0.\n",
      "  0.  9.  8.  0.  0.  4. 11.  0.  1. 12.  7.  0.  0.  2. 14.  5. 10. 12.\n",
      "  0.  0.  0.  0.  6. 13. 10.  0.  0.  0.]\n",
      "4.59375\n",
      "0\n"
     ]
    }
   ],
   "source": [
    "print(X[0])\n",
    "print(numpy.mean(X[0]))\n",
    "print(y[0])"
   ]
  },
  {
   "cell_type": "code",
   "execution_count": 60,
   "metadata": {},
   "outputs": [
    {
     "name": "stdout",
     "output_type": "stream",
     "text": [
      "[ 0.  0.  5. 11. 16. 16.  8.  0.  0.  0. 15. 14.  8. 12. 15.  0.  0.  0.\n",
      "  0.  0.  2. 14.  9.  0.  0.  0.  0.  0. 11. 12.  1.  0.  0.  0.  0.  1.\n",
      " 16.  5.  0.  0.  0.  0.  0.  1. 14.  9.  0.  0.  0.  0.  1.  4. 15.  9.\n",
      "  0.  0.  0.  0.  7. 16. 11.  2.  0.  0.]\n",
      "3\n"
     ]
    }
   ],
   "source": [
    "print(X[231])\n",
    "print(y[231])"
   ]
  },
  {
   "cell_type": "code",
   "execution_count": 42,
   "metadata": {},
   "outputs": [
    {
     "data": {
      "text/plain": [
       "array([[False, False,  True, ..., False, False, False],\n",
       "       [False, False, False, ...,  True, False, False],\n",
       "       [False, False, False, ...,  True,  True, False],\n",
       "       ...,\n",
       "       [False, False, False, ...,  True, False, False],\n",
       "       [False, False, False, ...,  True, False, False],\n",
       "       [False, False,  True, ...,  True, False, False]])"
      ]
     },
     "execution_count": 42,
     "metadata": {},
     "output_type": "execute_result"
    }
   ],
   "source": [
    "A = X > numpy.mean(X)\n",
    "A"
   ]
  },
  {
   "cell_type": "code",
   "execution_count": 89,
   "metadata": {},
   "outputs": [
    {
     "ename": "ModuleNotFoundError",
     "evalue": "No module named 'pygraphviz'",
     "output_type": "error",
     "traceback": [
      "\u001b[1;31m---------------------------------------------------------------------------\u001b[0m",
      "\u001b[1;31mModuleNotFoundError\u001b[0m                       Traceback (most recent call last)",
      "\u001b[1;32m<ipython-input-89-9bd5e1787774>\u001b[0m in \u001b[0;36m<module>\u001b[1;34m\u001b[0m\n\u001b[0;32m      5\u001b[0m \u001b[0mconstraints\u001b[0m\u001b[1;33m.\u001b[0m\u001b[0madd_edge\u001b[0m\u001b[1;33m(\u001b[0m\u001b[1;34m'genetic conditions'\u001b[0m\u001b[1;33m,\u001b[0m \u001b[1;34m'diseases'\u001b[0m\u001b[1;33m)\u001b[0m\u001b[1;33m\u001b[0m\u001b[1;33m\u001b[0m\u001b[0m\n\u001b[0;32m      6\u001b[0m \u001b[0mconstraints\u001b[0m\u001b[1;33m.\u001b[0m\u001b[0madd_edge\u001b[0m\u001b[1;33m(\u001b[0m\u001b[1;34m'diseases'\u001b[0m\u001b[1;33m,\u001b[0m \u001b[1;34m'symptoms'\u001b[0m\u001b[1;33m)\u001b[0m\u001b[1;33m\u001b[0m\u001b[1;33m\u001b[0m\u001b[0m\n\u001b[1;32m----> 7\u001b[1;33m \u001b[0mplot_networkx\u001b[0m\u001b[1;33m(\u001b[0m\u001b[0mconstraints\u001b[0m\u001b[1;33m)\u001b[0m\u001b[1;33m\u001b[0m\u001b[1;33m\u001b[0m\u001b[0m\n\u001b[0m",
      "\u001b[1;32m~\\anaconda3\\lib\\site-packages\\pomegranate\\utils.pyx\u001b[0m in \u001b[0;36mpomegranate.utils.plot_networkx\u001b[1;34m()\u001b[0m\n",
      "\u001b[1;31mModuleNotFoundError\u001b[0m: No module named 'pygraphviz'"
     ]
    }
   ],
   "source": [
    "import networkx\n",
    "from pomegranate.utils import plot_networkx\n",
    "\n",
    "constraints = networkx.DiGraph()\n",
    "constraints.add_edge('genetic conditions', 'diseases')\n",
    "constraints.add_edge('diseases', 'symptoms')\n",
    "plot_networkx(constraints)\n"
   ]
  },
  {
   "cell_type": "code",
   "execution_count": null,
   "metadata": {},
   "outputs": [],
   "source": []
  },
  {
   "cell_type": "code",
   "execution_count": null,
   "metadata": {},
   "outputs": [],
   "source": []
  },
  {
   "cell_type": "code",
   "execution_count": null,
   "metadata": {},
   "outputs": [],
   "source": []
  },
  {
   "cell_type": "code",
   "execution_count": null,
   "metadata": {},
   "outputs": [],
   "source": []
  },
  {
   "cell_type": "code",
   "execution_count": null,
   "metadata": {},
   "outputs": [],
   "source": []
  },
  {
   "cell_type": "code",
   "execution_count": null,
   "metadata": {},
   "outputs": [],
   "source": []
  },
  {
   "cell_type": "code",
   "execution_count": 31,
   "metadata": {},
   "outputs": [
    {
     "name": "stdout",
     "output_type": "stream",
     "text": [
      "(3633, 7)\n"
     ]
    }
   ],
   "source": [
    "import pandas as pd\n",
    "import numpy as np\n",
    "from pomegranate import * \n",
    "from sklearn.model_selection import train_test_split\n",
    "\n",
    "df = pd.read_csv('./Data/해양경찰청_해상조난사고_상세데이터_현황_20191231.csv', encoding='euckr')\n",
    "df.rename(columns={'선 종':'선종'},inplace=True)\n",
    "df = df[['발생일시','관할해경서','발생해역','기상상태','발생원인','발생유형','선종']]\n",
    "df = df.drop_duplicates()\n",
    "df['사고월']=df['발생일시'].apply(lambda x: 'January' if x.split('-')[1]=='01' \\\n",
    "                                    else 'February' if x.split('-')[1]=='02'\\\n",
    "                                    else 'March' if x.split('-')[1]=='03'\\\n",
    "                                    else 'April' if x.split('-')[1]=='04'\\\n",
    "                                    else 'May' if x.split('-')[1]=='05'\\\n",
    "                                    else 'June' if x.split('-')[1]=='06'\\\n",
    "                                    else 'July' if x.split('-')[1]=='07'\\\n",
    "                                    else 'August' if x.split('-')[1]=='08'\\\n",
    "                                    else 'September' if x.split('-')[1]=='09'\\\n",
    "                                    else 'October' if x.split('-')[1]=='10'\\\n",
    "                                    else 'November' if x.split('-')[1]=='11'\\\n",
    "                                    else 'December' if x.split('-')[1]=='12'\\\n",
    "                                    else 'etc'\n",
    "                           )\n",
    "\n",
    "df = df[['관할해경서','발생해역','기상상태','발생원인','발생유형','선종','사고월']]\n",
    "\n",
    "# train set, test set split\n",
    "train_set, test_set = train_test_split(df, test_size=0.2, random_state=42)\n",
    "ar = df.to_numpy()\n",
    "print(ar.shape)"
   ]
  },
  {
   "cell_type": "code",
   "execution_count": 32,
   "metadata": {},
   "outputs": [
    {
     "name": "stdout",
     "output_type": "stream",
     "text": [
      "((1,), (3,), (), (4,), (), (1,), ())\n"
     ]
    }
   ],
   "source": [
    "model = BayesianNetwork.from_samples(ar, algorithm='exact')\n",
    "print(model.structure)"
   ]
  },
  {
   "cell_type": "code",
   "execution_count": 8,
   "metadata": {},
   "outputs": [
    {
     "name": "stdout",
     "output_type": "stream",
     "text": [
      "((1,), (3,), (), (4,), (), (1,), ())\n"
     ]
    }
   ],
   "source": [
    "model = BayesianNetwork.from_samples(ar, algorithm='exact-dp')\n",
    "print(model.structure)"
   ]
  },
  {
   "cell_type": "code",
   "execution_count": 9,
   "metadata": {},
   "outputs": [
    {
     "name": "stdout",
     "output_type": "stream",
     "text": [
      "((1,), (), (), (1,), (3,), (1,), ())\n"
     ]
    }
   ],
   "source": [
    "model = BayesianNetwork.from_samples(ar, algorithm='greedy')\n",
    "print(model.structure)"
   ]
  },
  {
   "cell_type": "code",
   "execution_count": 10,
   "metadata": {},
   "outputs": [
    {
     "name": "stdout",
     "output_type": "stream",
     "text": [
      "((), (0,), (0,), (4,), (5,), (0,), (0,))\n"
     ]
    }
   ],
   "source": [
    "model = BayesianNetwork.from_samples(ar, algorithm='chow-liu')\n",
    "print(model.structure)"
   ]
  },
  {
   "cell_type": "code",
   "execution_count": null,
   "metadata": {},
   "outputs": [],
   "source": []
  },
  {
   "cell_type": "code",
   "execution_count": 12,
   "metadata": {},
   "outputs": [],
   "source": [
    "import networkx as nx"
   ]
  },
  {
   "cell_type": "code",
   "execution_count": 27,
   "metadata": {
    "scrolled": true
   },
   "outputs": [
    {
     "data": {
      "text/plain": [
       "'NanumGothic'"
      ]
     },
     "execution_count": 27,
     "metadata": {},
     "output_type": "execute_result"
    }
   ],
   "source": [
    "font_name"
   ]
  },
  {
   "cell_type": "code",
   "execution_count": null,
   "metadata": {},
   "outputs": [],
   "source": [
    "font_name"
   ]
  },
  {
   "cell_type": "code",
   "execution_count": 26,
   "metadata": {},
   "outputs": [
    {
     "name": "stdout",
     "output_type": "stream",
     "text": [
      "('NanumGothic', 'C:\\\\Users\\\\JIHYUN\\\\AppData\\\\Local\\\\Microsoft\\\\Windows\\\\Fonts\\\\NanumGothicBold.ttf')\n",
      "('NanumGothic', 'C:\\\\Users\\\\JIHYUN\\\\AppData\\\\Local\\\\Microsoft\\\\Windows\\\\Fonts\\\\NanumGothicExtraBold.ttf')\n",
      "('NanumGothic', 'C:\\\\Users\\\\JIHYUN\\\\AppData\\\\Local\\\\Microsoft\\\\Windows\\\\Fonts\\\\NanumGothicLight.ttf')\n",
      "('NanumGothic', 'C:\\\\Users\\\\JIHYUN\\\\AppData\\\\Local\\\\Microsoft\\\\Windows\\\\Fonts\\\\NanumGothic.ttf')\n"
     ]
    }
   ],
   "source": [
    "import matplotlib.pyplot as plt\n",
    "import matplotlib.font_manager as fm\n",
    "from matplotlib import rc\n",
    "\n",
    "font_paths = [(f.name, f.fname) for f in fm.fontManager.ttflist if 'Nanum' in f.name]\n",
    "for i in font_paths:\n",
    "    print(i)\n",
    "path = 'C:\\\\Users\\\\JIHYUN\\\\AppData\\\\Local\\\\Microsoft\\\\Windows\\\\Fonts\\\\NanumGothic.ttf'\n",
    "\n",
    "\n",
    "font_name = fm.FontProperties(fname=path).get_name()\n",
    "plt.rc('font', family=font_name, size=30)"
   ]
  },
  {
   "cell_type": "code",
   "execution_count": 30,
   "metadata": {},
   "outputs": [
    {
     "data": {
      "image/png": "[encoded data removed]",
      "text/plain": [
       "<Figure size 576x360 with 1 Axes>"
      ]
     },
     "metadata": {},
     "output_type": "display_data"
    }
   ],
   "source": [
    "import networkx as nx\n",
    "\n",
    "fig = plt.figure(figsize=(8, 5))\n",
    "g = nx.DiGraph()\n",
    "g.add_nodes_from(['가','나'])\n",
    "nx.draw(g, with_labels=True,font_family=font_name, edge_color='gray', node_size=3000, node_shape='h'\\\n",
    "       , cmap=plt.cm.Blues, font_size=30)\n",
    "plt.show()"
   ]
  },
  {
   "cell_type": "code",
   "execution_count": null,
   "metadata": {},
   "outputs": [],
   "source": []
  },
  {
   "cell_type": "code",
   "execution_count": 72,
   "metadata": {},
   "outputs": [
    {
     "data": {
      "image/png": "[encoded data removed]",
      "text/plain": [
       "<Figure size 720x576 with 1 Axes>"
      ]
     },
     "metadata": {},
     "output_type": "display_data"
    }
   ],
   "source": [
    "g = nx.DiGraph()\n",
    "g.add_nodes_from(df.columns.tolist())\n",
    "g.add_edges_from(edges)\n",
    "\n",
    "fig = plt.figure(figsize=(10, 8))\n",
    "\n",
    "pos = nx.spring_layout(g)\n",
    "nx.draw(g, with_labels=True,font_family=font_name, edge_color='gray', node_size=3000, node_color='lightsalmon'\\\n",
    "       , cmap=plt.cm.Blues, font_size=15)"
   ]
  },
  {
   "cell_type": "code",
   "execution_count": null,
   "metadata": {},
   "outputs": [],
   "source": []
  },
  {
   "cell_type": "code",
   "execution_count": 73,
   "metadata": {},
   "outputs": [],
   "source": [
    "nodes = df.columns.tolist()\n",
    "structure = model.structure"
   ]
  },
  {
   "cell_type": "code",
   "execution_count": 74,
   "metadata": {},
   "outputs": [],
   "source": [
    "edges = []\n",
    "for i in range(len(nodes)):\n",
    "    try:\n",
    "        edges.append((nodes[structure[i][0]], nodes[i]))\n",
    "    except IndexError:\n",
    "        pass"
   ]
  },
  {
   "cell_type": "code",
   "execution_count": 52,
   "metadata": {
    "scrolled": true
   },
   "outputs": [
    {
     "data": {
      "text/plain": [
       "[('발생해역', '관할해경서'), ('발생원인', '발생해역'), ('발생유형', '발생원인'), ('발생해역', '선종')]"
      ]
     },
     "execution_count": 52,
     "metadata": {},
     "output_type": "execute_result"
    }
   ],
   "source": [
    "edges"
   ]
  },
  {
   "cell_type": "code",
   "execution_count": null,
   "metadata": {},
   "outputs": [],
   "source": []
  },
  {
   "cell_type": "code",
   "execution_count": null,
   "metadata": {},
   "outputs": [],
   "source": []
  },
  {
   "cell_type": "code",
   "execution_count": null,
   "metadata": {},
   "outputs": [],
   "source": []
  },
  {
   "cell_type": "code",
   "execution_count": 7,
   "metadata": {},
   "outputs": [
    {
     "data": {
      "text/plain": [
       "0.049787068367863944"
      ]
     },
     "execution_count": 7,
     "metadata": {},
     "output_type": "execute_result"
    }
   ],
   "source": [
    "import math\n",
    "\n",
    "a = -3\n",
    "math.exp(a)"
   ]
  }
 ],
 "metadata": {
  "hide_input": false,
  "kernelspec": {
   "display_name": "Python 3",
   "language": "python",
   "name": "python3"
  },
  "language_info": {
   "codemirror_mode": {
    "name": "ipython",
    "version": 3
   },
   "file_extension": ".py",
   "mimetype": "text/x-python",
   "name": "python",
   "nbconvert_exporter": "python",
   "pygments_lexer": "ipython3",
   "version": "3.8.5"
  },
  "toc": {
   "base_numbering": 1,
   "nav_menu": {},
   "number_sections": true,
   "sideBar": true,
   "skip_h1_title": false,
   "title_cell": "Table of Contents",
   "title_sidebar": "Contents",
   "toc_cell": false,
   "toc_position": {
    "height": "calc(100% - 180px)",
    "left": "10px",
    "top": "150px",
    "width": "426.641px"
   },
   "toc_section_display": true,
   "toc_window_display": true
  },
  "varInspector": {
   "cols": {
    "lenName": 16,
    "lenType": 16,
    "lenVar": 40
   },
   "kernels_config": {
    "python": {
     "delete_cmd_postfix": "",
     "delete_cmd_prefix": "del ",
     "library": "var_list.py",
     "varRefreshCmd": "print(var_dic_list())"
    },
    "r": {
     "delete_cmd_postfix": ") ",
     "delete_cmd_prefix": "rm(",
     "library": "var_list.r",
     "varRefreshCmd": "cat(var_dic_list()) "
    }
   },
   "types_to_exclude": [
    "module",
    "function",
    "builtin_function_or_method",
    "instance",
    "_Feature"
   ],
   "window_display": false
  }
 },
 "nbformat": 4,
 "nbformat_minor": 4
}
